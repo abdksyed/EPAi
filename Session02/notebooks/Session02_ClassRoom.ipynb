{
 "cells": [
  {
   "cell_type": "code",
   "execution_count": 1,
   "metadata": {
    "cell_id": "358ed617-2617-46af-a604-c925712e8ac6",
    "tags": []
   },
   "outputs": [],
   "source": [
    "my_var = 10"
   ]
  },
  {
   "cell_type": "code",
   "execution_count": 2,
   "metadata": {
    "cell_id": "cdfbb7ac-cad3-4218-b31a-ba30daeba415",
    "tags": []
   },
   "outputs": [
    {
     "data": {
      "text/plain": [
       "140728572814000"
      ]
     },
     "execution_count": 2,
     "metadata": {},
     "output_type": "execute_result"
    }
   ],
   "source": [
    "id(my_var)"
   ]
  },
  {
   "cell_type": "code",
   "execution_count": 3,
   "metadata": {
    "cell_id": "5d3f911b-8068-4c75-a17a-8985e956c96d",
    "tags": []
   },
   "outputs": [
    {
     "data": {
      "text/plain": [
       "1553225549872"
      ]
     },
     "execution_count": 3,
     "metadata": {},
     "output_type": "execute_result"
    }
   ],
   "source": [
    "my_var_1 = \"hello\"\n",
    "id(my_var_1)"
   ]
  },
  {
   "cell_type": "code",
   "execution_count": 4,
   "metadata": {
    "cell_id": "525f07c9-3c8a-4a2a-a0f2-fd1f2b083e2d",
    "tags": []
   },
   "outputs": [
    {
     "data": {
      "text/plain": [
       "'0x169a3750830'"
      ]
     },
     "execution_count": 4,
     "metadata": {},
     "output_type": "execute_result"
    }
   ],
   "source": [
    "hex(id(my_var_1))"
   ]
  },
  {
   "cell_type": "code",
   "execution_count": 5,
   "metadata": {
    "cell_id": "24dcccfc-3100-4e1e-9676-e8a18a7fd836",
    "tags": []
   },
   "outputs": [],
   "source": [
    "my_var_2 = 10"
   ]
  },
  {
   "cell_type": "code",
   "execution_count": 6,
   "metadata": {
    "cell_id": "6bbdaccf-4879-4c6e-bd40-8a80c64cdcc1",
    "tags": []
   },
   "outputs": [
    {
     "data": {
      "text/plain": [
       "140728572814000"
      ]
     },
     "execution_count": 6,
     "metadata": {},
     "output_type": "execute_result"
    }
   ],
   "source": [
    "id(my_var_2)"
   ]
  },
  {
   "cell_type": "code",
   "execution_count": 7,
   "metadata": {
    "cell_id": "7cfcdef7-daba-4ce2-b8b0-11338537f77d",
    "tags": []
   },
   "outputs": [
    {
     "data": {
      "text/plain": [
       "140728572814000"
      ]
     },
     "execution_count": 7,
     "metadata": {},
     "output_type": "execute_result"
    }
   ],
   "source": [
    "id(my_var)"
   ]
  },
  {
   "cell_type": "code",
   "execution_count": 8,
   "metadata": {
    "cell_id": "ad82fd87-1a3a-4e15-a4b1-53bda301a198",
    "tags": []
   },
   "outputs": [],
   "source": [
    "import sys"
   ]
  },
  {
   "cell_type": "code",
   "execution_count": 9,
   "metadata": {
    "cell_id": "6a0ef57b-497a-4cd4-9ce6-d72b5a1372b5",
    "tags": []
   },
   "outputs": [],
   "source": [
    "a = [1, 2, 3, 1, 3, '4', 's']"
   ]
  },
  {
   "cell_type": "code",
   "execution_count": 10,
   "metadata": {
    "cell_id": "418fdb22-444d-4844-af20-b2798c2e841b",
    "tags": []
   },
   "outputs": [
    {
     "data": {
      "text/plain": [
       "1553224587144"
      ]
     },
     "execution_count": 10,
     "metadata": {},
     "output_type": "execute_result"
    }
   ],
   "source": [
    "id(a)"
   ]
  },
  {
   "cell_type": "code",
   "execution_count": 11,
   "metadata": {
    "cell_id": "fab3a90f-da7d-4caa-8172-edb5375d2da3",
    "tags": []
   },
   "outputs": [
    {
     "data": {
      "text/plain": [
       "2"
      ]
     },
     "execution_count": 11,
     "metadata": {},
     "output_type": "execute_result"
    }
   ],
   "source": [
    "sys.getrefcount(a) #all good, but remember to subtract 1, as getrefcount is adding itself too"
   ]
  },
  {
   "cell_type": "code",
   "execution_count": 12,
   "metadata": {
    "cell_id": "c3d2cf07-3e97-483d-8279-222474adba1d",
    "tags": []
   },
   "outputs": [
    {
     "data": {
      "text/plain": [
       "140728572813712"
      ]
     },
     "execution_count": 12,
     "metadata": {},
     "output_type": "execute_result"
    }
   ],
   "source": [
    "id(a[3])"
   ]
  },
  {
   "cell_type": "code",
   "execution_count": 13,
   "metadata": {
    "cell_id": "fd0f2f72-2706-4863-bbce-b4ea995ca51c",
    "tags": []
   },
   "outputs": [
    {
     "data": {
      "text/plain": [
       "1553224587144"
      ]
     },
     "execution_count": 13,
     "metadata": {},
     "output_type": "execute_result"
    }
   ],
   "source": [
    "id(a)"
   ]
  },
  {
   "cell_type": "code",
   "execution_count": 14,
   "metadata": {
    "cell_id": "6b012750-d54e-485a-9b58-0f10d1bd32dc",
    "tags": []
   },
   "outputs": [
    {
     "data": {
      "text/plain": [
       "140728572813712"
      ]
     },
     "execution_count": 14,
     "metadata": {},
     "output_type": "execute_result"
    }
   ],
   "source": [
    "id(a[0])"
   ]
  },
  {
   "cell_type": "code",
   "execution_count": 15,
   "metadata": {
    "cell_id": "bfc9df1d-748b-4e16-b6e6-b2f5f9af0339",
    "tags": []
   },
   "outputs": [],
   "source": [
    "a = [1, 2, 3, 1, 3, '4', 's']"
   ]
  },
  {
   "cell_type": "code",
   "execution_count": 16,
   "metadata": {
    "cell_id": "cd68adec-c1df-4a2d-8cf5-ed92f7cf145d",
    "tags": []
   },
   "outputs": [
    {
     "name": "stdout",
     "output_type": "stream",
     "text": [
      "140728572813712 140728572813712\n"
     ]
    }
   ],
   "source": [
    "print(id(a[0]), id(a[3]))"
   ]
  },
  {
   "cell_type": "code",
   "execution_count": 17,
   "metadata": {
    "cell_id": "6572ad5d-6307-4e67-a2a2-66a6196d1421",
    "tags": []
   },
   "outputs": [
    {
     "data": {
      "text/plain": [
       "140728572813712"
      ]
     },
     "execution_count": 17,
     "metadata": {},
     "output_type": "execute_result"
    }
   ],
   "source": [
    "id(1)"
   ]
  },
  {
   "cell_type": "code",
   "execution_count": 18,
   "metadata": {
    "cell_id": "87c3ca0a-7dfd-470b-b49d-908db15f91f3",
    "tags": []
   },
   "outputs": [
    {
     "data": {
      "text/plain": [
       "2"
      ]
     },
     "execution_count": 18,
     "metadata": {},
     "output_type": "execute_result"
    }
   ],
   "source": [
    "sys.getrefcount(a) #all good, but remember to subtract 1, as getrefcount is adding itself too"
   ]
  },
  {
   "cell_type": "code",
   "execution_count": 19,
   "metadata": {
    "cell_id": "3a10a560-5ea6-46cb-8243-e776b3cb45e9",
    "tags": []
   },
   "outputs": [],
   "source": [
    "b = None"
   ]
  },
  {
   "cell_type": "code",
   "execution_count": 20,
   "metadata": {
    "cell_id": "8ca77427-4def-42b5-a584-599f354e8001",
    "tags": []
   },
   "outputs": [
    {
     "data": {
      "text/plain": [
       "38530"
      ]
     },
     "execution_count": 20,
     "metadata": {},
     "output_type": "execute_result"
    }
   ],
   "source": [
    "sys.getrefcount(b)"
   ]
  },
  {
   "cell_type": "code",
   "execution_count": 21,
   "metadata": {
    "cell_id": "328789ca-8691-499d-99ed-7c987e29376a",
    "tags": []
   },
   "outputs": [],
   "source": [
    "d = [1, 2, 3, 5, \"rohan\"]"
   ]
  },
  {
   "cell_type": "code",
   "execution_count": 22,
   "metadata": {
    "cell_id": "9f4b4739-b32e-4187-9d7f-57fa80ece663",
    "tags": []
   },
   "outputs": [
    {
     "data": {
      "text/plain": [
       "2"
      ]
     },
     "execution_count": 22,
     "metadata": {},
     "output_type": "execute_result"
    }
   ],
   "source": [
    "sys.getrefcount(d)"
   ]
  },
  {
   "cell_type": "code",
   "execution_count": 23,
   "metadata": {
    "cell_id": "ef367002-0bb9-4da9-9c85-570d7c5b76b6",
    "tags": []
   },
   "outputs": [
    {
     "data": {
      "text/plain": [
       "1553224595720"
      ]
     },
     "execution_count": 23,
     "metadata": {},
     "output_type": "execute_result"
    }
   ],
   "source": [
    "id(d)"
   ]
  },
  {
   "cell_type": "code",
   "execution_count": 24,
   "metadata": {
    "cell_id": "058e1ce4-2e05-4ead-84c4-9761df73f73b",
    "tags": []
   },
   "outputs": [
    {
     "data": {
      "text/plain": [
       "2"
      ]
     },
     "execution_count": 24,
     "metadata": {},
     "output_type": "execute_result"
    }
   ],
   "source": [
    "sys.getrefcount(d)"
   ]
  },
  {
   "cell_type": "code",
   "execution_count": 25,
   "metadata": {
    "cell_id": "0c38a35c-cc09-49d7-b2c0-12b0d64f448c",
    "tags": []
   },
   "outputs": [],
   "source": [
    "e = [1, 2, 3, 5, 6, 43, 3, 2, 44, \"tsai\", \"rudrakant\"]"
   ]
  },
  {
   "cell_type": "code",
   "execution_count": 26,
   "metadata": {
    "cell_id": "5f670d21-d88e-44a8-8efd-739e2e1e49ba",
    "tags": []
   },
   "outputs": [
    {
     "data": {
      "text/plain": [
       "2"
      ]
     },
     "execution_count": 26,
     "metadata": {},
     "output_type": "execute_result"
    }
   ],
   "source": [
    "sys.getrefcount(e)"
   ]
  },
  {
   "cell_type": "code",
   "execution_count": 27,
   "metadata": {
    "cell_id": "7f19b351-dc2a-42db-b5fe-472c7eb7b0bf",
    "tags": []
   },
   "outputs": [],
   "source": [
    "f = [1, 2, 3, 5, 6, 43, 3, 2, 44, \"rudrakant\", \"this is not going to be intered\"]"
   ]
  },
  {
   "cell_type": "code",
   "execution_count": 28,
   "metadata": {
    "cell_id": "e7b5b1be-6613-4d1b-91c8-f1dc5912c35e",
    "tags": []
   },
   "outputs": [
    {
     "data": {
      "text/plain": [
       "2"
      ]
     },
     "execution_count": 28,
     "metadata": {},
     "output_type": "execute_result"
    }
   ],
   "source": [
    "sys.getrefcount(f)"
   ]
  },
  {
   "cell_type": "code",
   "execution_count": 29,
   "metadata": {
    "cell_id": "2a39f8ad-a5fb-457c-a981-4d4edbdfc86d",
    "tags": []
   },
   "outputs": [
    {
     "data": {
      "text/plain": [
       "2"
      ]
     },
     "execution_count": 29,
     "metadata": {},
     "output_type": "execute_result"
    }
   ],
   "source": [
    "sys.getrefcount(f)"
   ]
  },
  {
   "cell_type": "code",
   "execution_count": 30,
   "metadata": {
    "cell_id": "44edfaa2-bf07-4a49-a9cf-67cfad26f364",
    "collapsed": true,
    "tags": []
   },
   "outputs": [
    {
     "ename": "NameError",
     "evalue": "name 'name_file_model' is not defined",
     "output_type": "error",
     "traceback": [
      "\u001b[1;31m---------------------------------------------------------------------------\u001b[0m",
      "\u001b[1;31mNameError\u001b[0m                                 Traceback (most recent call last)",
      "\u001b[1;32m<ipython-input-30-c6f641b7e1ed>\u001b[0m in \u001b[0;36m<module>\u001b[1;34m\u001b[0m\n\u001b[1;32m----> 1\u001b[1;33m \u001b[0msys\u001b[0m\u001b[1;33m.\u001b[0m\u001b[0mgetrefcount\u001b[0m\u001b[1;33m(\u001b[0m\u001b[0mname_file_model\u001b[0m\u001b[1;33m)\u001b[0m\u001b[1;33m\u001b[0m\u001b[1;33m\u001b[0m\u001b[0m\n\u001b[0m",
      "\u001b[1;31mNameError\u001b[0m: name 'name_file_model' is not defined"
     ]
    }
   ],
   "source": [
    "sys.getrefcount(name_file_model)"
   ]
  },
  {
   "cell_type": "code",
   "execution_count": 30,
   "metadata": {
    "cell_id": "cecbb9a8-26d6-4c04-b27e-1260082e2ac5",
    "tags": []
   },
   "outputs": [],
   "source": [
    "import ctypes"
   ]
  },
  {
   "cell_type": "code",
   "execution_count": 31,
   "metadata": {
    "cell_id": "65607ba0-97a3-4494-995d-e304668746b0",
    "tags": []
   },
   "outputs": [],
   "source": [
    "def ref_count(address : int): #what is int doing here? Annotations\n",
    "    return ctypes.c_long.from_address(address).value"
   ]
  },
  {
   "cell_type": "code",
   "execution_count": 32,
   "metadata": {
    "cell_id": "1ab61724-bb60-45ee-89f5-eb49b27a0b20",
    "tags": []
   },
   "outputs": [],
   "source": [
    "ab = [1, \"college is fun\", {3, 4, 5, \"a dog\"}]"
   ]
  },
  {
   "cell_type": "code",
   "execution_count": 33,
   "metadata": {
    "cell_id": "37d336d6-c91f-4485-a0f6-2db06bcff891",
    "tags": []
   },
   "outputs": [
    {
     "data": {
      "text/plain": [
       "1553251585224"
      ]
     },
     "execution_count": 33,
     "metadata": {},
     "output_type": "execute_result"
    }
   ],
   "source": [
    "id(ab)"
   ]
  },
  {
   "cell_type": "code",
   "execution_count": 34,
   "metadata": {
    "cell_id": "d8394cda-9321-4c46-905e-dae82591b4ef",
    "tags": []
   },
   "outputs": [
    {
     "data": {
      "text/plain": [
       "1"
      ]
     },
     "execution_count": 34,
     "metadata": {},
     "output_type": "execute_result"
    }
   ],
   "source": [
    "ref_count(1553251585224)"
   ]
  },
  {
   "cell_type": "code",
   "execution_count": 35,
   "metadata": {
    "cell_id": "a1291b46-04cb-46f0-bf07-5809499d1b57",
    "tags": []
   },
   "outputs": [
    {
     "data": {
      "text/plain": [
       "1"
      ]
     },
     "execution_count": 35,
     "metadata": {},
     "output_type": "execute_result"
    }
   ],
   "source": [
    "t = [1, 2, 43, \"rewer, asda, asdas\"]\n",
    "ref_count(id(t))"
   ]
  },
  {
   "cell_type": "code",
   "execution_count": 36,
   "metadata": {
    "cell_id": "e67e2fec-dcc1-47e2-9a84-0f3d2cd89f6b",
    "tags": []
   },
   "outputs": [
    {
     "data": {
      "text/plain": [
       "1"
      ]
     },
     "execution_count": 36,
     "metadata": {},
     "output_type": "execute_result"
    }
   ],
   "source": [
    "ref_count(id(t))"
   ]
  },
  {
   "cell_type": "code",
   "execution_count": 37,
   "metadata": {
    "cell_id": "7cb73d84-a5c3-4fd5-88cb-516bae2c5257",
    "tags": []
   },
   "outputs": [
    {
     "data": {
      "text/plain": [
       "1"
      ]
     },
     "execution_count": 37,
     "metadata": {},
     "output_type": "execute_result"
    }
   ],
   "source": [
    "ref_count(id(t))"
   ]
  },
  {
   "cell_type": "code",
   "execution_count": 38,
   "metadata": {
    "cell_id": "5ad293ff-efcb-4f92-b5ea-1543f41a0c84",
    "tags": []
   },
   "outputs": [
    {
     "data": {
      "text/plain": [
       "1"
      ]
     },
     "execution_count": 38,
     "metadata": {},
     "output_type": "execute_result"
    }
   ],
   "source": [
    "w = [1, 2, 3, 'red hearing', 'games of thrones']\n",
    "id_w = id(w)\n",
    "v = w\n",
    "w = None\n",
    "\n",
    "# id(w) is a reference to the memory address to w... 0x1200\n",
    "# id_w = id(w), creating a new object 0x1200.. and that is stored 0x1239\n",
    "ref_count(id_w)\n"
   ]
  },
  {
   "cell_type": "code",
   "execution_count": 39,
   "metadata": {
    "cell_id": "b9003356-5c5a-4c60-82c1-e43f6134bc99",
    "tags": []
   },
   "outputs": [
    {
     "data": {
      "text/plain": [
       "1"
      ]
     },
     "execution_count": 39,
     "metadata": {},
     "output_type": "execute_result"
    }
   ],
   "source": [
    "v = None\n",
    "ref_count(id_w)"
   ]
  },
  {
   "cell_type": "code",
   "execution_count": 40,
   "metadata": {
    "cell_id": "277bbd8a-d3e7-4620-8758-53154e0a1d92",
    "tags": []
   },
   "outputs": [
    {
     "data": {
      "text/plain": [
       "1"
      ]
     },
     "execution_count": 40,
     "metadata": {},
     "output_type": "execute_result"
    }
   ],
   "source": [
    "ref_count(id_w)"
   ]
  },
  {
   "cell_type": "code",
   "execution_count": 41,
   "metadata": {
    "cell_id": "152fd391-3b73-4cc0-a4e9-774f82156599",
    "tags": []
   },
   "outputs": [
    {
     "data": {
      "text/plain": [
       "1"
      ]
     },
     "execution_count": 41,
     "metadata": {},
     "output_type": "execute_result"
    }
   ],
   "source": [
    "ref_count(id_w)"
   ]
  },
  {
   "cell_type": "code",
   "execution_count": 42,
   "metadata": {
    "cell_id": "25a3d0b1-0089-40a6-9c3f-3ed21d421ee7",
    "tags": []
   },
   "outputs": [
    {
     "data": {
      "text/plain": [
       "1"
      ]
     },
     "execution_count": 42,
     "metadata": {},
     "output_type": "execute_result"
    }
   ],
   "source": [
    "ref_count(id_w)"
   ]
  },
  {
   "cell_type": "code",
   "execution_count": 43,
   "metadata": {
    "cell_id": "7eab71b4-c7b2-4a79-befe-ab0a0b52a8a3",
    "tags": []
   },
   "outputs": [
    {
     "data": {
      "text/plain": [
       "1"
      ]
     },
     "execution_count": 43,
     "metadata": {},
     "output_type": "execute_result"
    }
   ],
   "source": [
    "ref_count(id_w)"
   ]
  },
  {
   "cell_type": "code",
   "execution_count": 44,
   "metadata": {
    "cell_id": "ca7b513c-44ce-4ec7-9d8f-5c8abb0a6840",
    "tags": []
   },
   "outputs": [
    {
     "data": {
      "text/plain": [
       "1"
      ]
     },
     "execution_count": 44,
     "metadata": {},
     "output_type": "execute_result"
    }
   ],
   "source": [
    "ref_count(id_w)"
   ]
  },
  {
   "cell_type": "code",
   "execution_count": 45,
   "metadata": {
    "cell_id": "bc201a93-0aa1-4f48-b913-e9de67041dbc",
    "tags": []
   },
   "outputs": [
    {
     "data": {
      "text/plain": [
       "1"
      ]
     },
     "execution_count": 45,
     "metadata": {},
     "output_type": "execute_result"
    }
   ],
   "source": [
    "ref_count(id_w)"
   ]
  },
  {
   "cell_type": "code",
   "execution_count": 46,
   "metadata": {
    "cell_id": "b0838c5b-6752-4248-8178-b9ae4855bf75",
    "tags": []
   },
   "outputs": [],
   "source": [
    "import ctypes\n",
    "import gc"
   ]
  },
  {
   "cell_type": "code",
   "execution_count": 47,
   "metadata": {
    "cell_id": "1632fab9-9472-424e-b4e5-c631fdd869fa",
    "tags": []
   },
   "outputs": [],
   "source": [
    "def ref_count(address):\n",
    "    return ctypes.c_long.from_address(address).value"
   ]
  },
  {
   "cell_type": "code",
   "execution_count": 48,
   "metadata": {
    "cell_id": "086aa41f-87a8-4fd2-8592-48a7ebbd0c62",
    "tags": []
   },
   "outputs": [],
   "source": [
    "# now we are going to look at a method, that will dig into the garbage collector\n",
    "# and it will tell us whether that object exist in the garbage collector or not. \n",
    "# we will do that again by memory address\n",
    "\n",
    "def object_by_id(object_id):\n",
    "    for obj in gc.get_objects():\n",
    "        if id(obj) == object_id:\n",
    "            return \"Object exists\"\n",
    "    return \"Not Found\""
   ]
  },
  {
   "cell_type": "code",
   "execution_count": 49,
   "metadata": {
    "cell_id": "00d39e76-a41e-434d-8d3e-ccc19ab8e5e4",
    "tags": []
   },
   "outputs": [],
   "source": [
    "class A:\n",
    "    def __init__(self_a): #constructor\n",
    "        self_a.b = B(self_a)\n",
    "        print(\"A: self_a: {0}, b: {1}\".format(hex(id(self_a)), hex(id(self_a.b))))"
   ]
  },
  {
   "cell_type": "code",
   "execution_count": 50,
   "metadata": {
    "cell_id": "d645fc67-3880-4814-bf8d-608d6e9200dd",
    "tags": []
   },
   "outputs": [],
   "source": [
    "class B:\n",
    "    def __init__(self_b, a):\n",
    "        self_b.a = a\n",
    "        print(\"B: self_b: {0}, a: {1}\".format(hex(id(self_b)), hex(id(self_b.a))))"
   ]
  },
  {
   "cell_type": "code",
   "execution_count": 51,
   "metadata": {
    "cell_id": "ef22f013-02be-46b5-beb7-89f650a41399",
    "tags": []
   },
   "outputs": [],
   "source": [
    "# let's disable the garbage collector\n",
    "gc.disable()"
   ]
  },
  {
   "cell_type": "code",
   "execution_count": 52,
   "metadata": {
    "cell_id": "42dd3c61-12bf-44a8-9b89-6aac96a5afd8",
    "tags": []
   },
   "outputs": [
    {
     "name": "stdout",
     "output_type": "stream",
     "text": [
      "B: self_b: 0x169a510c788, a: 0x169a510c448\n",
      "A: self_a: 0x169a510c448, b: 0x169a510c788\n"
     ]
    }
   ],
   "source": [
    "my_var = A()"
   ]
  },
  {
   "cell_type": "code",
   "execution_count": 53,
   "metadata": {
    "cell_id": "45be2654-d6c3-4047-a825-74d00e036169",
    "tags": []
   },
   "outputs": [
    {
     "data": {
      "text/plain": [
       "'0x169a510c448'"
      ]
     },
     "execution_count": 53,
     "metadata": {},
     "output_type": "execute_result"
    }
   ],
   "source": [
    "hex(id(my_var))"
   ]
  },
  {
   "cell_type": "code",
   "execution_count": 54,
   "metadata": {
    "cell_id": "17013a32-83bf-4541-b9bc-88c5f6ec1a8c",
    "tags": []
   },
   "outputs": [
    {
     "name": "stdout",
     "output_type": "stream",
     "text": [
      "0x169a510c788\n",
      "0x169a510c448\n"
     ]
    }
   ],
   "source": [
    "# another way we can do this is\n",
    "print(hex(id(my_var.b)))\n",
    "print(hex(id(my_var.b.a)))"
   ]
  },
  {
   "cell_type": "code",
   "execution_count": 55,
   "metadata": {
    "cell_id": "134dea60-a2ee-402c-9e0b-4cf97d672cfe",
    "tags": []
   },
   "outputs": [],
   "source": [
    "a_id = id(my_var)\n",
    "b_id = id(my_var.b)"
   ]
  },
  {
   "cell_type": "code",
   "execution_count": 56,
   "metadata": {
    "cell_id": "518daaa0-b048-448d-a7a9-f25f229a3517",
    "tags": []
   },
   "outputs": [
    {
     "data": {
      "text/plain": [
       "2"
      ]
     },
     "execution_count": 56,
     "metadata": {},
     "output_type": "execute_result"
    }
   ],
   "source": [
    "ref_count(a_id)"
   ]
  },
  {
   "cell_type": "code",
   "execution_count": 57,
   "metadata": {
    "cell_id": "b7575697-aed2-4bd7-9c00-7ebcab390815",
    "tags": []
   },
   "outputs": [
    {
     "data": {
      "text/plain": [
       "1"
      ]
     },
     "execution_count": 57,
     "metadata": {},
     "output_type": "execute_result"
    }
   ],
   "source": [
    "ref_count(b_id)"
   ]
  },
  {
   "cell_type": "code",
   "execution_count": 58,
   "metadata": {
    "cell_id": "59b305c3-f6a4-4811-9c7a-74e5c787c374",
    "tags": []
   },
   "outputs": [
    {
     "data": {
      "text/plain": [
       "'Object exists'"
      ]
     },
     "execution_count": 58,
     "metadata": {},
     "output_type": "execute_result"
    }
   ],
   "source": [
    "object_by_id(a_id)"
   ]
  },
  {
   "cell_type": "code",
   "execution_count": 59,
   "metadata": {
    "cell_id": "7702b3f6-1a70-4ce6-935f-2332a45a187c",
    "tags": []
   },
   "outputs": [
    {
     "data": {
      "text/plain": [
       "'Object exists'"
      ]
     },
     "execution_count": 59,
     "metadata": {},
     "output_type": "execute_result"
    }
   ],
   "source": [
    "object_by_id(b_id)"
   ]
  },
  {
   "cell_type": "code",
   "execution_count": 60,
   "metadata": {
    "cell_id": "84f46d4b-749f-4055-9339-7ea37eb3dacf",
    "tags": []
   },
   "outputs": [],
   "source": [
    "# let's destroy my_var\n",
    "my_var = None"
   ]
  },
  {
   "cell_type": "code",
   "execution_count": 61,
   "metadata": {
    "cell_id": "bcea7a23-7447-43fa-90f3-117882eff89f",
    "tags": []
   },
   "outputs": [
    {
     "data": {
      "text/plain": [
       "1"
      ]
     },
     "execution_count": 61,
     "metadata": {},
     "output_type": "execute_result"
    }
   ],
   "source": [
    "ref_count(a_id)"
   ]
  },
  {
   "cell_type": "code",
   "execution_count": 62,
   "metadata": {
    "cell_id": "2ce47231-1c76-4b95-b16e-ae363d6d7943",
    "tags": []
   },
   "outputs": [
    {
     "data": {
      "text/plain": [
       "1"
      ]
     },
     "execution_count": 62,
     "metadata": {},
     "output_type": "execute_result"
    }
   ],
   "source": [
    "ref_count(b_id)"
   ]
  },
  {
   "cell_type": "code",
   "execution_count": 63,
   "metadata": {
    "cell_id": "4ca7b120-4a62-4ba2-9c1d-b88d4a443b1a",
    "tags": []
   },
   "outputs": [
    {
     "data": {
      "text/plain": [
       "'Object exists'"
      ]
     },
     "execution_count": 63,
     "metadata": {},
     "output_type": "execute_result"
    }
   ],
   "source": [
    "object_by_id(a_id)"
   ]
  },
  {
   "cell_type": "code",
   "execution_count": 64,
   "metadata": {
    "cell_id": "65a857ac-304f-4a20-a0ac-1d0455b19884",
    "tags": []
   },
   "outputs": [
    {
     "data": {
      "text/plain": [
       "'Object exists'"
      ]
     },
     "execution_count": 64,
     "metadata": {},
     "output_type": "execute_result"
    }
   ],
   "source": [
    "object_by_id(b_id)"
   ]
  },
  {
   "cell_type": "code",
   "execution_count": 65,
   "metadata": {
    "cell_id": "b9fea2e1-079c-49e2-9985-5713b38daed9",
    "tags": []
   },
   "outputs": [
    {
     "data": {
      "text/plain": [
       "564"
      ]
     },
     "execution_count": 65,
     "metadata": {},
     "output_type": "execute_result"
    }
   ],
   "source": [
    "# let's call gc manually\n",
    "gc.collect() # the number of unreachable objects\""
   ]
  },
  {
   "cell_type": "code",
   "execution_count": 66,
   "metadata": {
    "cell_id": "3174a4ca-8dbe-46d7-9693-d7f275b75094",
    "tags": []
   },
   "outputs": [
    {
     "data": {
      "text/plain": [
       "('Not Found', 'Not Found')"
      ]
     },
     "execution_count": 66,
     "metadata": {},
     "output_type": "execute_result"
    }
   ],
   "source": [
    "object_by_id(a_id),object_by_id(b_id)"
   ]
  },
  {
   "cell_type": "code",
   "execution_count": 67,
   "metadata": {
    "cell_id": "5cd2199e-46a2-4b15-ade8-d026fbda8f81",
    "tags": []
   },
   "outputs": [
    {
     "data": {
      "text/plain": [
       "(0, 0)"
      ]
     },
     "execution_count": 67,
     "metadata": {},
     "output_type": "execute_result"
    }
   ],
   "source": [
    "ref_count(a_id), ref_count(b_id)"
   ]
  },
  {
   "cell_type": "code",
   "execution_count": 68,
   "metadata": {
    "cell_id": "dcfec804-6832-4682-a357-d699272a98e4",
    "tags": []
   },
   "outputs": [
    {
     "data": {
      "text/plain": [
       "('Not Found', 'Not Found')"
      ]
     },
     "execution_count": 68,
     "metadata": {},
     "output_type": "execute_result"
    }
   ],
   "source": [
    "object_by_id(a_id),object_by_id(b_id)"
   ]
  },
  {
   "cell_type": "code",
   "execution_count": 69,
   "metadata": {
    "cell_id": "0279f08c-99e5-4a02-ae38-a4b972c07fdb",
    "tags": []
   },
   "outputs": [],
   "source": [
    "a = \"hello\""
   ]
  },
  {
   "cell_type": "code",
   "execution_count": 70,
   "metadata": {
    "cell_id": "2334c608-a15f-4481-be4c-5551f0dee566",
    "tags": []
   },
   "outputs": [
    {
     "data": {
      "text/plain": [
       "str"
      ]
     },
     "execution_count": 70,
     "metadata": {},
     "output_type": "execute_result"
    }
   ],
   "source": [
    "type(a)"
   ]
  },
  {
   "cell_type": "code",
   "execution_count": 71,
   "metadata": {
    "cell_id": "3c0ab3b9-0156-4c44-926b-a34762b69054",
    "tags": []
   },
   "outputs": [
    {
     "data": {
      "text/plain": [
       "int"
      ]
     },
     "execution_count": 71,
     "metadata": {},
     "output_type": "execute_result"
    }
   ],
   "source": [
    "a = 10\n",
    "type(a)"
   ]
  },
  {
   "cell_type": "code",
   "execution_count": 72,
   "metadata": {
    "cell_id": "79d93802-255b-447f-9b1f-339a43ebbdc1",
    "tags": []
   },
   "outputs": [
    {
     "data": {
      "text/plain": [
       "function"
      ]
     },
     "execution_count": 72,
     "metadata": {},
     "output_type": "execute_result"
    }
   ],
   "source": [
    "a = lambda x:x**2\n",
    "type(a)"
   ]
  },
  {
   "cell_type": "code",
   "execution_count": 73,
   "metadata": {
    "cell_id": "177e7fc7-3717-4272-b67c-f1392793160a",
    "tags": []
   },
   "outputs": [],
   "source": [
    "a = 11 + 12j"
   ]
  },
  {
   "cell_type": "code",
   "execution_count": 74,
   "metadata": {
    "cell_id": "aa91bb58-0fbc-4399-9d60-91f53bff9cbd",
    "tags": []
   },
   "outputs": [
    {
     "data": {
      "text/plain": [
       "complex"
      ]
     },
     "execution_count": 74,
     "metadata": {},
     "output_type": "execute_result"
    }
   ],
   "source": [
    "type(a)"
   ]
  },
  {
   "cell_type": "code",
   "execution_count": 75,
   "metadata": {
    "cell_id": "e82e069e-0f92-4915-969c-ae2d0945aee2",
    "tags": []
   },
   "outputs": [],
   "source": [
    "a = 10"
   ]
  },
  {
   "cell_type": "code",
   "execution_count": 76,
   "metadata": {
    "cell_id": "419ac4f8-be80-4a99-8dde-ebc10256c611",
    "tags": []
   },
   "outputs": [
    {
     "data": {
      "text/plain": [
       "'0x7ffdec97a2b0'"
      ]
     },
     "execution_count": 76,
     "metadata": {},
     "output_type": "execute_result"
    }
   ],
   "source": [
    "hex(id(a))"
   ]
  },
  {
   "cell_type": "code",
   "execution_count": 77,
   "metadata": {
    "cell_id": "a72fdb9f-5534-4615-89d5-a338a696f592",
    "tags": []
   },
   "outputs": [
    {
     "data": {
      "text/plain": [
       "int"
      ]
     },
     "execution_count": 77,
     "metadata": {},
     "output_type": "execute_result"
    }
   ],
   "source": [
    "type(a)"
   ]
  },
  {
   "cell_type": "code",
   "execution_count": 78,
   "metadata": {
    "cell_id": "4a653840-f355-4b24-b2e6-56c80e57c635",
    "tags": []
   },
   "outputs": [
    {
     "name": "stdout",
     "output_type": "stream",
     "text": [
      "0x7ffdec97a2b0\n",
      "0x7ffdec97a350\n",
      "0x7ffdec97a370\n"
     ]
    }
   ],
   "source": [
    "print(hex(id(a)))\n",
    "a = 15\n",
    "print(hex(id(a)))\n",
    "a = a + 1\n",
    "print(hex(id(a)))"
   ]
  },
  {
   "cell_type": "code",
   "execution_count": 79,
   "metadata": {
    "cell_id": "dc355df8-b17a-4a8a-a42d-21c73749421d",
    "tags": []
   },
   "outputs": [
    {
     "name": "stdout",
     "output_type": "stream",
     "text": [
      "0x7ffdec97a2b0\n",
      "0x7ffdec97a2b0\n",
      "True\n",
      "True\n"
     ]
    }
   ],
   "source": [
    "# now this shouldn't surprise you\n",
    "a = 10\n",
    "b = 10\n",
    "print(hex(id(a)))\n",
    "print(hex(id(b)))\n",
    "print(a == b)\n",
    "print(a is b)"
   ]
  },
  {
   "cell_type": "code",
   "execution_count": 80,
   "metadata": {
    "cell_id": "fdddacb5-29cf-4e96-8c29-4840c7b56310",
    "tags": []
   },
   "outputs": [
    {
     "name": "stdout",
     "output_type": "stream",
     "text": [
      "0x169a361d808\n",
      "0x169a3ef90c8\n",
      "True\n",
      "False\n"
     ]
    }
   ],
   "source": [
    "a = [1, 2, 3]\n",
    "b = [1, 2, 3]\n",
    "print(hex(id(a)))\n",
    "print(hex(id(b)))\n",
    "print(a == b)\n",
    "print(a is b)"
   ]
  },
  {
   "cell_type": "code",
   "execution_count": 81,
   "metadata": {
    "cell_id": "6a1b5936-592c-439a-a1b1-c77d0153d4a8",
    "tags": []
   },
   "outputs": [
    {
     "name": "stdout",
     "output_type": "stream",
     "text": [
      "True\n"
     ]
    }
   ],
   "source": [
    "a = 10\n",
    "b = 5\n",
    "c = 15\n",
    "print(c is a + b)"
   ]
  },
  {
   "cell_type": "code",
   "execution_count": 82,
   "metadata": {
    "cell_id": "cb85febf-a4dc-4271-8f49-df7c18942566",
    "tags": []
   },
   "outputs": [
    {
     "data": {
      "text/plain": [
       "(140728572814160, 140728572814160, 140728572814160)"
      ]
     },
     "execution_count": 82,
     "metadata": {},
     "output_type": "execute_result"
    }
   ],
   "source": [
    "id(15), id(c), id(a+b)"
   ]
  },
  {
   "cell_type": "code",
   "execution_count": 83,
   "metadata": {
    "cell_id": "13042b7c-e9e9-4229-b633-28dc2023d2c5",
    "tags": []
   },
   "outputs": [
    {
     "name": "stdout",
     "output_type": "stream",
     "text": [
      "True\n"
     ]
    }
   ],
   "source": [
    "a = 10\n",
    "b = 51\n",
    "c = 61\n",
    "print(c is a + b)"
   ]
  },
  {
   "cell_type": "code",
   "execution_count": 84,
   "metadata": {
    "cell_id": "10a0271a-e76a-4e0b-aaa3-4ce78fb99ec4",
    "tags": []
   },
   "outputs": [
    {
     "name": "stdout",
     "output_type": "stream",
     "text": [
      "True\n"
     ]
    }
   ],
   "source": [
    "a = 10\n",
    "b = 5\n",
    "c = a * b\n",
    "print(c is a * b)"
   ]
  },
  {
   "cell_type": "code",
   "execution_count": 85,
   "metadata": {
    "cell_id": "efa7384f-152a-4deb-82ea-c8f00d4524ee",
    "tags": []
   },
   "outputs": [
    {
     "name": "stdout",
     "output_type": "stream",
     "text": [
      "True\n"
     ]
    }
   ],
   "source": [
    "a = 10\n",
    "b = 5\n",
    "c = 20\n",
    "print (c is 10 + 5*2)"
   ]
  },
  {
   "cell_type": "code",
   "execution_count": 86,
   "metadata": {
    "cell_id": "20a4a4ad-8fb8-41b6-b594-0ae6f57e1e84",
    "tags": []
   },
   "outputs": [],
   "source": [
    "my_list = [1, 2, 3]"
   ]
  },
  {
   "cell_type": "code",
   "execution_count": 87,
   "metadata": {
    "cell_id": "04dd5404-97da-46e1-9c68-40a9bf5d0ceb",
    "tags": []
   },
   "outputs": [
    {
     "data": {
      "text/plain": [
       "list"
      ]
     },
     "execution_count": 87,
     "metadata": {},
     "output_type": "execute_result"
    }
   ],
   "source": [
    "type(my_list)"
   ]
  },
  {
   "cell_type": "code",
   "execution_count": 88,
   "metadata": {
    "cell_id": "d9f8838d-9e5b-41f7-bd29-3afee43881b9",
    "tags": []
   },
   "outputs": [
    {
     "data": {
      "text/plain": [
       "1553233603528"
      ]
     },
     "execution_count": 88,
     "metadata": {},
     "output_type": "execute_result"
    }
   ],
   "source": [
    "id(my_list)"
   ]
  },
  {
   "cell_type": "code",
   "execution_count": 89,
   "metadata": {
    "cell_id": "9ef2b248-aca6-4a39-a106-52b85ccc413c",
    "tags": []
   },
   "outputs": [],
   "source": [
    "my_list.append(4)"
   ]
  },
  {
   "cell_type": "code",
   "execution_count": 90,
   "metadata": {
    "cell_id": "299bbaf8-4e4c-4885-8a41-238aac58ec4f",
    "tags": []
   },
   "outputs": [
    {
     "data": {
      "text/plain": [
       "1553233603528"
      ]
     },
     "execution_count": 90,
     "metadata": {},
     "output_type": "execute_result"
    }
   ],
   "source": [
    "id(my_list) # address hasn't changed"
   ]
  },
  {
   "cell_type": "code",
   "execution_count": 91,
   "metadata": {
    "cell_id": "8afa72e1-96ec-491d-b448-5d86fd59aca8",
    "tags": []
   },
   "outputs": [
    {
     "data": {
      "text/plain": [
       "1553251632008"
      ]
     },
     "execution_count": 91,
     "metadata": {},
     "output_type": "execute_result"
    }
   ],
   "source": [
    "# another method of putting elements to a list\n",
    "\n",
    "my_list_1 = [1, 2, 3]\n",
    "id(my_list_1) # not going to be same as above"
   ]
  },
  {
   "cell_type": "code",
   "execution_count": 92,
   "metadata": {
    "cell_id": "22824145-9043-4814-96ca-6db478876ca3",
    "tags": []
   },
   "outputs": [],
   "source": [
    "my_list_1 = my_list_1 + [4] # concatenation"
   ]
  },
  {
   "cell_type": "code",
   "execution_count": 93,
   "metadata": {
    "cell_id": "631919f9-94a9-4a89-a240-5be6b38d2de1",
    "tags": []
   },
   "outputs": [
    {
     "data": {
      "text/plain": [
       "1553233665416"
      ]
     },
     "execution_count": 93,
     "metadata": {},
     "output_type": "execute_result"
    }
   ],
   "source": [
    "id(my_list_1)"
   ]
  },
  {
   "cell_type": "code",
   "execution_count": 94,
   "metadata": {
    "cell_id": "f5fe550d-38db-4909-b7da-97717c392f12",
    "tags": []
   },
   "outputs": [
    {
     "data": {
      "text/plain": [
       "{'key1': 1, 'key2': 'a'}"
      ]
     },
     "execution_count": 94,
     "metadata": {},
     "output_type": "execute_result"
    }
   ],
   "source": [
    "my_dict = dict(key1=1, key2 = 'a')\n",
    "my_dict"
   ]
  },
  {
   "cell_type": "code",
   "execution_count": 95,
   "metadata": {
    "cell_id": "2af98704-dd1d-4b64-8e8e-947c57cda94b",
    "tags": []
   },
   "outputs": [
    {
     "data": {
      "text/plain": [
       "1553252243640"
      ]
     },
     "execution_count": 95,
     "metadata": {},
     "output_type": "execute_result"
    }
   ],
   "source": [
    "id(my_dict)"
   ]
  },
  {
   "cell_type": "code",
   "execution_count": 96,
   "metadata": {
    "cell_id": "6424f5c4-08c0-470e-8bc8-ac5d508dc7e1",
    "tags": []
   },
   "outputs": [
    {
     "data": {
      "text/plain": [
       "{'key1': 1, 'key2': 'a', 'key3': 'tsai'}"
      ]
     },
     "execution_count": 96,
     "metadata": {},
     "output_type": "execute_result"
    }
   ],
   "source": [
    "my_dict['key3'] = 'tsai'\n",
    "my_dict"
   ]
  },
  {
   "cell_type": "code",
   "execution_count": 97,
   "metadata": {
    "cell_id": "57fd49d3-c1a2-4846-97d4-dccafe5014d3",
    "tags": []
   },
   "outputs": [
    {
     "data": {
      "text/plain": [
       "1553252243640"
      ]
     },
     "execution_count": 97,
     "metadata": {},
     "output_type": "execute_result"
    }
   ],
   "source": [
    "id(my_dict)"
   ]
  },
  {
   "cell_type": "code",
   "execution_count": 98,
   "metadata": {
    "cell_id": "cafcebae-41db-4313-84de-3a1d23c189ee",
    "tags": []
   },
   "outputs": [
    {
     "data": {
      "text/plain": [
       "1553233896296"
      ]
     },
     "execution_count": 98,
     "metadata": {},
     "output_type": "execute_result"
    }
   ],
   "source": [
    "t = (1, 2, 3)\n",
    "id(t)"
   ]
  },
  {
   "cell_type": "code",
   "execution_count": 99,
   "metadata": {
    "cell_id": "a63af0a3-ab3d-4257-bc58-ac4599285524",
    "tags": []
   },
   "outputs": [
    {
     "data": {
      "text/plain": [
       "1"
      ]
     },
     "execution_count": 99,
     "metadata": {},
     "output_type": "execute_result"
    }
   ],
   "source": [
    "t[0] # referencing the first element of a tuple"
   ]
  },
  {
   "cell_type": "code",
   "execution_count": 100,
   "metadata": {
    "cell_id": "f434d1f7-dfc6-4e79-b557-b6fefdc96f28",
    "tags": []
   },
   "outputs": [
    {
     "data": {
      "text/plain": [
       "140728572813712"
      ]
     },
     "execution_count": 100,
     "metadata": {},
     "output_type": "execute_result"
    }
   ],
   "source": [
    "id(t[0])"
   ]
  },
  {
   "cell_type": "code",
   "execution_count": 101,
   "metadata": {
    "cell_id": "3c122ec5-5da5-4884-a534-f55513e686e7",
    "tags": []
   },
   "outputs": [
    {
     "data": {
      "text/plain": [
       "140728572813712"
      ]
     },
     "execution_count": 101,
     "metadata": {},
     "output_type": "execute_result"
    }
   ],
   "source": [
    "m = 1\n",
    "id(m)"
   ]
  },
  {
   "cell_type": "code",
   "execution_count": 102,
   "metadata": {
    "cell_id": "60c2bbf9-1a22-4ca5-b145-109af14db1b4",
    "tags": []
   },
   "outputs": [
    {
     "data": {
      "text/plain": [
       "140728572813744"
      ]
     },
     "execution_count": 102,
     "metadata": {},
     "output_type": "execute_result"
    }
   ],
   "source": [
    "id(t[1])"
   ]
  },
  {
   "cell_type": "code",
   "execution_count": 103,
   "metadata": {
    "cell_id": "9f6514b7-3a76-459a-a251-42225c68d5d2",
    "tags": []
   },
   "outputs": [
    {
     "data": {
      "text/plain": [
       "140728572813744"
      ]
     },
     "execution_count": 103,
     "metadata": {},
     "output_type": "execute_result"
    }
   ],
   "source": [
    "id(2)"
   ]
  },
  {
   "cell_type": "code",
   "execution_count": 104,
   "metadata": {
    "cell_id": "d0a1aea5-29f6-463b-bfeb-6cc09b30ce9e",
    "tags": []
   },
   "outputs": [
    {
     "data": {
      "text/plain": [
       "1553233603144"
      ]
     },
     "execution_count": 104,
     "metadata": {},
     "output_type": "execute_result"
    }
   ],
   "source": [
    "t = ([1, 2], [3, 4])\n",
    "id(t)"
   ]
  },
  {
   "cell_type": "code",
   "execution_count": 105,
   "metadata": {
    "cell_id": "61b15592-70be-4cfd-bf12-0efe02eb3325",
    "tags": []
   },
   "outputs": [
    {
     "data": {
      "text/plain": [
       "([1, 2, 3], [3, 4])"
      ]
     },
     "execution_count": 105,
     "metadata": {},
     "output_type": "execute_result"
    }
   ],
   "source": [
    "t[0].append(3)\n",
    "t"
   ]
  },
  {
   "cell_type": "code",
   "execution_count": 106,
   "metadata": {
    "cell_id": "d0e40ffe-8ed1-4107-bb0c-ef8c0635aab4",
    "tags": []
   },
   "outputs": [
    {
     "data": {
      "text/plain": [
       "1553233603144"
      ]
     },
     "execution_count": 106,
     "metadata": {},
     "output_type": "execute_result"
    }
   ],
   "source": [
    "id(t)"
   ]
  },
  {
   "cell_type": "code",
   "execution_count": 107,
   "metadata": {
    "cell_id": "9ace6179-86f6-4c15-a791-025c94d66183",
    "tags": []
   },
   "outputs": [
    {
     "data": {
      "text/plain": [
       "1553233589768"
      ]
     },
     "execution_count": 107,
     "metadata": {},
     "output_type": "execute_result"
    }
   ],
   "source": [
    "t = ([1, 2], [3, 4])\n",
    "id(t)"
   ]
  },
  {
   "cell_type": "code",
   "execution_count": 108,
   "metadata": {
    "cell_id": "57015722-c469-4389-839f-d003896451c5",
    "tags": []
   },
   "outputs": [
    {
     "data": {
      "text/plain": [
       "1553251656136"
      ]
     },
     "execution_count": 108,
     "metadata": {},
     "output_type": "execute_result"
    }
   ],
   "source": [
    "id(t[0])"
   ]
  },
  {
   "cell_type": "code",
   "execution_count": 109,
   "metadata": {
    "cell_id": "b2ec1acd-9161-4ab1-a0a7-60d5fe22ca84",
    "tags": []
   },
   "outputs": [
    {
     "data": {
      "text/plain": [
       "1553251656136"
      ]
     },
     "execution_count": 109,
     "metadata": {},
     "output_type": "execute_result"
    }
   ],
   "source": [
    "t[0].append(3)\n",
    "id(t[0])"
   ]
  },
  {
   "cell_type": "code",
   "execution_count": 110,
   "metadata": {
    "cell_id": "cb071b4c-8294-4f52-a973-82456f19f7be",
    "tags": []
   },
   "outputs": [
    {
     "data": {
      "text/plain": [
       "[1, 2, 3]"
      ]
     },
     "execution_count": 110,
     "metadata": {},
     "output_type": "execute_result"
    }
   ],
   "source": [
    "t[0]"
   ]
  },
  {
   "cell_type": "code",
   "execution_count": 111,
   "metadata": {
    "cell_id": "41f15fcf-ef4f-4e6d-982b-ae8826679c94",
    "tags": []
   },
   "outputs": [
    {
     "ename": "TypeError",
     "evalue": "'tuple' object does not support item assignment",
     "output_type": "error",
     "traceback": [
      "\u001b[1;31m---------------------------------------------------------------------------\u001b[0m",
      "\u001b[1;31mTypeError\u001b[0m                                 Traceback (most recent call last)",
      "\u001b[1;32m<ipython-input-111-e8ca00a4caf0>\u001b[0m in \u001b[0;36m<module>\u001b[1;34m\u001b[0m\n\u001b[0;32m      1\u001b[0m \u001b[0mt\u001b[0m \u001b[1;33m=\u001b[0m \u001b[1;33m(\u001b[0m\u001b[1;33m[\u001b[0m\u001b[1;36m1\u001b[0m\u001b[1;33m,\u001b[0m \u001b[1;36m2\u001b[0m\u001b[1;33m]\u001b[0m\u001b[1;33m,\u001b[0m \u001b[1;33m[\u001b[0m\u001b[1;36m3\u001b[0m\u001b[1;33m,\u001b[0m \u001b[1;36m4\u001b[0m\u001b[1;33m]\u001b[0m\u001b[1;33m)\u001b[0m\u001b[1;33m\u001b[0m\u001b[1;33m\u001b[0m\u001b[0m\n\u001b[0;32m      2\u001b[0m \u001b[1;31m# t[0].append(3)\u001b[0m\u001b[1;33m\u001b[0m\u001b[1;33m\u001b[0m\u001b[1;33m\u001b[0m\u001b[0m\n\u001b[1;32m----> 3\u001b[1;33m \u001b[0mt\u001b[0m\u001b[1;33m[\u001b[0m\u001b[1;36m0\u001b[0m\u001b[1;33m]\u001b[0m \u001b[1;33m=\u001b[0m \u001b[0mt\u001b[0m\u001b[1;33m[\u001b[0m\u001b[1;36m0\u001b[0m\u001b[1;33m]\u001b[0m \u001b[1;33m+\u001b[0m \u001b[1;33m[\u001b[0m\u001b[1;36m5\u001b[0m\u001b[1;33m]\u001b[0m\u001b[1;33m\u001b[0m\u001b[1;33m\u001b[0m\u001b[0m\n\u001b[0m",
      "\u001b[1;31mTypeError\u001b[0m: 'tuple' object does not support item assignment"
     ]
    }
   ],
   "source": [
    "t = ([1, 2], [3, 4])\n",
    "# t[0].append(3)\n",
    "t[0] = t[0] + [5]"
   ]
  },
  {
   "cell_type": "code",
   "execution_count": 115,
   "metadata": {
    "cell_id": "34e7c015-251e-4fd7-9c85-d21f9f234ab9",
    "tags": []
   },
   "outputs": [],
   "source": [
    "def process(s):\n",
    "    print(f'Initial s mem-add = {id(s)}')\n",
    "    s = s + ' world' # concatenating\n",
    "    print(f'Final s mem-add = {id(s)}')"
   ]
  },
  {
   "cell_type": "code",
   "execution_count": 116,
   "metadata": {
    "cell_id": "d0d18ee7-2160-4931-a4f6-c20b7bad6f7b",
    "tags": []
   },
   "outputs": [
    {
     "name": "stdout",
     "output_type": "stream",
     "text": [
      "my_var mem-add = 1553225549872\n"
     ]
    }
   ],
   "source": [
    "my_var = 'hello'\n",
    "print(f'my_var mem-add = {id(my_var)}')"
   ]
  },
  {
   "cell_type": "code",
   "execution_count": 117,
   "metadata": {
    "cell_id": "d9aae7b4-5ffb-40ee-a82e-98ddfb6cce4c",
    "tags": []
   },
   "outputs": [
    {
     "name": "stdout",
     "output_type": "stream",
     "text": [
      "Initial s mem-add = 1553225549872\n",
      "Final s mem-add = 1553253520624\n"
     ]
    }
   ],
   "source": [
    "process(my_var)"
   ]
  },
  {
   "cell_type": "code",
   "execution_count": 118,
   "metadata": {
    "cell_id": "3df20d16-7d76-41ae-b851-dc3983e73106",
    "tags": []
   },
   "outputs": [
    {
     "name": "stdout",
     "output_type": "stream",
     "text": [
      "my_var mem-add = 1553225549872\n",
      "hello\n"
     ]
    }
   ],
   "source": [
    "print(f'my_var mem-add = {id(my_var)}')\n",
    "print(my_var) # immutable!"
   ]
  },
  {
   "cell_type": "code",
   "execution_count": 119,
   "metadata": {
    "cell_id": "00e60313-a6d4-4231-bcc6-4d139d042179",
    "tags": []
   },
   "outputs": [],
   "source": [
    "def modify_list(lst):\n",
    "    print(f'Initial lst mem-add = {id(lst)}')\n",
    "    lst.append(100)\n",
    "    print(f'Final lst mem-add = {id(lst)}')"
   ]
  },
  {
   "cell_type": "code",
   "execution_count": 120,
   "metadata": {
    "cell_id": "61a6a12b-e83d-446f-b896-408093a7e6af",
    "tags": []
   },
   "outputs": [
    {
     "name": "stdout",
     "output_type": "stream",
     "text": [
      "[1, 2, 3]\n",
      "my_list mem-add = 1553253525320\n",
      "Initial lst mem-add = 1553253525320\n",
      "Final lst mem-add = 1553253525320\n",
      "[1, 2, 3, 100]\n",
      "my_list mem-add = 1553253525320\n"
     ]
    }
   ],
   "source": [
    "my_list = [1, 2, 3]\n",
    "print(my_list)\n",
    "print(f'my_list mem-add = {id(my_list)}')\n",
    "modify_list(my_list)\n",
    "print(my_list)\n",
    "print(f'my_list mem-add = {id(my_list)}')"
   ]
  },
  {
   "cell_type": "code",
   "execution_count": 121,
   "metadata": {
    "cell_id": "3dbda1d7-95aa-4e9f-96c4-e02518dce518",
    "tags": []
   },
   "outputs": [],
   "source": [
    "def modify_tuple(t):\n",
    "    print(f'Initial t mem-add = {id(t)}')\n",
    "    t[0].append(100) # assume first element of the tuple is a list\n",
    "    print(f'Final t mem-add = {id(t)}')"
   ]
  },
  {
   "cell_type": "code",
   "execution_count": 122,
   "metadata": {
    "cell_id": "6677544f-783e-4b7c-881a-f6f1bf68676a",
    "tags": []
   },
   "outputs": [
    {
     "name": "stdout",
     "output_type": "stream",
     "text": [
      "([1, 2], 'a')\n",
      "my_tuple mem-add = 1553251636104\n",
      "Initial t mem-add = 1553251636104\n",
      "Final t mem-add = 1553251636104\n",
      "([1, 2, 100], 'a')\n",
      "my_tuple mem-add = 1553251636104\n"
     ]
    }
   ],
   "source": [
    "my_tuple = ([1, 2], 'a')\n",
    "print(my_tuple)\n",
    "print(f'my_tuple mem-add = {id(my_tuple)}')\n",
    "modify_tuple(my_tuple)\n",
    "print(my_tuple)\n",
    "print(f'my_tuple mem-add = {id(my_tuple)}')"
   ]
  },
  {
   "cell_type": "code",
   "execution_count": 123,
   "metadata": {
    "cell_id": "20a6ce80-187b-4ee7-9c60-43ba7e44005f",
    "tags": []
   },
   "outputs": [
    {
     "name": "stdout",
     "output_type": "stream",
     "text": [
      "1553225549872\n",
      "1553225549872\n"
     ]
    }
   ],
   "source": [
    "a = \"hello\"\n",
    "b = a # manually created shared reference\n",
    "\n",
    "print(id(a))\n",
    "print(id(b))"
   ]
  },
  {
   "cell_type": "code",
   "execution_count": 124,
   "metadata": {
    "cell_id": "26b05a63-a5c0-4dbe-8eb1-548b5f9c68e3",
    "tags": []
   },
   "outputs": [
    {
     "data": {
      "text/plain": [
       "True"
      ]
     },
     "execution_count": 124,
     "metadata": {},
     "output_type": "execute_result"
    }
   ],
   "source": [
    "a is b\n"
   ]
  },
  {
   "cell_type": "code",
   "execution_count": 125,
   "metadata": {
    "cell_id": "22ffecc6-a5b4-4f38-9c95-a5f8125a5a5b",
    "tags": []
   },
   "outputs": [
    {
     "name": "stdout",
     "output_type": "stream",
     "text": [
      "1553225549872\n",
      "1553225549872\n"
     ]
    }
   ],
   "source": [
    "a = \"hello\"\n",
    "b = \"hello\" # automatically created shared reference\n",
    "\n",
    "print(id(a))\n",
    "print(id(b))"
   ]
  },
  {
   "cell_type": "code",
   "execution_count": 126,
   "metadata": {
    "cell_id": "f15bb281-d471-4cc9-af0c-9ea3f98d043c",
    "tags": []
   },
   "outputs": [
    {
     "name": "stdout",
     "output_type": "stream",
     "text": [
      "1553253536240\n"
     ]
    }
   ],
   "source": [
    "# this is safe, because there is no way to \"change\" b.. \n",
    "b = \"hello world\"\n",
    "print(id(b)) # this is not the same b \"tum badal gae!\""
   ]
  },
  {
   "cell_type": "code",
   "execution_count": 127,
   "metadata": {
    "cell_id": "1712d938-faf8-43f8-b976-2bb133a64005",
    "tags": []
   },
   "outputs": [
    {
     "name": "stdout",
     "output_type": "stream",
     "text": [
      "1553253558920\n",
      "1553253558920\n"
     ]
    }
   ],
   "source": [
    "a = [1, 2, 3]\n",
    "b = a # shared reference\n",
    "print(id(a))\n",
    "print(id(b))"
   ]
  },
  {
   "cell_type": "code",
   "execution_count": 128,
   "metadata": {
    "cell_id": "f65f4e94-a786-428c-b999-b1686876c20c",
    "tags": []
   },
   "outputs": [
    {
     "name": "stdout",
     "output_type": "stream",
     "text": [
      "1553253558920\n",
      "1553253558920\n",
      "a: [1, 2, 3, '4']\n",
      "b: [1, 2, 3, '4']\n"
     ]
    }
   ],
   "source": [
    "b.append('4')\n",
    "print(id(a))\n",
    "print(id(b))\n",
    "print(f'a: {a}')\n",
    "print(f'b: {b}')"
   ]
  },
  {
   "cell_type": "code",
   "execution_count": 129,
   "metadata": {
    "cell_id": "93a41a30-d478-4063-91f2-c106a8cc95cf",
    "tags": []
   },
   "outputs": [
    {
     "data": {
      "text/plain": [
       "True"
      ]
     },
     "execution_count": 129,
     "metadata": {},
     "output_type": "execute_result"
    }
   ],
   "source": [
    "a = None\n",
    "b = None\n",
    "a == b"
   ]
  },
  {
   "cell_type": "code",
   "execution_count": 130,
   "metadata": {
    "cell_id": "35eee503-fb20-43cd-8fa6-8dd43043c9ff",
    "tags": []
   },
   "outputs": [
    {
     "data": {
      "text/plain": [
       "NotImplemented"
      ]
     },
     "execution_count": 130,
     "metadata": {},
     "output_type": "execute_result"
    }
   ],
   "source": [
    "None.__lt__(a)"
   ]
  },
  {
   "cell_type": "code",
   "execution_count": 131,
   "metadata": {
    "cell_id": "b9629cad-84c0-4cca-9fa6-abbd55cbe5b5",
    "tags": []
   },
   "outputs": [
    {
     "name": "stdout",
     "output_type": "stream",
     "text": [
      "1553253592968\n",
      "1553253592904\n",
      "a is b False\n",
      "a == b True\n"
     ]
    }
   ],
   "source": [
    "a = [1, 2, 3]\n",
    "b = [1, 2, 3]\n",
    "print(id(a))\n",
    "print(id(b))\n",
    "print(f'a is b {a is b}')\n",
    "print(f'a == b {a == b}')"
   ]
  },
  {
   "cell_type": "code",
   "execution_count": 132,
   "metadata": {
    "cell_id": "c43e7f66-70c1-45cb-91b3-366b352d4ae4",
    "tags": []
   },
   "outputs": [
    {
     "name": "stdout",
     "output_type": "stream",
     "text": [
      "1553252325640\n",
      "1553252395192\n",
      "a is b False\n",
      "a == b True\n"
     ]
    }
   ],
   "source": [
    "a = 1, 2, 3\n",
    "b = 1, 2, 3\n",
    "print(id(a))\n",
    "print(id(b))\n",
    "print(f'a is b {a is b}')\n",
    "print(f'a == b {a == b}')"
   ]
  },
  {
   "cell_type": "code",
   "execution_count": 133,
   "metadata": {
    "cell_id": "a1d364c6-3ed0-4286-9bfb-7c2a9e6232a0",
    "tags": []
   },
   "outputs": [
    {
     "name": "stdout",
     "output_type": "stream",
     "text": [
      "140728572814000\n",
      "1553252645328\n",
      "a is b False\n",
      "a == b True\n"
     ]
    }
   ],
   "source": [
    "a = 10\n",
    "b = 10.0\n",
    "print(id(a))\n",
    "print(id(b))\n",
    "print(f'a is b {a is b}')\n",
    "print(f'a == b {a == b}') # <<<<"
   ]
  },
  {
   "cell_type": "code",
   "execution_count": 134,
   "metadata": {
    "cell_id": "c31c47e9-a81c-4f3f-8d79-dd32a3732d98",
    "tags": []
   },
   "outputs": [
    {
     "name": "stdout",
     "output_type": "stream",
     "text": [
      "1553253585264\n",
      "1553253585072\n",
      "a is b False\n",
      "a == b True\n"
     ]
    }
   ],
   "source": [
    "a = 10 + 0j\n",
    "b = 10.0\n",
    "print(id(a))\n",
    "print(id(b))\n",
    "print(f'a is b {a is b}')\n",
    "print(f'a == b {a == b}')"
   ]
  },
  {
   "cell_type": "code",
   "execution_count": 135,
   "metadata": {
    "cell_id": "734d4fe9-0924-4ce1-b431-915bd528b401",
    "tags": []
   },
   "outputs": [
    {
     "name": "stdout",
     "output_type": "stream",
     "text": [
      "140728572337376\n",
      "<class 'NoneType'>\n"
     ]
    }
   ],
   "source": [
    "print(id(None)) # has a memory address\n",
    "print(type(None))"
   ]
  },
  {
   "cell_type": "code",
   "execution_count": 136,
   "metadata": {
    "cell_id": "ca2c6c3a-e91f-49b7-ba68-ea8b2558d014",
    "tags": []
   },
   "outputs": [],
   "source": [
    "a = None\n",
    "b = None\n",
    "c = None"
   ]
  },
  {
   "cell_type": "code",
   "execution_count": 137,
   "metadata": {
    "cell_id": "3b4ab732-2d75-4ccf-abb6-8e37e0164bd0",
    "tags": []
   },
   "outputs": [
    {
     "data": {
      "text/plain": [
       "True"
      ]
     },
     "execution_count": 137,
     "metadata": {},
     "output_type": "execute_result"
    }
   ],
   "source": [
    "a is b\n",
    "b is None"
   ]
  },
  {
   "cell_type": "code",
   "execution_count": 138,
   "metadata": {
    "cell_id": "a4ef6baa-554b-47fa-be63-535f1f1d0547",
    "tags": []
   },
   "outputs": [
    {
     "name": "stdout",
     "output_type": "stream",
     "text": [
      "<class 'int'>\n"
     ]
    }
   ],
   "source": [
    "a = 10\n",
    "print(type(a))"
   ]
  },
  {
   "cell_type": "code",
   "execution_count": 139,
   "metadata": {
    "cell_id": "06605eae-1cd5-4072-a365-fa3e6b02990b",
    "tags": []
   },
   "outputs": [
    {
     "name": "stdout",
     "output_type": "stream",
     "text": [
      "<class 'int'>\n"
     ]
    }
   ],
   "source": [
    "b = int(10) # isn't this how we instantiate an instance for any class\n",
    "print(type(b))"
   ]
  },
  {
   "cell_type": "code",
   "execution_count": null,
   "metadata": {
    "cell_id": "f7bb437f-1479-40dc-ab7a-1415c352eefe",
    "tags": []
   },
   "outputs": [],
   "source": []
  },
  {
   "cell_type": "code",
   "execution_count": 140,
   "metadata": {
    "cell_id": "c1fb50d1-4f49-44e0-8461-856a038788f7",
    "tags": []
   },
   "outputs": [
    {
     "data": {
      "text/plain": [
       "0"
      ]
     },
     "execution_count": 140,
     "metadata": {},
     "output_type": "execute_result"
    }
   ],
   "source": [
    "c = int()\n",
    "c"
   ]
  },
  {
   "cell_type": "code",
   "execution_count": 141,
   "metadata": {
    "cell_id": "35027aef-0309-48a6-b980-dc72358ab7ce",
    "tags": []
   },
   "outputs": [
    {
     "data": {
      "text/plain": [
       "5"
      ]
     },
     "execution_count": 141,
     "metadata": {},
     "output_type": "execute_result"
    }
   ],
   "source": [
    "c = int('101', base = 2)\n",
    "c"
   ]
  },
  {
   "cell_type": "code",
   "execution_count": 142,
   "metadata": {
    "cell_id": "e549d8c2-85ba-44df-8637-a8c0487789f7",
    "tags": []
   },
   "outputs": [],
   "source": [
    "def square(a):\n",
    "    return a **2"
   ]
  },
  {
   "cell_type": "code",
   "execution_count": 143,
   "metadata": {
    "cell_id": "a0986f95-e28e-4229-80c1-1ef15ba9ce95",
    "tags": []
   },
   "outputs": [
    {
     "data": {
      "text/plain": [
       "function"
      ]
     },
     "execution_count": 143,
     "metadata": {},
     "output_type": "execute_result"
    }
   ],
   "source": [
    "type(square)"
   ]
  },
  {
   "cell_type": "code",
   "execution_count": 144,
   "metadata": {
    "cell_id": "aa54f437-ec64-469d-91b2-1082589a1356",
    "tags": []
   },
   "outputs": [],
   "source": [
    "f = square"
   ]
  },
  {
   "cell_type": "code",
   "execution_count": 145,
   "metadata": {
    "cell_id": "d7d1ce0d-1010-424b-9d79-c7e498abe739",
    "tags": []
   },
   "outputs": [
    {
     "data": {
      "text/plain": [
       "9"
      ]
     },
     "execution_count": 145,
     "metadata": {},
     "output_type": "execute_result"
    }
   ],
   "source": [
    "f(3)"
   ]
  },
  {
   "cell_type": "code",
   "execution_count": 146,
   "metadata": {
    "cell_id": "791fb905-a6a8-4c55-b39b-c747405411c2",
    "tags": []
   },
   "outputs": [
    {
     "name": "stdout",
     "output_type": "stream",
     "text": [
      "1553253453544\n",
      "1553253453544\n"
     ]
    },
    {
     "data": {
      "text/plain": [
       "True"
      ]
     },
     "execution_count": 146,
     "metadata": {},
     "output_type": "execute_result"
    }
   ],
   "source": [
    "print(id(square))\n",
    "print(id(f))\n",
    "f is square"
   ]
  },
  {
   "cell_type": "code",
   "execution_count": 147,
   "metadata": {
    "cell_id": "dad969c5-f0b4-48ed-9c5e-c30a8f7ceab9",
    "tags": []
   },
   "outputs": [
    {
     "name": "stdout",
     "output_type": "stream",
     "text": [
      "4\n",
      "4\n"
     ]
    }
   ],
   "source": [
    "print(square(2))\n",
    "print(f(2))"
   ]
  },
  {
   "cell_type": "code",
   "execution_count": 148,
   "metadata": {
    "cell_id": "f8680cc7-8fcb-4cc1-badb-c103aed9dcba",
    "tags": []
   },
   "outputs": [],
   "source": [
    "def cube(a):\n",
    "    return a ** 3"
   ]
  },
  {
   "cell_type": "code",
   "execution_count": 149,
   "metadata": {
    "cell_id": "ee00ccbb-3b84-4bf4-8a06-ee8278621640",
    "tags": []
   },
   "outputs": [],
   "source": [
    "def select_function(fn_id):\n",
    "    if fn_id == 1:\n",
    "        return square\n",
    "    else:\n",
    "        return cube"
   ]
  },
  {
   "cell_type": "code",
   "execution_count": 150,
   "metadata": {
    "cell_id": "f73a6f27-5a10-4f24-85d9-b3ec69449ff1",
    "tags": []
   },
   "outputs": [
    {
     "data": {
      "text/plain": [
       "True"
      ]
     },
     "execution_count": 150,
     "metadata": {},
     "output_type": "execute_result"
    }
   ],
   "source": [
    "f = select_function(1)\n",
    "f is square"
   ]
  },
  {
   "cell_type": "code",
   "execution_count": 151,
   "metadata": {
    "cell_id": "b2824506-07b6-426f-bf30-10f93e360cb7",
    "tags": []
   },
   "outputs": [
    {
     "data": {
      "text/plain": [
       "4"
      ]
     },
     "execution_count": 151,
     "metadata": {},
     "output_type": "execute_result"
    }
   ],
   "source": [
    "f(2)"
   ]
  },
  {
   "cell_type": "code",
   "execution_count": 152,
   "metadata": {
    "cell_id": "a1b68b3c-95d4-41a8-9a91-2cf9a2586436",
    "tags": []
   },
   "outputs": [
    {
     "data": {
      "text/plain": [
       "True"
      ]
     },
     "execution_count": 152,
     "metadata": {},
     "output_type": "execute_result"
    }
   ],
   "source": [
    "f = select_function(2)\n",
    "f is cube"
   ]
  },
  {
   "cell_type": "code",
   "execution_count": 153,
   "metadata": {
    "cell_id": "77cb4500-0814-42a7-b502-0580bea26b55",
    "tags": []
   },
   "outputs": [
    {
     "data": {
      "text/plain": [
       "64"
      ]
     },
     "execution_count": 153,
     "metadata": {},
     "output_type": "execute_result"
    }
   ],
   "source": [
    "select_function(2)(4)"
   ]
  },
  {
   "cell_type": "code",
   "execution_count": 154,
   "metadata": {
    "cell_id": "dab63374-4591-456a-b807-7488fd2a92bb",
    "tags": []
   },
   "outputs": [
    {
     "name": "stdout",
     "output_type": "stream",
     "text": [
      "4\n",
      "27\n"
     ]
    }
   ],
   "source": [
    "# a function can be passed to a function as well\n",
    "def exec_function(fn, n):\n",
    "    return fn(n)\n",
    "\n",
    "print(exec_function(square, 2))\n",
    "print(exec_function(cube, 3))"
   ]
  },
  {
   "cell_type": "code",
   "execution_count": 155,
   "metadata": {
    "cell_id": "bb609e88-aebc-4f76-baaf-efb8e0c210fa",
    "tags": []
   },
   "outputs": [
    {
     "name": "stdout",
     "output_type": "stream",
     "text": [
      "140728572814000\n",
      "140728572814000\n"
     ]
    }
   ],
   "source": [
    "# [-5, 256]\n",
    "\n",
    "a = 10\n",
    "b = 10\n",
    "print(id(a))\n",
    "print(id(b))"
   ]
  },
  {
   "cell_type": "code",
   "execution_count": 156,
   "metadata": {
    "cell_id": "3483141a-6c69-4516-b05c-8781310bf1e3",
    "tags": []
   },
   "outputs": [
    {
     "name": "stdout",
     "output_type": "stream",
     "text": [
      "140728572813520\n",
      "140728572813520\n"
     ]
    }
   ],
   "source": [
    "a = -5\n",
    "b = -5\n",
    "print(id(a))\n",
    "print(id(b))"
   ]
  },
  {
   "cell_type": "code",
   "execution_count": 157,
   "metadata": {
    "cell_id": "ae057cc4-20a9-433c-b674-96f12e7682d1",
    "tags": []
   },
   "outputs": [
    {
     "name": "stdout",
     "output_type": "stream",
     "text": [
      "1553253587632\n",
      "1553253587600\n"
     ]
    },
    {
     "data": {
      "text/plain": [
       "False"
      ]
     },
     "execution_count": 157,
     "metadata": {},
     "output_type": "execute_result"
    }
   ],
   "source": [
    "a = 257\n",
    "b = 257\n",
    "print(id(a))\n",
    "print(id(b))\n",
    "a is b"
   ]
  },
  {
   "cell_type": "code",
   "execution_count": 158,
   "metadata": {
    "cell_id": "d998d5a4-51b9-45eb-9d1b-569099614444",
    "tags": []
   },
   "outputs": [
    {
     "name": "stdout",
     "output_type": "stream",
     "text": [
      "140728572814000\n",
      "140728572814000\n",
      "140728572814000\n",
      "140728572814000\n"
     ]
    },
    {
     "data": {
      "text/plain": [
       "True"
      ]
     },
     "execution_count": 158,
     "metadata": {},
     "output_type": "execute_result"
    }
   ],
   "source": [
    "a = 10\n",
    "b = int(10)\n",
    "c = int('10')\n",
    "d = int('1010', 2)\n",
    "print(id(a))\n",
    "print(id(b))\n",
    "print(id(c))\n",
    "print(id(d))\n",
    "a is b is c is d"
   ]
  },
  {
   "cell_type": "code",
   "execution_count": 159,
   "metadata": {
    "cell_id": "7f0f09d8-d9ce-4e5b-82fe-8cef04cb0fc3",
    "tags": []
   },
   "outputs": [
    {
     "name": "stdout",
     "output_type": "stream",
     "text": [
      "1553252555696\n",
      "1553252555696\n",
      "True\n"
     ]
    }
   ],
   "source": [
    "a = 'tsai'\n",
    "b = 'tsai'\n",
    "print(id(a))\n",
    "print(id(a))\n",
    "print(a is b)"
   ]
  },
  {
   "cell_type": "code",
   "execution_count": 160,
   "metadata": {
    "cell_id": "6969918c-b063-4da1-b4d7-66e2a179c605",
    "tags": []
   },
   "outputs": [
    {
     "name": "stdout",
     "output_type": "stream",
     "text": [
      "1553253725872\n",
      "1553253725872\n",
      "False\n"
     ]
    }
   ],
   "source": [
    "a = 'hello world'\n",
    "b = 'hello world'\n",
    "print(id(a))\n",
    "print(id(a))\n",
    "print(a is b)"
   ]
  },
  {
   "cell_type": "code",
   "execution_count": 161,
   "metadata": {
    "cell_id": "522f7831-94be-46a3-82af-1a3b9768ab3a",
    "tags": []
   },
   "outputs": [
    {
     "name": "stdout",
     "output_type": "stream",
     "text": [
      "1553253746800\n",
      "1553253746800\n",
      "True\n"
     ]
    }
   ],
   "source": [
    "a = 'hello_world'\n",
    "b = 'hello_world'\n",
    "print(id(a))\n",
    "print(id(a))\n",
    "print(a is b)"
   ]
  },
  {
   "cell_type": "code",
   "execution_count": 162,
   "metadata": {
    "cell_id": "9debd55f-c3c3-495a-b33e-85dc4d6128eb",
    "tags": []
   },
   "outputs": [
    {
     "name": "stdout",
     "output_type": "stream",
     "text": [
      "1553253707664\n",
      "1553253707664\n",
      "True\n"
     ]
    }
   ],
   "source": [
    "a = \"_this_is_a_long_string_which_might_get_interned\"\n",
    "b = \"_this_is_a_long_string_which_might_get_interned\"\n",
    "print(id(a))\n",
    "print(id(a))\n",
    "print(a is b)"
   ]
  },
  {
   "cell_type": "code",
   "execution_count": 163,
   "metadata": {
    "cell_id": "6b2b712a-cca4-4c56-ac13-c4a37bed1702",
    "tags": []
   },
   "outputs": [],
   "source": [
    "# force string interning\n",
    "import sys"
   ]
  },
  {
   "cell_type": "code",
   "execution_count": 164,
   "metadata": {
    "cell_id": "1157da3a-788a-4df9-a23a-ad0f52c17342",
    "tags": []
   },
   "outputs": [
    {
     "name": "stdout",
     "output_type": "stream",
     "text": [
      "1553253742768 1553253742768 1553253742960\n"
     ]
    }
   ],
   "source": [
    "a = sys.intern(\"hello world\")\n",
    "b = sys.intern(\"hello world\")\n",
    "c = \"hello world\"\n",
    "print(id(a),id(b),id(c)) "
   ]
  },
  {
   "cell_type": "code",
   "execution_count": 165,
   "metadata": {
    "cell_id": "a2386bd0-f21d-401d-b58c-fa356f0e0a12",
    "tags": []
   },
   "outputs": [
    {
     "name": "stdout",
     "output_type": "stream",
     "text": [
      "True\n",
      "True\n"
     ]
    }
   ],
   "source": [
    "print(a == b) # character by character test\n",
    "print(a is b) # int comparasion, extremely fast"
   ]
  },
  {
   "cell_type": "code",
   "execution_count": 166,
   "metadata": {
    "cell_id": "0f0e2fb6-b92e-44fd-a124-52cc4ed2a290",
    "tags": []
   },
   "outputs": [],
   "source": [
    "def compare_using_equals(n):\n",
    "    a = 'a long string that is not intered' * 200\n",
    "    b = 'a long string that is not intered' * 200\n",
    "    for i in range(n):\n",
    "        if a == b:\n",
    "            pass"
   ]
  },
  {
   "cell_type": "code",
   "execution_count": 167,
   "metadata": {
    "cell_id": "2b5dbb98-7290-4df6-9bd5-baadac636770",
    "tags": []
   },
   "outputs": [],
   "source": [
    "def compare_using_interning(n):\n",
    "    a = sys.intern('a long string that is not intered' * 200)\n",
    "    b = sys.intern('a long string that is not intered' * 200)\n",
    "    for i in range(n):\n",
    "        if a is b:\n",
    "            pass"
   ]
  },
  {
   "cell_type": "code",
   "execution_count": 168,
   "metadata": {
    "cell_id": "02cefc06-e457-4304-9d55-cf048e2068cc",
    "tags": []
   },
   "outputs": [],
   "source": [
    "import time"
   ]
  },
  {
   "cell_type": "code",
   "execution_count": 169,
   "metadata": {
    "cell_id": "726ae6ea-ee0e-4dd9-8639-92dc83966a4d",
    "tags": []
   },
   "outputs": [
    {
     "name": "stdout",
     "output_type": "stream",
     "text": [
      "equality 6.126510400000001\n"
     ]
    }
   ],
   "source": [
    "start = time.perf_counter()\n",
    "compare_using_equals(10000000)\n",
    "end = time.perf_counter()\n",
    "print('equality', end-start)"
   ]
  },
  {
   "cell_type": "code",
   "execution_count": 170,
   "metadata": {
    "cell_id": "51aeff69-9d80-44d0-a900-01d279b3d8c6",
    "tags": []
   },
   "outputs": [
    {
     "name": "stdout",
     "output_type": "stream",
     "text": [
      "interning 0.7731656999999927\n"
     ]
    }
   ],
   "source": [
    "start = time.perf_counter()\n",
    "compare_using_interning(10000000)\n",
    "end = time.perf_counter()\n",
    "print('interning', end-start)"
   ]
  },
  {
   "cell_type": "code",
   "execution_count": 171,
   "metadata": {
    "cell_id": "629ee5b9-282a-4f42-8c1c-5fdb245c425c",
    "tags": []
   },
   "outputs": [],
   "source": [
    "def my_func():\n",
    "    a = 24 * 60\n",
    "    b = (1, 2) * 5\n",
    "    c = 'abc' * 3\n",
    "    d = 'ab' * 2050\n",
    "    e = 'the quick brown fox is awesome' * 500\n",
    "    f = ['a', 'b'] * 3 # list is not constant\n",
    "\n",
    "# let's compile this.. this will add constants to code associated with this function.. \n",
    "# now let's check that"
   ]
  },
  {
   "cell_type": "code",
   "execution_count": 172,
   "metadata": {
    "allow_embed": false,
    "cell_id": "1f4b19cb-8f36-4bb4-b540-7ac014b376f5",
    "tags": []
   },
   "outputs": [],
   "source": [
    "def my_func():\n",
    "    a = 24 * 60\n",
    "    b = (1, 2) * 5\n",
    "    c = 'abc' * 3\n",
    "    d = 'ab' * 2000\n",
    "    e = 'the quick brown fox is awesome' * 500\n",
    "    f = ['a', 'b'] * 3 # list is not constant\n",
    "\n",
    "# let's compile this.. this will add constants to code associated with this function.. \n",
    "# now let's check that"
   ]
  },
  {
   "cell_type": "code",
   "execution_count": 173,
   "metadata": {
    "cell_id": "33f46322-0d0e-4b85-9149-119384656fa4",
    "tags": []
   },
   "outputs": [
    {
     "data": {
      "text/plain": [
       "(None,\n",
       " 1440,\n",
       " (1, 2, 1, 2, 1, 2, 1, 2, 1, 2),\n",
       " 'abcabcabc',\n",
       " 'abababababababababababababababababababababababababababababababababababababababababababababababababababababababababababababababababababababababababababababababababababababababababababababababababababababababababababababababababababababababababababababababababababababababababababababababababababababababababababababababababababababababababababababababababababababababababababababababababababababababababababababababababababababababababababababababababababababababababababababababababababababababababababababababababababababababababababababababababababababababababababababababababababababababababababababababababababababababababababababababababababababababababababababababababababababababababababababababababababababababababababababababababababababababababababababababababababababababababababababababababababababababababababababababababababababababababababababababababababababababababababababababababababababababababababababababababababababababababababababababababababababababababababababababababababababababababababababababababababababababababababababababababababababababababababababababababababababababababababababababababababababababababababababababababababababababababababababababababababababababababababababababababababababababababababababababababababababababababababababababababababababababababababababababababababababababababababababababababababababababababababababababababababababababababababababababababababababababababababababababababababababababababababababababababababababababababababababababababababababababababababababababababababababababababababababababababababababababababababababababababababababababababababababababababababababababababababababababababababababababababababababababababababababababababababababababababababababababababababababababababababababababababababababababababababababababababababababababababababababababababababababababababababababababababababababababababababababababababababababababababababababababababababababababababababababababababababababababababababababababababababababababababababababababababababababababababababababababababababababababababababababababababababababababababababababababababababababababababababababababababababababababababababababababababababababababababababababababababababababababababababababababababababababababababababababababababababababababababababababababababababababababababababababababababababababababababababababababababababababababababababababababababababababababababababababababababababababababababababababababababababababababababababababababababababababababababababababababababababababababababababababababababababababababababababababababababababababababababababababababababababababababababababababababababababababababababababababababababababababababababababababababababababababababababababababababababababababababababababababababababababababababababababababababababababababababababababababababababababababababababababababababababababababababababababababababababababababababababababababababababababababababababababababababababababababababababababababababababababababababababababababababababababababababababababababababababababababababababababababababababababababababababababababababababababababababababababababababababababababababababababababababababababababababababababababababababababababababababababababababababababababababababababababababababababababababababababababababababababababababababababababababababababababababababababababababababababababababababababababababababababababababababababababababababababababababababababababababababababababababababababababababababababababababababababababababababababababababababababababababababababababababababababababababababababababababababababababababababababababababababababababababababababababababababababababababababababababababababababababababababababababababababababababababababababababababababababababababababababababababababababababababababababababababababababababababababababababababababababababababababababababababababababababababababababababababababababababababababababababababab',\n",
       " 'the quick brown fox is awesome',\n",
       " 500,\n",
       " 'a',\n",
       " 'b',\n",
       " 3)"
      ]
     },
     "execution_count": 173,
     "metadata": {},
     "output_type": "execute_result"
    }
   ],
   "source": [
    "my_func.__code__.co_consts"
   ]
  },
  {
   "cell_type": "code",
   "execution_count": 174,
   "metadata": {
    "cell_id": "c4401e69-348f-4826-a1c9-8ada1dee8724",
    "tags": []
   },
   "outputs": [],
   "source": [
    "def my_func(e):\n",
    "    if e in [1, 2, 3]:\n",
    "        pass"
   ]
  },
  {
   "cell_type": "code",
   "execution_count": 175,
   "metadata": {
    "cell_id": "26e2393a-7384-46ac-9407-17716cf4b1b0",
    "tags": []
   },
   "outputs": [
    {
     "data": {
      "text/plain": [
       "(None, (1, 2, 3))"
      ]
     },
     "execution_count": 175,
     "metadata": {},
     "output_type": "execute_result"
    }
   ],
   "source": [
    "my_func.__code__.co_consts"
   ]
  },
  {
   "cell_type": "code",
   "execution_count": 176,
   "metadata": {
    "cell_id": "075ac2bf-a1a7-4bc8-ae15-700edb017097",
    "tags": []
   },
   "outputs": [
    {
     "data": {
      "text/plain": [
       "(None, frozenset({1, 2, 3}))"
      ]
     },
     "execution_count": 176,
     "metadata": {},
     "output_type": "execute_result"
    }
   ],
   "source": [
    "def my_func(e):\n",
    "    if e in {1, 2, 3}:\n",
    "        pass\n",
    "my_func.__code__.co_consts"
   ]
  },
  {
   "cell_type": "code",
   "execution_count": 177,
   "metadata": {
    "cell_id": "3577bdef-8ebf-4081-8ac7-a5b6527910f8",
    "tags": []
   },
   "outputs": [],
   "source": [
    "import string\n",
    "import time"
   ]
  },
  {
   "cell_type": "code",
   "execution_count": 178,
   "metadata": {
    "cell_id": "3ad5bd32-bbea-4e29-bfbd-aa43be9cee8b",
    "tags": []
   },
   "outputs": [
    {
     "data": {
      "text/plain": [
       "'abcdefghijklmnopqrstuvwxyzABCDEFGHIJKLMNOPQRSTUVWXYZ'"
      ]
     },
     "execution_count": 178,
     "metadata": {},
     "output_type": "execute_result"
    }
   ],
   "source": [
    "string.ascii_letters"
   ]
  },
  {
   "cell_type": "code",
   "execution_count": 179,
   "metadata": {
    "cell_id": "b0dc1725-9740-4dfe-af58-c167b72c098f",
    "tags": []
   },
   "outputs": [],
   "source": [
    "char_list = list(string.ascii_letters)\n",
    "char_tuple = tuple(string.ascii_letters)\n",
    "chat_set = set(string.ascii_letters)"
   ]
  },
  {
   "cell_type": "code",
   "execution_count": 180,
   "metadata": {
    "cell_id": "7eeb6ba7-42dd-4199-a66d-ecb08c5fe41a",
    "tags": []
   },
   "outputs": [
    {
     "name": "stdout",
     "output_type": "stream",
     "text": [
      "['a', 'b', 'c', 'd', 'e', 'f', 'g', 'h', 'i', 'j', 'k', 'l', 'm', 'n', 'o', 'p', 'q', 'r', 's', 't', 'u', 'v', 'w', 'x', 'y', 'z', 'A', 'B', 'C', 'D', 'E', 'F', 'G', 'H', 'I', 'J', 'K', 'L', 'M', 'N', 'O', 'P', 'Q', 'R', 'S', 'T', 'U', 'V', 'W', 'X', 'Y', 'Z']\n"
     ]
    }
   ],
   "source": [
    "print(char_list)\n"
   ]
  },
  {
   "cell_type": "code",
   "execution_count": 181,
   "metadata": {
    "cell_id": "d0ee0eba-9b47-4380-94f2-40abf473fdb8",
    "tags": []
   },
   "outputs": [
    {
     "name": "stdout",
     "output_type": "stream",
     "text": [
      "('a', 'b', 'c', 'd', 'e', 'f', 'g', 'h', 'i', 'j', 'k', 'l', 'm', 'n', 'o', 'p', 'q', 'r', 's', 't', 'u', 'v', 'w', 'x', 'y', 'z', 'A', 'B', 'C', 'D', 'E', 'F', 'G', 'H', 'I', 'J', 'K', 'L', 'M', 'N', 'O', 'P', 'Q', 'R', 'S', 'T', 'U', 'V', 'W', 'X', 'Y', 'Z')\n"
     ]
    }
   ],
   "source": [
    "print(char_tuple)\n"
   ]
  },
  {
   "cell_type": "code",
   "execution_count": 182,
   "metadata": {
    "cell_id": "288d2a6b-14ea-4e2d-a850-0b4a70615928",
    "tags": []
   },
   "outputs": [
    {
     "name": "stdout",
     "output_type": "stream",
     "text": [
      "{'T', 'Z', 'J', 'H', 'w', 'R', 'V', 'l', 'q', 'z', 'S', 'c', 'y', 'g', 't', 'F', 'j', 's', 'W', 'U', 'E', 'G', 'K', 'd', 'A', 'a', 'k', 'r', 'u', 'p', 'i', 'x', 'X', 'B', 'f', 'm', 'I', 'N', 'v', 'M', 'o', 'Y', 'D', 'L', 'C', 'P', 'n', 'Q', 'O', 'e', 'h', 'b'}\n"
     ]
    }
   ],
   "source": [
    "print(chat_set) # order not guaranteed, just like dictionary"
   ]
  },
  {
   "cell_type": "code",
   "execution_count": 183,
   "metadata": {
    "cell_id": "2f66d8de-64c4-4303-9818-5ba1ced87172",
    "tags": []
   },
   "outputs": [],
   "source": [
    "def membership_test(n, container):\n",
    "    for i in range(n):\n",
    "        if 'z' in container: # leveraging polymorphism.. as long as containers support in operator\n",
    "            pass"
   ]
  },
  {
   "cell_type": "code",
   "execution_count": 184,
   "metadata": {
    "cell_id": "58f7c6cb-6e43-4e5f-ba5c-eff535cce8e5",
    "tags": []
   },
   "outputs": [
    {
     "name": "stdout",
     "output_type": "stream",
     "text": [
      "list:  10.475841299999999\n"
     ]
    }
   ],
   "source": [
    "start = time.perf_counter()\n",
    "membership_test(10000000, char_list)\n",
    "end = time.perf_counter()\n",
    "print('list: ', end - start)"
   ]
  },
  {
   "cell_type": "code",
   "execution_count": 185,
   "metadata": {
    "cell_id": "52f4fb36-d0a7-41e1-bcab-a4d403c9cb0f",
    "tags": []
   },
   "outputs": [
    {
     "name": "stdout",
     "output_type": "stream",
     "text": [
      "tuple:  10.027841999999993\n"
     ]
    }
   ],
   "source": [
    "start = time.perf_counter()\n",
    "membership_test(10000000, char_tuple)\n",
    "end = time.perf_counter()\n",
    "print('tuple: ', end - start)"
   ]
  },
  {
   "cell_type": "code",
   "execution_count": 186,
   "metadata": {
    "cell_id": "eae5ea38-7dba-4e36-9dbc-9a66bd6158e5",
    "tags": []
   },
   "outputs": [
    {
     "name": "stdout",
     "output_type": "stream",
     "text": [
      "set:  1.0718123999999989\n"
     ]
    }
   ],
   "source": [
    "start = time.perf_counter()\n",
    "membership_test(10000000, chat_set)\n",
    "end = time.perf_counter()\n",
    "print('set: ', end - start)"
   ]
  }
 ],
 "metadata": {
  "deepnote_execution_queue": [],
  "deepnote_notebook_id": "dc0e4166-42de-4ce0-ba24-0dea54a62add",
  "kernelspec": {
   "display_name": "Python 3",
   "language": "python",
   "name": "python3"
  },
  "language_info": {
   "codemirror_mode": {
    "name": "ipython",
    "version": 3
   },
   "file_extension": ".py",
   "mimetype": "text/x-python",
   "name": "python",
   "nbconvert_exporter": "python",
   "pygments_lexer": "ipython3",
   "version": "3.7.6"
  }
 },
 "nbformat": 4,
 "nbformat_minor": 2
}
