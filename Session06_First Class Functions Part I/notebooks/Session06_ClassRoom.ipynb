{
 "cells": [
  {
   "cell_type": "code",
   "execution_count": 103,
   "metadata": {
    "cell_id": "00000-b5a9c407-efc1-4747-98b2-60c9eab19103",
    "tags": []
   },
   "outputs": [],
   "source": [
    "from datetime import datetime"
   ]
  },
  {
   "cell_type": "code",
   "execution_count": 104,
   "metadata": {
    "cell_id": "00001-7e03b792-cb56-43db-8d3a-5c9ec6463679",
    "tags": []
   },
   "outputs": [
    {
     "data": {
      "text/plain": [
       "datetime.datetime(2020, 8, 22, 7, 22, 8, 191752)"
      ]
     },
     "execution_count": 104,
     "metadata": {},
     "output_type": "execute_result"
    }
   ],
   "source": [
    "datetime.utcnow()"
   ]
  },
  {
   "cell_type": "code",
   "execution_count": 105,
   "metadata": {
    "cell_id": "00002-79c7706d-3603-4afd-8213-256d65bf73f3",
    "tags": []
   },
   "outputs": [
    {
     "name": "stdout",
     "output_type": "stream",
     "text": [
      "2020-08-22 07:22:08.251402\n"
     ]
    }
   ],
   "source": [
    "print(datetime.utcnow())"
   ]
  },
  {
   "cell_type": "code",
   "execution_count": 106,
   "metadata": {
    "cell_id": "00003-5c13e7a2-76af-4c4f-b83e-7d6703229cc8",
    "tags": []
   },
   "outputs": [],
   "source": [
    "def log(msg, *, dt = datetime.utcnow()):\n",
    "    print(f'Message at {dt} was {msg}')"
   ]
  },
  {
   "cell_type": "code",
   "execution_count": 107,
   "metadata": {
    "cell_id": "00004-68806468-1a22-49d3-ac27-0fa5271e097f",
    "tags": []
   },
   "outputs": [
    {
     "name": "stdout",
     "output_type": "stream",
     "text": [
      "Message at 2001-01-01 10:10:10.00000 was Program starting\n"
     ]
    }
   ],
   "source": [
    "log('Program starting', dt = '2001-01-01 10:10:10.00000')"
   ]
  },
  {
   "cell_type": "code",
   "execution_count": 108,
   "metadata": {
    "cell_id": "00005-49407866-500a-4ac4-a1ec-737e7a178a2d",
    "tags": []
   },
   "outputs": [
    {
     "name": "stdout",
     "output_type": "stream",
     "text": [
      "Message at 2020-08-22 07:22:08.270435 was Program started\n"
     ]
    }
   ],
   "source": [
    "log('Program started')"
   ]
  },
  {
   "cell_type": "code",
   "execution_count": 109,
   "metadata": {
    "cell_id": "00006-51f0dc76-2e44-401a-8ff2-02485aaecd97",
    "tags": []
   },
   "outputs": [
    {
     "name": "stdout",
     "output_type": "stream",
     "text": [
      "Message at 2020-08-22 07:22:08.270435 was Program stopped\n"
     ]
    }
   ],
   "source": [
    "log('Program stopped')"
   ]
  },
  {
   "cell_type": "code",
   "execution_count": 110,
   "metadata": {
    "cell_id": "00007-98641a28-f311-42e4-be93-c4c5957150e6",
    "tags": []
   },
   "outputs": [],
   "source": [
    "def log(msg, *, dt = None):\n",
    "    dt = dt or datetime.utcnow()\n",
    "    print(f'Message at {dt} was {msg}')"
   ]
  },
  {
   "cell_type": "code",
   "execution_count": 111,
   "metadata": {
    "cell_id": "00008-b14264bb-5fe0-4a97-b4ac-7d3ce293cdbd",
    "tags": []
   },
   "outputs": [
    {
     "name": "stdout",
     "output_type": "stream",
     "text": [
      "Message at 2020-08-22 07:22:08.334344 was Program stopped\n"
     ]
    }
   ],
   "source": [
    "log('Program stopped')"
   ]
  },
  {
   "cell_type": "code",
   "execution_count": 112,
   "metadata": {
    "cell_id": "00009-96a2a8dd-5ab4-45c4-b25b-658b38edee4a",
    "tags": []
   },
   "outputs": [
    {
     "name": "stdout",
     "output_type": "stream",
     "text": [
      "Message at 2020-08-22 07:22:08.343184 was Program stopped again\n"
     ]
    }
   ],
   "source": [
    "log('Program stopped again')"
   ]
  },
  {
   "cell_type": "code",
   "execution_count": 113,
   "metadata": {
    "cell_id": "00010-5630b1ea-d681-4309-9152-4b23cc145c81",
    "tags": []
   },
   "outputs": [
    {
     "name": "stdout",
     "output_type": "stream",
     "text": [
      "Message at 2020-08-22 07:22:08.356072 was Program stopped again\n"
     ]
    }
   ],
   "source": [
    "log('Program stopped again', dt = None)"
   ]
  },
  {
   "cell_type": "code",
   "execution_count": 114,
   "metadata": {
    "cell_id": "00011-2ae102af-2e3f-4ea0-8bba-957c7eab0521",
    "tags": []
   },
   "outputs": [
    {
     "name": "stdout",
     "output_type": "stream",
     "text": [
      "Message at ganesh chaturthi was Program stopped again\n"
     ]
    }
   ],
   "source": [
    "log('Program stopped again', dt = 'ganesh chaturthi')"
   ]
  },
  {
   "cell_type": "code",
   "execution_count": 115,
   "metadata": {
    "cell_id": "00012-4ba58ac4-55d4-44ea-ada5-29bbcb36da1b",
    "tags": []
   },
   "outputs": [],
   "source": [
    "my_list = [1, 2, 3]\n",
    "def func(a = my_list):\n",
    "    print(a)"
   ]
  },
  {
   "cell_type": "code",
   "execution_count": 116,
   "metadata": {
    "cell_id": "00013-44350598-9390-4959-9f79-8dd01bb9d9d4",
    "tags": []
   },
   "outputs": [
    {
     "name": "stdout",
     "output_type": "stream",
     "text": [
      "[1, 2, 3]\n"
     ]
    }
   ],
   "source": [
    "func()"
   ]
  },
  {
   "cell_type": "code",
   "execution_count": 117,
   "metadata": {
    "cell_id": "00014-e4d4ab44-5b3b-44d7-b018-eb25f11ec9ac",
    "tags": []
   },
   "outputs": [
    {
     "name": "stdout",
     "output_type": "stream",
     "text": [
      "['a', 'b']\n"
     ]
    }
   ],
   "source": [
    "func(a = ['a', 'b'])"
   ]
  },
  {
   "cell_type": "code",
   "execution_count": 118,
   "metadata": {
    "cell_id": "00015-d5187156-69e4-41bd-86fb-10bcd45e9417",
    "tags": []
   },
   "outputs": [
    {
     "name": "stdout",
     "output_type": "stream",
     "text": [
      "[1, 2, 3]\n"
     ]
    }
   ],
   "source": [
    "func()"
   ]
  },
  {
   "cell_type": "code",
   "execution_count": 119,
   "metadata": {
    "cell_id": "00016-fe3c1b53-3065-41e0-a76b-c9b961da03a9",
    "tags": []
   },
   "outputs": [],
   "source": [
    "my_list.append('d')"
   ]
  },
  {
   "cell_type": "code",
   "execution_count": 120,
   "metadata": {
    "cell_id": "00017-f5c88e20-9a26-408b-8239-c8ccc41798bf",
    "tags": []
   },
   "outputs": [
    {
     "name": "stdout",
     "output_type": "stream",
     "text": [
      "[1, 2, 3, 'd']\n"
     ]
    }
   ],
   "source": [
    "func()"
   ]
  },
  {
   "cell_type": "code",
   "execution_count": 121,
   "metadata": {
    "cell_id": "00018-9094b816-4afc-4aa1-8c37-6aa3cf7c4800",
    "tags": []
   },
   "outputs": [],
   "source": [
    "my_list = (1, 2, 3)\n",
    "def func(a = my_list):\n",
    "    print(a)"
   ]
  },
  {
   "cell_type": "code",
   "execution_count": 122,
   "metadata": {
    "cell_id": "00019-20f6ac53-113f-4636-98e5-914ad7ffce69",
    "tags": []
   },
   "outputs": [
    {
     "name": "stdout",
     "output_type": "stream",
     "text": [
      "(1, 2, 3)\n"
     ]
    }
   ],
   "source": [
    "func()"
   ]
  },
  {
   "cell_type": "code",
   "execution_count": 123,
   "metadata": {
    "cell_id": "00020-a59311ee-059e-44ef-89b0-378ed2b0ce27",
    "tags": []
   },
   "outputs": [
    {
     "ename": "AttributeError",
     "evalue": "'tuple' object has no attribute 'append'",
     "output_type": "error",
     "traceback": [
      "\u001b[0;31m---------------------------------------------------------------------------\u001b[0m",
      "\u001b[0;31mAttributeError\u001b[0m                            Traceback (most recent call last)",
      "\u001b[0;32m<ipython-input-123-07de0c001dbe>\u001b[0m in \u001b[0;36m<module>\u001b[0;34m\u001b[0m\n\u001b[0;32m----> 1\u001b[0;31m \u001b[0mmy_list\u001b[0m\u001b[0;34m.\u001b[0m\u001b[0mappend\u001b[0m\u001b[0;34m(\u001b[0m\u001b[0;36m4\u001b[0m\u001b[0;34m)\u001b[0m\u001b[0;34m\u001b[0m\u001b[0;34m\u001b[0m\u001b[0m\n\u001b[0m",
      "\u001b[0;31mAttributeError\u001b[0m: 'tuple' object has no attribute 'append'"
     ]
    }
   ],
   "source": [
    "my_list.append(4)"
   ]
  },
  {
   "cell_type": "code",
   "execution_count": 12,
   "metadata": {
    "cell_id": "00021-2c271dcc-bc39-4000-a6e8-bd287b7a3d79",
    "tags": []
   },
   "outputs": [],
   "source": [
    "def add_item(name, quantity, unit, grocery_list):\n",
    "    grocery_list.append(f'{name} {quantity} {unit}')\n",
    "    return grocery_list"
   ]
  },
  {
   "cell_type": "code",
   "execution_count": 13,
   "metadata": {
    "cell_id": "00022-9246e4b5-73dc-4466-83c3-2cc0a06c62a3",
    "tags": []
   },
   "outputs": [],
   "source": [
    "store1 = []\n",
    "store2 = []"
   ]
  },
  {
   "cell_type": "code",
   "execution_count": 14,
   "metadata": {
    "cell_id": "00023-8f32fdb5-d407-4861-aee5-fac57a58c877",
    "tags": []
   },
   "outputs": [],
   "source": [
    "add_item('banana', 2, 'units', store1)\n"
   ]
  },
  {
   "cell_type": "code",
   "execution_count": 15,
   "metadata": {
    "cell_id": "00024-5b13db09-fd18-478d-91e1-ed335ef0088b",
    "tags": []
   },
   "outputs": [],
   "source": [
    "add_item('milk', 1, 'litre', store1)"
   ]
  },
  {
   "cell_type": "code",
   "execution_count": 16,
   "metadata": {
    "cell_id": "00025-ca09630c-c581-44d8-b333-3b5781ce4a75",
    "tags": []
   },
   "outputs": [],
   "source": [
    "print(store1)"
   ]
  },
  {
   "cell_type": "code",
   "execution_count": 17,
   "metadata": {
    "cell_id": "00026-33c4a27e-4b58-4df8-8541-25eccbee4404",
    "tags": []
   },
   "outputs": [],
   "source": [
    "add_item('coronavirus', 1e10, 'cells', store2)"
   ]
  },
  {
   "cell_type": "code",
   "execution_count": 18,
   "metadata": {
    "cell_id": "00027-8ff552bc-6a18-46b5-88f6-e9d567fd040e",
    "tags": []
   },
   "outputs": [],
   "source": [
    "def add_item(name, quantity, unit, grocery_list = []):\n",
    "    grocery_list.append(f'{name} {quantity} {unit}')\n",
    "    return grocery_list"
   ]
  },
  {
   "cell_type": "code",
   "execution_count": 19,
   "metadata": {
    "cell_id": "00028-ebc2a6d5-9bce-402e-9088-f62e29244939",
    "tags": []
   },
   "outputs": [],
   "source": [
    "del store1\n",
    "del store2"
   ]
  },
  {
   "cell_type": "code",
   "execution_count": 20,
   "metadata": {
    "cell_id": "00029-5cc9ef25-c53a-4d8b-bccb-c6567d56a1a8",
    "tags": []
   },
   "outputs": [],
   "source": [
    "store1 = add_item('banana', 2, 'units')"
   ]
  },
  {
   "cell_type": "code",
   "execution_count": 21,
   "metadata": {
    "cell_id": "00030-49aefee4-5c12-4950-a679-2ef19e919034",
    "tags": []
   },
   "outputs": [],
   "source": [
    "add_item('milk', 1, 'litre', store1)"
   ]
  },
  {
   "cell_type": "code",
   "execution_count": 22,
   "metadata": {
    "cell_id": "00031-b25ef80a-d859-4f65-bb9a-b5a24e9fa66c",
    "tags": []
   },
   "outputs": [],
   "source": [
    "store2 = add_item('coronavirus', 1e10, 'molecules')"
   ]
  },
  {
   "cell_type": "code",
   "execution_count": 23,
   "metadata": {
    "cell_id": "00032-de802aa1-d40e-47b0-9947-d18b73ac39b8",
    "tags": []
   },
   "outputs": [],
   "source": [
    "print(store2)"
   ]
  },
  {
   "cell_type": "code",
   "execution_count": 24,
   "metadata": {
    "cell_id": "00033-c9c732c9-91a7-4e46-865c-5afeb07ca993",
    "tags": []
   },
   "outputs": [],
   "source": [
    "print(store1)"
   ]
  },
  {
   "cell_type": "code",
   "execution_count": 25,
   "metadata": {
    "cell_id": "00034-4cdf0e97-5ee0-4ae8-b903-55b59568c0b1",
    "tags": []
   },
   "outputs": [],
   "source": [
    "store1 is store2"
   ]
  },
  {
   "cell_type": "code",
   "execution_count": 26,
   "metadata": {
    "cell_id": "00035-62fd7b8d-9037-478f-b8c1-7c233e72677f",
    "tags": []
   },
   "outputs": [],
   "source": [
    "def add_item(name, quantity, unit, grocery_list = None):\n",
    "    grocery_list = grocery_list or []\n",
    "    grocery_list.append(f'{name} {quantity} {unit}')\n",
    "    return grocery_list"
   ]
  },
  {
   "cell_type": "code",
   "execution_count": 27,
   "metadata": {
    "cell_id": "00036-02af6efa-99c0-459f-8e2e-6d6d6301876d",
    "tags": []
   },
   "outputs": [],
   "source": [
    "store1 = add_item('banana', 2, 'units')\n",
    "add_item('milk', 1, 'litre', store1)\n",
    "store2 = add_item('coronavirus', 1e10, 'molecules')\n",
    "print(store1)\n",
    "print(store2)"
   ]
  },
  {
   "cell_type": "code",
   "execution_count": 28,
   "metadata": {
    "cell_id": "00037-51a3c312-a951-4f83-a20b-af007e05d727",
    "tags": []
   },
   "outputs": [],
   "source": [
    "def factorial(n):\n",
    "    if n < 1:\n",
    "        return 1\n",
    "    else: \n",
    "        print('Calculating {0} factorial'.format(n))\n",
    "        return n * factorial (n - 1)"
   ]
  },
  {
   "cell_type": "code",
   "execution_count": 29,
   "metadata": {
    "cell_id": "00038-5f6e5a32-f650-484e-b40a-5e3abf47dc68",
    "tags": []
   },
   "outputs": [],
   "source": [
    "factorial(3)"
   ]
  },
  {
   "cell_type": "code",
   "execution_count": 30,
   "metadata": {
    "cell_id": "00039-b7fb85ca-18ac-4d52-a18a-5684d28fc84b",
    "tags": []
   },
   "outputs": [],
   "source": [
    "factorial(3)"
   ]
  },
  {
   "cell_type": "code",
   "execution_count": 31,
   "metadata": {
    "cell_id": "00040-54224709-836a-419a-9620-58fb1692d47a",
    "tags": []
   },
   "outputs": [],
   "source": [
    "factorial(4)"
   ]
  },
  {
   "cell_type": "code",
   "execution_count": 36,
   "metadata": {
    "cell_id": "00041-6ed5faf0-4f68-4bc3-a09f-de1b9ece67d2",
    "tags": []
   },
   "outputs": [],
   "source": [
    "def factorial(n, *, cache):\n",
    "    if n < 1:\n",
    "        return 1\n",
    "    elif n in cache:\n",
    "        return cache[n]\n",
    "    else:\n",
    "        print('Calculating {0}'.format(n))\n",
    "        result = n * factorial(n -1, cache = cache)\n",
    "        cache[n] = result\n",
    "        return result"
   ]
  },
  {
   "cell_type": "code",
   "execution_count": 37,
   "metadata": {
    "cell_id": "00042-a71c73b2-2f4b-4ee2-bf17-4916e887c0b5",
    "tags": []
   },
   "outputs": [],
   "source": [
    "cache = {}\n",
    "factorial(3, cache = cache)"
   ]
  },
  {
   "cell_type": "code",
   "execution_count": 38,
   "metadata": {
    "cell_id": "00043-b8a115d2-7edb-42fc-acb4-419466392983",
    "tags": []
   },
   "outputs": [],
   "source": [
    "print(cache)"
   ]
  },
  {
   "cell_type": "code",
   "execution_count": 39,
   "metadata": {
    "cell_id": "00044-794e5124-4e8f-49a8-9afa-45c1dd76ff37",
    "tags": []
   },
   "outputs": [],
   "source": [
    "factorial(3, cache = cache)"
   ]
  },
  {
   "cell_type": "code",
   "execution_count": 40,
   "metadata": {
    "cell_id": "00045-3fe40c5d-81f7-437c-8f48-bdd89bdeb9e4",
    "tags": []
   },
   "outputs": [],
   "source": [
    "factorial(4, cache = cache)"
   ]
  },
  {
   "cell_type": "code",
   "execution_count": 41,
   "metadata": {
    "cell_id": "00046-7470349f-2f7f-40e0-82d3-0adc95dabd3f",
    "tags": []
   },
   "outputs": [],
   "source": [
    "def factorial(n, cache = {} ): # making cache a non-keyword only argument\n",
    "# this also forces fn to use the same dictionary\n",
    "    if n < 1:\n",
    "        return 1\n",
    "    elif n in cache:\n",
    "        return cache[n]\n",
    "    else:\n",
    "        print('Calculating {0}'.format(n))\n",
    "        result = n * factorial (n - 1)\n",
    "        cache[n] = result\n",
    "        return result"
   ]
  },
  {
   "cell_type": "code",
   "execution_count": 42,
   "metadata": {
    "cell_id": "00047-b9d0b0e2-1167-4681-aedd-12c33cef4ca0",
    "tags": []
   },
   "outputs": [],
   "source": [
    "factorial(3)"
   ]
  },
  {
   "cell_type": "code",
   "execution_count": 43,
   "metadata": {
    "cell_id": "00048-fb8ee5b6-9f9e-4f75-93ad-fe0c4491b0ae",
    "tags": []
   },
   "outputs": [],
   "source": [
    "factorial(3)"
   ]
  },
  {
   "cell_type": "code",
   "execution_count": 44,
   "metadata": {
    "cell_id": "00049-77138aaa-98d0-4366-9155-bd8c2fd62ed8",
    "tags": []
   },
   "outputs": [],
   "source": [
    "help(print)"
   ]
  },
  {
   "cell_type": "code",
   "execution_count": 45,
   "metadata": {
    "cell_id": "00050-7d957bfb-9cec-4b37-a9b0-c090f27a7f80",
    "tags": []
   },
   "outputs": [],
   "source": [
    "help(int)"
   ]
  },
  {
   "cell_type": "code",
   "execution_count": 46,
   "metadata": {
    "cell_id": "00051-8d8fcef7-309a-498e-ae30-95dc1e0d677b",
    "tags": []
   },
   "outputs": [],
   "source": [
    "def my_func(a, b = 1):\n",
    "    return a * b"
   ]
  },
  {
   "cell_type": "code",
   "execution_count": 47,
   "metadata": {
    "cell_id": "00052-81f07e59-2b6e-458d-990e-30b79f318115",
    "tags": []
   },
   "outputs": [],
   "source": [
    "help(my_func)"
   ]
  },
  {
   "cell_type": "code",
   "execution_count": 48,
   "metadata": {
    "cell_id": "00053-fb7ee649-e3de-4a4a-a2c7-f9729a8a0b70",
    "tags": []
   },
   "outputs": [],
   "source": [
    "def my_func(a, b = 1):\n",
    "    'returns a * b'\n",
    "    return a * b\n",
    "help(my_func)"
   ]
  },
  {
   "cell_type": "code",
   "execution_count": 49,
   "metadata": {
    "cell_id": "00054-8af7c91d-6371-4601-a3d1-fad03cb62b6c",
    "tags": []
   },
   "outputs": [],
   "source": [
    "def my_func(a, b = 1):\n",
    "    '''returns a * b\n",
    "        tripple quotes would help us add multiline docstrings\n",
    "    '''\n",
    "    return a * b\n",
    "help(my_func)"
   ]
  },
  {
   "cell_type": "code",
   "execution_count": 50,
   "metadata": {
    "cell_id": "00055-4350906c-67a7-4766-ab9e-8721cd31ee3f",
    "tags": []
   },
   "outputs": [],
   "source": [
    "def my_func(a, b = 1):\n",
    "    # this is comment\n",
    "    \"\"\"returns a * b\n",
    "    some additional documentation\n",
    "\n",
    "    Inputs: business is down, so rarely anything\n",
    "    Outputs: salary still needs to be paid!\n",
    "    \"\"\"\n",
    "    return a * b\n",
    "\n",
    "help(my_func)"
   ]
  },
  {
   "cell_type": "code",
   "execution_count": 51,
   "metadata": {
    "cell_id": "00056-902fb6b3-49ce-4257-999f-cb4e1bdd84b6",
    "tags": []
   },
   "outputs": [],
   "source": [
    "my_func.__doc__"
   ]
  },
  {
   "cell_type": "code",
   "execution_count": 52,
   "metadata": {
    "cell_id": "00057-9a1ad1f7-cac1-4d52-89d6-69b0b68396d6",
    "tags": []
   },
   "outputs": [],
   "source": [
    "def my_func(a: 'annotation for a', \n",
    "        b: 'annotation for b' = 1) -> 'something with a long annotation':\n",
    "    '''documentation for my_func'''\n",
    "    return a * b\n",
    "help(my_func)"
   ]
  },
  {
   "cell_type": "code",
   "execution_count": 53,
   "metadata": {
    "cell_id": "00058-d33e68d6-ea65-46ee-9105-a0521952afd2",
    "tags": []
   },
   "outputs": [],
   "source": [
    "my_func()"
   ]
  },
  {
   "cell_type": "code",
   "execution_count": 54,
   "metadata": {
    "cell_id": "00059-a7e8c9b6-07eb-4bbf-b882-d1a85cb50a6d",
    "tags": []
   },
   "outputs": [],
   "source": [
    "my_func.__doc__"
   ]
  },
  {
   "cell_type": "code",
   "execution_count": 55,
   "metadata": {
    "cell_id": "00060-406f0381-7b12-4622-bad8-6b5c747b1417",
    "tags": []
   },
   "outputs": [],
   "source": [
    "my_func.__annotations__"
   ]
  },
  {
   "cell_type": "code",
   "execution_count": 56,
   "metadata": {
    "cell_id": "00061-96f937ea-0d63-4fcd-a012-4b1242d29469",
    "tags": []
   },
   "outputs": [],
   "source": [
    "x = 3\n",
    "y = 5\n",
    "\n",
    "def my_func(a: str) -> 'a repeated ' + str(max(x, y)) + ' times':\n",
    "\treturn a * max(x, y)"
   ]
  },
  {
   "cell_type": "code",
   "execution_count": 57,
   "metadata": {
    "cell_id": "00062-a8a2c22a-3c41-4fe6-81fc-c726a1652ded",
    "tags": []
   },
   "outputs": [],
   "source": [
    "my_func('a')"
   ]
  },
  {
   "cell_type": "code",
   "execution_count": 58,
   "metadata": {
    "cell_id": "00063-45353416-48aa-40f3-b3c8-1b7d87cb4a93",
    "tags": []
   },
   "outputs": [],
   "source": [
    "help(my_func)"
   ]
  },
  {
   "cell_type": "code",
   "execution_count": 59,
   "metadata": {
    "cell_id": "00064-e9ac21a7-1fc8-4028-b999-12e36cdead80",
    "tags": []
   },
   "outputs": [],
   "source": [
    "my_func.__annotations__"
   ]
  },
  {
   "cell_type": "code",
   "execution_count": 60,
   "metadata": {
    "cell_id": "00065-03b66d98-cb79-4645-902c-3c2c0ef79e9e",
    "tags": []
   },
   "outputs": [],
   "source": [
    "x = 3\n",
    "y = 15\n",
    "my_func.__annotations__"
   ]
  },
  {
   "cell_type": "code",
   "execution_count": 61,
   "metadata": {
    "cell_id": "00066-1d591b86-2b93-4a1f-bc83-925e0c080bab",
    "tags": []
   },
   "outputs": [],
   "source": [
    "def my_func(a: str = 'xyz',\n",
    "        *args: 'additional positional parameters',\n",
    "        b: int = 1,\n",
    "        **kwargs: 'additional keyword only params') ->str:\n",
    "\tpass"
   ]
  },
  {
   "cell_type": "code",
   "execution_count": 62,
   "metadata": {
    "cell_id": "00067-12e31e13-bcd6-4801-ab29-336cac912a9e",
    "tags": []
   },
   "outputs": [],
   "source": [
    "help(my_func)"
   ]
  },
  {
   "cell_type": "code",
   "execution_count": 63,
   "metadata": {
    "cell_id": "00068-dedaf081-f31b-4053-b974-c0b8dcfafb3c",
    "tags": []
   },
   "outputs": [],
   "source": [
    "my_func.__annotations__"
   ]
  },
  {
   "cell_type": "code",
   "execution_count": 64,
   "metadata": {
    "cell_id": "00069-8cfa1623-d446-4e94-b9bf-6ed878ab7ea9",
    "tags": []
   },
   "outputs": [],
   "source": [
    "def sq(x): # how do we define\n",
    "    return x ** 2"
   ]
  },
  {
   "cell_type": "code",
   "execution_count": 65,
   "metadata": {
    "cell_id": "00070-9f734173-f820-44e3-99ae-de9c57bd4964",
    "tags": []
   },
   "outputs": [],
   "source": [
    "type(sq)"
   ]
  },
  {
   "cell_type": "code",
   "execution_count": 66,
   "metadata": {
    "cell_id": "00071-f2949b3c-54bc-436a-b662-5f62914f8275",
    "tags": []
   },
   "outputs": [],
   "source": [
    "sq"
   ]
  },
  {
   "cell_type": "code",
   "execution_count": 67,
   "metadata": {
    "cell_id": "00072-8e12184a-f1bd-489c-a80e-915934def668",
    "tags": []
   },
   "outputs": [],
   "source": [
    "def sq(x): # how do we define\n",
    "    return x ** 2\n",
    "\n",
    "lambda msd: msd ** 2"
   ]
  },
  {
   "cell_type": "code",
   "execution_count": 68,
   "metadata": {
    "cell_id": "00073-db7abc80-387b-49a7-ab40-56b176323f89",
    "tags": []
   },
   "outputs": [],
   "source": [
    "cricketer = lambda msd: msd ** 2"
   ]
  },
  {
   "cell_type": "code",
   "execution_count": 70,
   "metadata": {
    "cell_id": "00074-99e9f501-893c-4a32-8be7-d68965e7bf25",
    "tags": []
   },
   "outputs": [],
   "source": [
    "cricketer(12)"
   ]
  },
  {
   "cell_type": "code",
   "execution_count": 71,
   "metadata": {
    "cell_id": "00075-fcc09ae3-67d2-4a3d-a00a-683a7340a50f",
    "tags": []
   },
   "outputs": [],
   "source": [
    "lambda a, b: a + b\n"
   ]
  },
  {
   "cell_type": "code",
   "execution_count": 72,
   "metadata": {
    "cell_id": "00076-8758307e-f171-4e3f-80b0-d53f3a60fab3",
    "tags": []
   },
   "outputs": [],
   "source": [
    "def stupid_fn(fn, a, b):\n",
    "    return fn(a, b)"
   ]
  },
  {
   "cell_type": "code",
   "execution_count": 73,
   "metadata": {
    "cell_id": "00077-e8deed8a-f67f-409b-beb2-c35c2de34990",
    "tags": []
   },
   "outputs": [],
   "source": [
    "stupid_fn(lambda a, b: a + b, 2, 3)"
   ]
  },
  {
   "cell_type": "code",
   "execution_count": 74,
   "metadata": {
    "cell_id": "00078-af582fdd-a158-45d0-8006-5bbabaf33b9a",
    "tags": []
   },
   "outputs": [],
   "source": [
    "fn = lambda a, b: a + b\n",
    "stupid_fn(fn, 2, 3)"
   ]
  },
  {
   "cell_type": "code",
   "execution_count": 75,
   "metadata": {
    "cell_id": "00079-2cbe3e6e-397b-4ca6-8d78-06dbae66e7d9",
    "tags": []
   },
   "outputs": [],
   "source": [
    "def sq(x): # how do we define\n",
    "    return x ** 2\n",
    "\n",
    "f = sq"
   ]
  },
  {
   "cell_type": "code",
   "execution_count": 76,
   "metadata": {
    "cell_id": "00080-a79edb92-8bcf-49f2-a578-77bc3a38d160",
    "tags": []
   },
   "outputs": [],
   "source": [
    "f(12)"
   ]
  },
  {
   "cell_type": "code",
   "execution_count": 77,
   "metadata": {
    "cell_id": "00081-19286477-1afd-4b3b-90ff-0c0980ed3767",
    "tags": []
   },
   "outputs": [],
   "source": [
    "f"
   ]
  },
  {
   "cell_type": "code",
   "execution_count": 78,
   "metadata": {
    "cell_id": "00082-7bf73603-e428-49cc-85b1-cde6dbe71dcf",
    "tags": []
   },
   "outputs": [],
   "source": [
    "f = lambda x: x**2\n",
    "f"
   ]
  },
  {
   "cell_type": "code",
   "execution_count": 79,
   "metadata": {
    "cell_id": "00083-80f743d0-6ed4-4b60-9352-a0c5cef08db6",
    "tags": []
   },
   "outputs": [],
   "source": [
    "f(9)"
   ]
  },
  {
   "cell_type": "code",
   "execution_count": 83,
   "metadata": {
    "cell_id": "00084-040b856d-4b31-45e7-9fcc-729b8a34cd23",
    "tags": []
   },
   "outputs": [],
   "source": [
    "g = lambda x, y = 10, *args: x + y + sum(args)"
   ]
  },
  {
   "cell_type": "code",
   "execution_count": 84,
   "metadata": {
    "cell_id": "00085-7fcc7182-e037-494d-8955-b5e00e1f89f3",
    "tags": []
   },
   "outputs": [],
   "source": [
    "g(1)"
   ]
  },
  {
   "cell_type": "code",
   "execution_count": 85,
   "metadata": {
    "cell_id": "00086-7d22b73a-24dc-41f1-85fc-a7de3182b5d4",
    "tags": []
   },
   "outputs": [],
   "source": [
    "g(1, 2)"
   ]
  },
  {
   "cell_type": "code",
   "execution_count": 86,
   "metadata": {
    "cell_id": "00087-ae111569-e2bf-4a8d-8e45-7d588becd0b9",
    "tags": []
   },
   "outputs": [],
   "source": [
    "g(1, 2, 3, 4, 5, 6)"
   ]
  },
  {
   "cell_type": "code",
   "execution_count": 87,
   "metadata": {
    "cell_id": "00088-ed57fa06-2f66-426e-8652-f09c2f4f6a5c",
    "tags": []
   },
   "outputs": [],
   "source": [
    "f = lambda x, *args, y, **kwargs: print(x, args, y, kwargs)"
   ]
  },
  {
   "cell_type": "code",
   "execution_count": 88,
   "metadata": {
    "cell_id": "00089-8f5ab9f5-5719-474e-8735-92ed8110eb11",
    "tags": []
   },
   "outputs": [],
   "source": [
    "f = lambda x, *args, y, **kwargs: (x, args, y, kwargs)"
   ]
  },
  {
   "cell_type": "code",
   "execution_count": 89,
   "metadata": {
    "cell_id": "00090-18676c3e-0983-4df8-b27c-07ab2611da3b",
    "tags": []
   },
   "outputs": [],
   "source": [
    "f(1, 'a', 'b', y= 10, a = 100, b = 200)"
   ]
  },
  {
   "cell_type": "code",
   "execution_count": 90,
   "metadata": {
    "cell_id": "00091-b373074e-b435-428c-9d6e-ac4042caa4a6",
    "tags": []
   },
   "outputs": [],
   "source": [
    "f = lambda x, *args, y, **kwargs: (x, *args, y, *kwargs)\n",
    "f(1, 'a', 'b', y= 10, a = 100, b = 200)"
   ]
  },
  {
   "cell_type": "code",
   "execution_count": 91,
   "metadata": {
    "cell_id": "00092-bfbe5233-2d63-4391-a263-84eac4ed5980",
    "tags": []
   },
   "outputs": [],
   "source": [
    "def apply_func(x, fn):\n",
    "    return fn(x)"
   ]
  },
  {
   "cell_type": "code",
   "execution_count": 92,
   "metadata": {
    "cell_id": "00093-8a2e3778-55f2-41dd-8697-935f42526307",
    "tags": []
   },
   "outputs": [],
   "source": [
    "apply_func(3, sq)"
   ]
  },
  {
   "cell_type": "code",
   "execution_count": 93,
   "metadata": {
    "cell_id": "00094-0ea614d8-1995-4f5f-b4e5-afb2dff0dc90",
    "tags": []
   },
   "outputs": [],
   "source": [
    "apply_func(3, lambda x: x**2)"
   ]
  },
  {
   "cell_type": "code",
   "execution_count": 94,
   "metadata": {
    "cell_id": "00095-337894e5-2193-4d7a-8b55-47af6ebe068e",
    "tags": []
   },
   "outputs": [],
   "source": [
    "apply_func(3, lambda x: x**4)"
   ]
  },
  {
   "cell_type": "code",
   "execution_count": 97,
   "metadata": {
    "cell_id": "00096-14ab298d-06cc-41d1-8e69-7d5b4d500cfe",
    "tags": []
   },
   "outputs": [],
   "source": [
    "def apply_func(fn, *args, **kwargs):\n",
    "    return fn(*args, **kwargs)"
   ]
  },
  {
   "cell_type": "code",
   "execution_count": 98,
   "metadata": {
    "cell_id": "00097-a924f45d-87c4-44f4-8c62-32f3cb7a4c2d",
    "tags": []
   },
   "outputs": [],
   "source": [
    "apply_func(sq, 3)"
   ]
  },
  {
   "cell_type": "code",
   "execution_count": 99,
   "metadata": {
    "cell_id": "00098-bbaf0aa3-7c7c-4589-8efb-df59683e01a6",
    "tags": []
   },
   "outputs": [],
   "source": [
    "apply_func(lambda x: x**2, 3)"
   ]
  },
  {
   "cell_type": "code",
   "execution_count": 100,
   "metadata": {
    "cell_id": "00099-66871ac1-b358-4674-8001-2760022b45b0",
    "tags": []
   },
   "outputs": [],
   "source": [
    "apply_func(lambda x, y, z: (x + y)/z, 1, 2, 3)\n"
   ]
  },
  {
   "cell_type": "code",
   "execution_count": 101,
   "metadata": {
    "cell_id": "00100-1217316d-1a0d-4158-9bc2-3e72e2691e43",
    "tags": []
   },
   "outputs": [],
   "source": [
    "3/3"
   ]
  },
  {
   "cell_type": "code",
   "execution_count": 102,
   "metadata": {
    "cell_id": "00101-bbfb442b-2f36-4105-9ca0-d49cbb395a3d",
    "tags": []
   },
   "outputs": [],
   "source": [
    "# def apply_func(fn, *args, **kwargs):\n",
    "apply_func(lambda x, y: x + y, 1, 2)"
   ]
  },
  {
   "cell_type": "code",
   "execution_count": 127,
   "metadata": {
    "cell_id": "00102-dc99d0e9-b7be-4a5f-a16c-7636f42d7a2f",
    "tags": []
   },
   "outputs": [
    {
     "data": {
      "text/plain": [
       "3"
      ]
     },
     "execution_count": 127,
     "metadata": {},
     "output_type": "execute_result"
    }
   ],
   "source": [
    "apply_func(lambda x, y, z: x + y, 1, 2, 3)"
   ]
  },
  {
   "cell_type": "code",
   "execution_count": 129,
   "metadata": {
    "cell_id": "00103-664dfc11-3b6e-44eb-b6ef-6e04a00bfa6a",
    "tags": []
   },
   "outputs": [
    {
     "data": {
      "text/plain": [
       "3"
      ]
     },
     "execution_count": 129,
     "metadata": {},
     "output_type": "execute_result"
    }
   ],
   "source": [
    "apply_func(lambda x, y, *args: x + y, 1, 2, 3, 4, 5)"
   ]
  },
  {
   "cell_type": "code",
   "execution_count": 130,
   "metadata": {
    "cell_id": "00104-6c2efad2-2e20-44fe-844a-d54b1180ae06",
    "tags": []
   },
   "outputs": [
    {
     "data": {
      "text/plain": [
       "21"
      ]
     },
     "execution_count": 130,
     "metadata": {},
     "output_type": "execute_result"
    }
   ],
   "source": [
    "# def apply_func(fn, *args, **kwargs):\n",
    "apply_func(lambda x, *, y: x + y, 1, y = 20)"
   ]
  },
  {
   "cell_type": "code",
   "execution_count": 131,
   "metadata": {
    "cell_id": "00105-8b54eadf-17d6-453a-9bdc-1fb8e98eaf85",
    "tags": []
   },
   "outputs": [
    {
     "data": {
      "text/plain": [
       "15"
      ]
     },
     "execution_count": 131,
     "metadata": {},
     "output_type": "execute_result"
    }
   ],
   "source": [
    "apply_func(lambda *args: sum(args), 1, 2, 3, 4, 5)"
   ]
  },
  {
   "cell_type": "code",
   "execution_count": 132,
   "metadata": {
    "cell_id": "00106-9b4b323f-b9de-4adb-885b-8f99d891f995",
    "tags": []
   },
   "outputs": [
    {
     "data": {
      "text/plain": [
       "15"
      ]
     },
     "execution_count": 132,
     "metadata": {},
     "output_type": "execute_result"
    }
   ],
   "source": [
    "apply_func(sum, (1, 2, 3, 4, 5))"
   ]
  },
  {
   "cell_type": "code",
   "execution_count": 133,
   "metadata": {
    "cell_id": "00107-fce443c4-9195-40c2-b272-bcd91a70e3a4",
    "tags": []
   },
   "outputs": [],
   "source": [
    "#breaklivesmatter!"
   ]
  },
  {
   "cell_type": "code",
   "execution_count": 134,
   "metadata": {
    "cell_id": "00108-4e8a1a8d-0728-49d9-b9f1-78af089e967b",
    "tags": []
   },
   "outputs": [
    {
     "name": "stdout",
     "output_type": "stream",
     "text": [
      "Help on built-in function sorted in module builtins:\n",
      "\n",
      "sorted(iterable, /, *, key=None, reverse=False)\n",
      "    Return a new list containing all items from the iterable in ascending order.\n",
      "    \n",
      "    A custom key function can be supplied to customize the sort order, and the\n",
      "    reverse flag can be set to request the result in descending order.\n",
      "\n"
     ]
    }
   ],
   "source": [
    "help(sorted)"
   ]
  },
  {
   "cell_type": "code",
   "execution_count": 135,
   "metadata": {
    "cell_id": "00109-574141be-f851-4b9c-9820-de2f9bab9843",
    "tags": []
   },
   "outputs": [],
   "source": [
    "l = [1, 5, 4, 10 , 9]"
   ]
  },
  {
   "cell_type": "code",
   "execution_count": 137,
   "metadata": {
    "cell_id": "00110-b6ee5231-cfef-4e33-9b34-cb3b11e3a54b",
    "tags": []
   },
   "outputs": [
    {
     "data": {
      "text/plain": [
       "[10, 9, 5, 4, 1]"
      ]
     },
     "execution_count": 137,
     "metadata": {},
     "output_type": "execute_result"
    }
   ],
   "source": [
    "sorted(l,reverse=True)"
   ]
  },
  {
   "cell_type": "code",
   "execution_count": 138,
   "metadata": {
    "cell_id": "00111-ba4d316d-3cc3-4cfb-8b62-abb0408d1361",
    "tags": []
   },
   "outputs": [
    {
     "data": {
      "text/plain": [
       "['B', 'D', 'a', 'c']"
      ]
     },
     "execution_count": 138,
     "metadata": {},
     "output_type": "execute_result"
    }
   ],
   "source": [
    "l = ['c', 'B', 'D', 'a']\n",
    "sorted(l)"
   ]
  },
  {
   "cell_type": "code",
   "execution_count": 139,
   "metadata": {
    "cell_id": "00112-476a0e6a-7e77-4b99-901a-558047a3b7f9",
    "tags": []
   },
   "outputs": [
    {
     "data": {
      "text/plain": [
       "(97, 65)"
      ]
     },
     "execution_count": 139,
     "metadata": {},
     "output_type": "execute_result"
    }
   ],
   "source": [
    "ord('a'), ord('A')"
   ]
  },
  {
   "cell_type": "code",
   "execution_count": 141,
   "metadata": {
    "cell_id": "00113-2a75bf00-f0d2-46ec-bb94-4653468f7b47",
    "tags": []
   },
   "outputs": [
    {
     "data": {
      "text/plain": [
       "['a', 'B', 'c', 'D']"
      ]
     },
     "execution_count": 141,
     "metadata": {},
     "output_type": "execute_result"
    }
   ],
   "source": [
    "sorted(l, key=lambda c: c.lower())"
   ]
  },
  {
   "cell_type": "code",
   "execution_count": 142,
   "metadata": {
    "cell_id": "00114-182702da-22e3-4dc2-8e7a-8fe1ff9b5a46",
    "tags": []
   },
   "outputs": [
    {
     "data": {
      "text/plain": [
       "['abc', 'def', 'ghi']"
      ]
     },
     "execution_count": 142,
     "metadata": {},
     "output_type": "execute_result"
    }
   ],
   "source": [
    "d = {'def': 300, 'abc': 200, 'ghi': 100}\n",
    "sorted(d)"
   ]
  },
  {
   "cell_type": "code",
   "execution_count": 144,
   "metadata": {
    "cell_id": "00115-054ec9e2-a428-4444-9028-3e1f760cfdc8",
    "tags": []
   },
   "outputs": [
    {
     "name": "stdout",
     "output_type": "stream",
     "text": [
      "300\n",
      "200\n",
      "100\n"
     ]
    }
   ],
   "source": [
    "for e in d:\n",
    "    print(d[e])"
   ]
  },
  {
   "cell_type": "code",
   "execution_count": 145,
   "metadata": {
    "cell_id": "00116-6cbaed34-2d12-4382-832e-50112969bc16",
    "tags": []
   },
   "outputs": [
    {
     "data": {
      "text/plain": [
       "['ghi', 'abc', 'def']"
      ]
     },
     "execution_count": 145,
     "metadata": {},
     "output_type": "execute_result"
    }
   ],
   "source": [
    "d = {'def': 300, 'abc': 200, 'ghi': 100}\n",
    "sorted(d, key= lambda k: d[k])"
   ]
  },
  {
   "cell_type": "code",
   "execution_count": 146,
   "metadata": {
    "cell_id": "00117-7e257545-5c94-4508-ba8c-52d55502e010",
    "tags": []
   },
   "outputs": [
    {
     "ename": "TypeError",
     "evalue": "'<' not supported between instances of 'complex' and 'complex'",
     "output_type": "error",
     "traceback": [
      "\u001b[0;31m---------------------------------------------------------------------------\u001b[0m",
      "\u001b[0;31mTypeError\u001b[0m                                 Traceback (most recent call last)",
      "\u001b[0;32m<ipython-input-146-e886c79ffe99>\u001b[0m in \u001b[0;36m<module>\u001b[0;34m\u001b[0m\n\u001b[1;32m      1\u001b[0m \u001b[0ml\u001b[0m \u001b[0;34m=\u001b[0m \u001b[0;34m[\u001b[0m\u001b[0;36m3\u001b[0m \u001b[0;34m+\u001b[0m \u001b[0;36m3j\u001b[0m\u001b[0;34m,\u001b[0m \u001b[0;36m1\u001b[0m \u001b[0;34m-\u001b[0m \u001b[0;36m1j\u001b[0m\u001b[0;34m,\u001b[0m \u001b[0;36m0\u001b[0m\u001b[0;34m,\u001b[0m \u001b[0;36m3\u001b[0m \u001b[0;34m+\u001b[0m \u001b[0;36m0j\u001b[0m\u001b[0;34m]\u001b[0m\u001b[0;34m\u001b[0m\u001b[0;34m\u001b[0m\u001b[0m\n\u001b[0;32m----> 2\u001b[0;31m \u001b[0msorted\u001b[0m\u001b[0;34m(\u001b[0m\u001b[0ml\u001b[0m\u001b[0;34m)\u001b[0m\u001b[0;34m\u001b[0m\u001b[0;34m\u001b[0m\u001b[0m\n\u001b[0m",
      "\u001b[0;31mTypeError\u001b[0m: '<' not supported between instances of 'complex' and 'complex'"
     ]
    }
   ],
   "source": [
    "l = [3 + 3j, 1 - 1j, 0, 3 + 0j]\n",
    "sorted(l)"
   ]
  },
  {
   "cell_type": "code",
   "execution_count": 147,
   "metadata": {
    "cell_id": "00118-ec81fecf-355e-4993-ad99-6435567a69b1",
    "tags": []
   },
   "outputs": [],
   "source": [
    "def dist_sq(x):\n",
    "    return ((x.real)**2 + (x.imag)**2)"
   ]
  },
  {
   "cell_type": "code",
   "execution_count": 148,
   "metadata": {
    "cell_id": "00119-52d86c7c-5601-488e-abad-15342de23eaa",
    "tags": []
   },
   "outputs": [
    {
     "data": {
      "text/plain": [
       "2.0"
      ]
     },
     "execution_count": 148,
     "metadata": {},
     "output_type": "execute_result"
    }
   ],
   "source": [
    "dist_sq(1 + 1j)"
   ]
  },
  {
   "cell_type": "code",
   "execution_count": 149,
   "metadata": {
    "cell_id": "00120-7ed7da04-c905-43c3-ab3c-b5ce7b9ab58a",
    "tags": []
   },
   "outputs": [
    {
     "data": {
      "text/plain": [
       "[0, (1-1j), (3+0j), (3+3j)]"
      ]
     },
     "execution_count": 149,
     "metadata": {},
     "output_type": "execute_result"
    }
   ],
   "source": [
    "l = [3 + 3j, 1 - 1j, 0, 3 + 0j]\n",
    "sorted(l, key= dist_sq)"
   ]
  },
  {
   "cell_type": "code",
   "execution_count": 150,
   "metadata": {
    "cell_id": "00121-74085726-37c2-4ac0-bd8f-d20d129bb813",
    "tags": []
   },
   "outputs": [
    {
     "data": {
      "text/plain": [
       "[0, (1-1j), (3+0j), (3+3j)]"
      ]
     },
     "execution_count": 150,
     "metadata": {},
     "output_type": "execute_result"
    }
   ],
   "source": [
    "def dist_sq(x):\n",
    "    return ((x.real)**2 + (x.imag)**2)\n",
    "sorted(l, key = lambda x : (x.real)**2 + (x.imag)**2)"
   ]
  },
  {
   "cell_type": "code",
   "execution_count": 151,
   "metadata": {
    "cell_id": "00122-aaba4008-7919-4dc0-8394-0edadef21d3d",
    "tags": []
   },
   "outputs": [],
   "source": [
    "l = ['Obama', 'Bush', 'Biden', 'Palin', 'Trump']\n"
   ]
  },
  {
   "cell_type": "code",
   "execution_count": 152,
   "metadata": {
    "cell_id": "00123-deaa6628-544a-45d2-b322-db1bfffcd8bb",
    "tags": []
   },
   "outputs": [
    {
     "data": {
      "text/plain": [
       "['Obama', 'Bush', 'Biden', 'Palin', 'Trump']"
      ]
     },
     "execution_count": 152,
     "metadata": {},
     "output_type": "execute_result"
    }
   ],
   "source": [
    "sorted(l, key = lambda x: x[-1])"
   ]
  },
  {
   "cell_type": "code",
   "execution_count": 153,
   "metadata": {
    "cell_id": "00124-4f6e4d30-6295-4d73-84d9-ba18a799d14e",
    "tags": []
   },
   "outputs": [
    {
     "data": {
      "text/plain": [
       "['Obama', 'Bush', 'Palin', 'Biden', 'Trump']"
      ]
     },
     "execution_count": 153,
     "metadata": {},
     "output_type": "execute_result"
    }
   ],
   "source": [
    "l = ['Obama', 'Bush', 'Palin', 'Biden',  'Trump']\n",
    "sorted(l, key = lambda x: x[-1])"
   ]
  },
  {
   "cell_type": "code",
   "execution_count": 155,
   "metadata": {
    "cell_id": "00125-89222dc5-4cb7-46a5-b5c6-59a55ef7c3ed",
    "tags": []
   },
   "outputs": [
    {
     "name": "stdout",
     "output_type": "stream",
     "text": [
      "0.721639402510994\n"
     ]
    }
   ],
   "source": [
    "l = [1, 2, 3, 4, 5, 6, 7, 8, 9]\n",
    "\n",
    "import random\n",
    "\n",
    "print(random.random())"
   ]
  },
  {
   "cell_type": "code",
   "execution_count": 157,
   "metadata": {
    "cell_id": "00126-65107fa5-69e5-4aa5-9750-f69821d3daf5",
    "tags": []
   },
   "outputs": [
    {
     "data": {
      "text/plain": [
       "[7, 8, 6, 1, 2, 4, 9, 3, 5]"
      ]
     },
     "execution_count": 157,
     "metadata": {},
     "output_type": "execute_result"
    }
   ],
   "source": [
    "sorted(l, key= lambda x: random.random())"
   ]
  },
  {
   "cell_type": "code",
   "execution_count": 159,
   "metadata": {
    "cell_id": "00127-fac30dca-d9a2-409b-8cce-2e7e3bba749b",
    "tags": []
   },
   "outputs": [
    {
     "data": {
      "text/plain": [
       "[1, 6, 9, 2, 5, 7, 8, 4, 3]"
      ]
     },
     "execution_count": 159,
     "metadata": {},
     "output_type": "execute_result"
    }
   ],
   "source": [
    "sorted(l, key= lambda x: random.random())"
   ]
  },
  {
   "cell_type": "code",
   "execution_count": 160,
   "metadata": {
    "cell_id": "00128-37b597f4-4c55-497f-8d41-39e1b6c9f65a",
    "tags": []
   },
   "outputs": [],
   "source": [
    "def my_func(a: \"mandatory positional\", \n",
    "            b: \"optional positional\" = 1, \n",
    "            c = 2, \n",
    "            *args: \"add extra positional here\", \n",
    "            kw1, \n",
    "            kw2=100, \n",
    "            kw3=200, \n",
    "            **kwargs: \"provide extra kw-only here\") -> \"does nothing\":\n",
    "    \"\"\"This function does nothing but has tons of \n",
    "    parameters\"\"\"\n",
    "    i = 10\n",
    "    j = 20"
   ]
  },
  {
   "cell_type": "code",
   "execution_count": 161,
   "metadata": {
    "cell_id": "00129-6576746d-a228-434f-9a36-93b622c620ce",
    "tags": []
   },
   "outputs": [
    {
     "data": {
      "text/plain": [
       "'This function does nothing but has tons of \\n    parameters'"
      ]
     },
     "execution_count": 161,
     "metadata": {},
     "output_type": "execute_result"
    }
   ],
   "source": [
    "my_func.__doc__"
   ]
  },
  {
   "cell_type": "code",
   "execution_count": 162,
   "metadata": {
    "cell_id": "00130-3552c1ea-abbe-4428-b70c-ba3e8332a601",
    "tags": []
   },
   "outputs": [
    {
     "data": {
      "text/plain": [
       "{'a': 'mandatory positional',\n",
       " 'b': 'optional positional',\n",
       " 'args': 'add extra positional here',\n",
       " 'kwargs': 'provide extra kw-only here',\n",
       " 'return': 'does nothing'}"
      ]
     },
     "execution_count": 162,
     "metadata": {},
     "output_type": "execute_result"
    }
   ],
   "source": [
    "my_func.__annotations__"
   ]
  },
  {
   "cell_type": "code",
   "execution_count": 163,
   "metadata": {
    "cell_id": "00131-d6272810-7fda-429b-b2d8-c5996dc60151",
    "tags": []
   },
   "outputs": [],
   "source": [
    "my_func.short_description = \"this is a function that does nothing\""
   ]
  },
  {
   "cell_type": "code",
   "execution_count": 164,
   "metadata": {
    "cell_id": "00132-6bf1aede-cfac-48bd-a67c-27cad0143161",
    "tags": []
   },
   "outputs": [
    {
     "data": {
      "text/plain": [
       "'this is a function that does nothing'"
      ]
     },
     "execution_count": 164,
     "metadata": {},
     "output_type": "execute_result"
    }
   ],
   "source": [
    "my_func.short_description"
   ]
  },
  {
   "cell_type": "code",
   "execution_count": 165,
   "metadata": {
    "cell_id": "00133-219a7cce-ad7c-4fd8-ba7e-82ba672598b5",
    "tags": []
   },
   "outputs": [
    {
     "data": {
      "text/plain": [
       "['__annotations__',\n",
       " '__call__',\n",
       " '__class__',\n",
       " '__closure__',\n",
       " '__code__',\n",
       " '__defaults__',\n",
       " '__delattr__',\n",
       " '__dict__',\n",
       " '__dir__',\n",
       " '__doc__',\n",
       " '__eq__',\n",
       " '__format__',\n",
       " '__ge__',\n",
       " '__get__',\n",
       " '__getattribute__',\n",
       " '__globals__',\n",
       " '__gt__',\n",
       " '__hash__',\n",
       " '__init__',\n",
       " '__init_subclass__',\n",
       " '__kwdefaults__',\n",
       " '__le__',\n",
       " '__lt__',\n",
       " '__module__',\n",
       " '__name__',\n",
       " '__ne__',\n",
       " '__new__',\n",
       " '__qualname__',\n",
       " '__reduce__',\n",
       " '__reduce_ex__',\n",
       " '__repr__',\n",
       " '__setattr__',\n",
       " '__sizeof__',\n",
       " '__str__',\n",
       " '__subclasshook__',\n",
       " 'short_description']"
      ]
     },
     "execution_count": 165,
     "metadata": {},
     "output_type": "execute_result"
    }
   ],
   "source": [
    "dir(my_func) "
   ]
  },
  {
   "cell_type": "code",
   "execution_count": 166,
   "metadata": {
    "cell_id": "00134-32ca08ff-7621-45c8-bd67-3469c5577ef3",
    "tags": []
   },
   "outputs": [
    {
     "data": {
      "text/plain": [
       "'my_func'"
      ]
     },
     "execution_count": 166,
     "metadata": {},
     "output_type": "execute_result"
    }
   ],
   "source": [
    "my_func.__name__"
   ]
  },
  {
   "cell_type": "code",
   "execution_count": 167,
   "metadata": {
    "cell_id": "00135-d3982579-cd70-403c-a76e-efe1eae319d7",
    "tags": []
   },
   "outputs": [
    {
     "data": {
      "text/plain": [
       "'my_func'"
      ]
     },
     "execution_count": 167,
     "metadata": {},
     "output_type": "execute_result"
    }
   ],
   "source": [
    "f = my_func\n",
    "f.__name__"
   ]
  },
  {
   "cell_type": "code",
   "execution_count": 168,
   "metadata": {
    "cell_id": "00136-3d56e83a-6b20-4e49-abce-ab2c252d135a",
    "tags": []
   },
   "outputs": [
    {
     "data": {
      "text/plain": [
       "(1, 2)"
      ]
     },
     "execution_count": 168,
     "metadata": {},
     "output_type": "execute_result"
    }
   ],
   "source": [
    "my_func.__defaults__"
   ]
  },
  {
   "cell_type": "code",
   "execution_count": 169,
   "metadata": {
    "cell_id": "00137-0176ca60-94f3-47f9-b3b2-22b18778f051",
    "tags": []
   },
   "outputs": [
    {
     "data": {
      "text/plain": [
       "{'kw2': 100, 'kw3': 200}"
      ]
     },
     "execution_count": 169,
     "metadata": {},
     "output_type": "execute_result"
    }
   ],
   "source": [
    "my_func.__kwdefaults__"
   ]
  },
  {
   "cell_type": "code",
   "execution_count": 170,
   "metadata": {
    "cell_id": "00138-ee522699-7589-4985-b5e9-6fe913218ba4",
    "tags": []
   },
   "outputs": [
    {
     "data": {
      "text/plain": [
       "<code object my_func at 0x7f49b0d810c0, file \"<ipython-input-160-e9abd4b733d5>\", line 1>"
      ]
     },
     "execution_count": 170,
     "metadata": {},
     "output_type": "execute_result"
    }
   ],
   "source": [
    "my_func.__code__"
   ]
  },
  {
   "cell_type": "code",
   "execution_count": 171,
   "metadata": {
    "cell_id": "00139-020ed629-d6b9-4667-a215-ef4035316cf1",
    "tags": []
   },
   "outputs": [
    {
     "data": {
      "text/plain": [
       "['__class__',\n",
       " '__delattr__',\n",
       " '__dir__',\n",
       " '__doc__',\n",
       " '__eq__',\n",
       " '__format__',\n",
       " '__ge__',\n",
       " '__getattribute__',\n",
       " '__gt__',\n",
       " '__hash__',\n",
       " '__init__',\n",
       " '__init_subclass__',\n",
       " '__le__',\n",
       " '__lt__',\n",
       " '__ne__',\n",
       " '__new__',\n",
       " '__reduce__',\n",
       " '__reduce_ex__',\n",
       " '__repr__',\n",
       " '__setattr__',\n",
       " '__sizeof__',\n",
       " '__str__',\n",
       " '__subclasshook__',\n",
       " 'co_argcount',\n",
       " 'co_cellvars',\n",
       " 'co_code',\n",
       " 'co_consts',\n",
       " 'co_filename',\n",
       " 'co_firstlineno',\n",
       " 'co_flags',\n",
       " 'co_freevars',\n",
       " 'co_kwonlyargcount',\n",
       " 'co_lnotab',\n",
       " 'co_name',\n",
       " 'co_names',\n",
       " 'co_nlocals',\n",
       " 'co_stacksize',\n",
       " 'co_varnames']"
      ]
     },
     "execution_count": 171,
     "metadata": {},
     "output_type": "execute_result"
    }
   ],
   "source": [
    "dir(my_func.__code__)"
   ]
  },
  {
   "cell_type": "code",
   "execution_count": 172,
   "metadata": {
    "cell_id": "00140-d6b75433-2a8e-4b82-927f-1b4e982245b7",
    "tags": []
   },
   "outputs": [
    {
     "data": {
      "text/plain": [
       "'my_func'"
      ]
     },
     "execution_count": 172,
     "metadata": {},
     "output_type": "execute_result"
    }
   ],
   "source": [
    "my_func.__code__.co_name"
   ]
  },
  {
   "cell_type": "code",
   "execution_count": 173,
   "metadata": {
    "cell_id": "00141-7f543425-8f2c-4e40-9048-8bde56159d70",
    "tags": []
   },
   "outputs": [
    {
     "data": {
      "text/plain": [
       "('a', 'b', 'c', 'kw1', 'kw2', 'kw3', 'args', 'kwargs', 'i', 'j')"
      ]
     },
     "execution_count": 173,
     "metadata": {},
     "output_type": "execute_result"
    }
   ],
   "source": [
    "my_func.__code__.co_varnames"
   ]
  },
  {
   "cell_type": "code",
   "execution_count": 174,
   "metadata": {
    "cell_id": "00142-20ba4807-a2cf-415b-bd97-9ac26149d0d0",
    "tags": []
   },
   "outputs": [
    {
     "data": {
      "text/plain": [
       "3"
      ]
     },
     "execution_count": 174,
     "metadata": {},
     "output_type": "execute_result"
    }
   ],
   "source": [
    "my_func.__code__.co_argcount"
   ]
  },
  {
   "cell_type": "code",
   "execution_count": 175,
   "metadata": {
    "cell_id": "00143-7b80bffc-3b75-4252-a3ec-fe128f0fb35d",
    "tags": []
   },
   "outputs": [],
   "source": [
    "import inspect\n",
    "\n",
    "from inspect import isfunction, ismethod, isroutine"
   ]
  },
  {
   "cell_type": "code",
   "execution_count": 176,
   "metadata": {
    "cell_id": "00144-72fcc112-79ee-4e73-ab06-ab920923ecaa",
    "tags": []
   },
   "outputs": [
    {
     "data": {
      "text/plain": [
       "False"
      ]
     },
     "execution_count": 176,
     "metadata": {},
     "output_type": "execute_result"
    }
   ],
   "source": [
    "a = 10\n",
    "\n",
    "isfunction(a)"
   ]
  },
  {
   "cell_type": "code",
   "execution_count": 177,
   "metadata": {
    "cell_id": "00145-257e9246-bf17-4883-a8a9-898a580dcba2",
    "tags": []
   },
   "outputs": [
    {
     "data": {
      "text/plain": [
       "True"
      ]
     },
     "execution_count": 177,
     "metadata": {},
     "output_type": "execute_result"
    }
   ],
   "source": [
    "isfunction(my_func)"
   ]
  },
  {
   "cell_type": "code",
   "execution_count": 178,
   "metadata": {
    "cell_id": "00146-f3836b4e-7fcc-4f24-969d-71f8c90f50ce",
    "tags": []
   },
   "outputs": [
    {
     "data": {
      "text/plain": [
       "False"
      ]
     },
     "execution_count": 178,
     "metadata": {},
     "output_type": "execute_result"
    }
   ],
   "source": [
    "ismethod(my_func)"
   ]
  },
  {
   "cell_type": "code",
   "execution_count": 179,
   "metadata": {
    "cell_id": "00147-2a337b34-e34d-4773-85ee-5ea3a148ae20",
    "tags": []
   },
   "outputs": [],
   "source": [
    "class MyClass:\n",
    "    def f(self):\n",
    "        pass"
   ]
  },
  {
   "cell_type": "code",
   "execution_count": 180,
   "metadata": {
    "cell_id": "00148-6e41f0c7-ee63-44b7-a81e-9d54d3f60980",
    "tags": []
   },
   "outputs": [
    {
     "data": {
      "text/plain": [
       "True"
      ]
     },
     "execution_count": 180,
     "metadata": {},
     "output_type": "execute_result"
    }
   ],
   "source": [
    "isfunction(MyClass.f)"
   ]
  },
  {
   "cell_type": "code",
   "execution_count": 181,
   "metadata": {
    "cell_id": "00149-3b9d92a9-d161-4748-9301-7b6be8361630",
    "tags": []
   },
   "outputs": [
    {
     "data": {
      "text/plain": [
       "False"
      ]
     },
     "execution_count": 181,
     "metadata": {},
     "output_type": "execute_result"
    }
   ],
   "source": [
    "my_obj = MyClass()\n",
    "isfunction(my_obj.f)"
   ]
  },
  {
   "cell_type": "code",
   "execution_count": 182,
   "metadata": {
    "cell_id": "00150-c39ee89a-301d-46b4-b864-6844e05fd2dc",
    "tags": []
   },
   "outputs": [
    {
     "data": {
      "text/plain": [
       "True"
      ]
     },
     "execution_count": 182,
     "metadata": {},
     "output_type": "execute_result"
    }
   ],
   "source": [
    "ismethod(my_obj.f)"
   ]
  },
  {
   "cell_type": "code",
   "execution_count": 183,
   "metadata": {
    "cell_id": "00151-071949dd-1cde-4881-869d-9ac1576c674c",
    "tags": []
   },
   "outputs": [
    {
     "data": {
      "text/plain": [
       "True"
      ]
     },
     "execution_count": 183,
     "metadata": {},
     "output_type": "execute_result"
    }
   ],
   "source": [
    "isroutine(my_obj.f)"
   ]
  },
  {
   "cell_type": "code",
   "execution_count": 184,
   "metadata": {
    "cell_id": "00152-5d2381ee-18cc-44c0-b561-a31d47c59490",
    "tags": []
   },
   "outputs": [
    {
     "data": {
      "text/plain": [
       "True"
      ]
     },
     "execution_count": 184,
     "metadata": {},
     "output_type": "execute_result"
    }
   ],
   "source": [
    "isroutine(MyClass.f)"
   ]
  },
  {
   "cell_type": "code",
   "execution_count": 185,
   "metadata": {
    "cell_id": "00153-170d95f5-d7ef-40df-82c1-d2d2603889cb",
    "tags": []
   },
   "outputs": [
    {
     "data": {
      "text/plain": [
       "'def my_func(a: \"mandatory positional\", \\n            b: \"optional positional\" = 1, \\n            c = 2, \\n            *args: \"add extra positional here\", \\n            kw1, \\n            kw2=100, \\n            kw3=200, \\n            **kwargs: \"provide extra kw-only here\") -> \"does nothing\":\\n    \"\"\"This function does nothing but has tons of \\n    parameters\"\"\"\\n    i = 10\\n    j = 20\\n'"
      ]
     },
     "execution_count": 185,
     "metadata": {},
     "output_type": "execute_result"
    }
   ],
   "source": [
    "inspect.getsource(my_func)"
   ]
  },
  {
   "cell_type": "code",
   "execution_count": 186,
   "metadata": {
    "cell_id": "00154-069bbf1f-964c-4417-9fd4-09c7841b84b8",
    "tags": []
   },
   "outputs": [
    {
     "name": "stdout",
     "output_type": "stream",
     "text": [
      "def my_func(a: \"mandatory positional\", \n",
      "            b: \"optional positional\" = 1, \n",
      "            c = 2, \n",
      "            *args: \"add extra positional here\", \n",
      "            kw1, \n",
      "            kw2=100, \n",
      "            kw3=200, \n",
      "            **kwargs: \"provide extra kw-only here\") -> \"does nothing\":\n",
      "    \"\"\"This function does nothing but has tons of \n",
      "    parameters\"\"\"\n",
      "    i = 10\n",
      "    j = 20\n",
      "\n"
     ]
    }
   ],
   "source": [
    "print(inspect.getsource(my_func))"
   ]
  },
  {
   "cell_type": "code",
   "execution_count": 187,
   "metadata": {
    "cell_id": "00155-ff3b8b23-1a47-4593-863c-f165169e6cbf",
    "tags": []
   },
   "outputs": [
    {
     "data": {
      "text/plain": [
       "<module '__main__'>"
      ]
     },
     "execution_count": 187,
     "metadata": {},
     "output_type": "execute_result"
    }
   ],
   "source": [
    "inspect.getmodule(my_func)"
   ]
  },
  {
   "cell_type": "code",
   "execution_count": 188,
   "metadata": {
    "cell_id": "00156-81ce4344-77bd-4442-af28-c7af7245a1c0",
    "tags": []
   },
   "outputs": [
    {
     "data": {
      "text/plain": [
       "(<module 'builtins' (built-in)>,\n",
       " <module 'math' from '/usr/local/lib/python3.7/lib-dynload/math.cpython-37m-x86_64-linux-gnu.so'>)"
      ]
     },
     "execution_count": 188,
     "metadata": {},
     "output_type": "execute_result"
    }
   ],
   "source": [
    "import math\n",
    "inspect.getmodule(print), inspect.getmodule(math.sin)"
   ]
  },
  {
   "cell_type": "code",
   "execution_count": 189,
   "metadata": {
    "cell_id": "00157-51df83d2-6a2d-433b-b1ad-577c4c25b69b",
    "tags": []
   },
   "outputs": [],
   "source": [
    "# fn >> same add\n",
    "# method >> diff mem add.. method >> bounded to obj...\n",
    "# 2 objects of same class will have diff mem add"
   ]
  },
  {
   "cell_type": "code",
   "execution_count": 192,
   "metadata": {
    "cell_id": "00158-3901712f-bd48-4c87-bfbf-fdd1cd51aa2d",
    "tags": []
   },
   "outputs": [],
   "source": [
    "i = 100\n",
    "\n",
    "# TODO: Fix this function\n",
    "def my_func(a: \"mandatory positional\", \n",
    "            b: \"optional positional\" = 1, \n",
    "            c = 2, \n",
    "            *args: \"add extra positional here\", \n",
    "            kw1, \n",
    "            kw2=100, \n",
    "            kw3=200, \n",
    "            **kwargs: \"provide extra kw-only here\") -> \"does nothing\":\n",
    "    # a new commend\n",
    "    \"\"\"This function does nothing but has tons of \n",
    "    parameters\"\"\"\n",
    "    i = 10\n",
    "    j = 20"
   ]
  },
  {
   "cell_type": "code",
   "execution_count": 193,
   "metadata": {
    "cell_id": "00159-80f4a4a2-99e6-4c97-a801-2decf022238a",
    "tags": []
   },
   "outputs": [
    {
     "data": {
      "text/plain": [
       "'# TODO: Fix this function\\n'"
      ]
     },
     "execution_count": 193,
     "metadata": {},
     "output_type": "execute_result"
    }
   ],
   "source": [
    "inspect.getcomments(my_func)"
   ]
  },
  {
   "cell_type": "code",
   "execution_count": 194,
   "metadata": {
    "cell_id": "00160-7c924103-645c-427e-8c9f-c9c8e755254c",
    "tags": []
   },
   "outputs": [
    {
     "data": {
      "text/plain": [
       "<Signature (a: 'mandatory positional', b: 'optional positional' = 1, c=2, *args: 'add extra positional here', kw1, kw2=100, kw3=200, **kwargs: 'provide extra kw-only here') -> 'does nothing'>"
      ]
     },
     "execution_count": 194,
     "metadata": {},
     "output_type": "execute_result"
    }
   ],
   "source": [
    "inspect.signature(my_func)"
   ]
  },
  {
   "cell_type": "code",
   "execution_count": 195,
   "metadata": {
    "cell_id": "00161-0a146cc9-1537-401c-b656-14ce53f64b72",
    "tags": []
   },
   "outputs": [
    {
     "data": {
      "text/plain": [
       "['__class__',\n",
       " '__delattr__',\n",
       " '__dir__',\n",
       " '__doc__',\n",
       " '__eq__',\n",
       " '__format__',\n",
       " '__ge__',\n",
       " '__getattribute__',\n",
       " '__gt__',\n",
       " '__hash__',\n",
       " '__init__',\n",
       " '__init_subclass__',\n",
       " '__le__',\n",
       " '__lt__',\n",
       " '__module__',\n",
       " '__ne__',\n",
       " '__new__',\n",
       " '__reduce__',\n",
       " '__reduce_ex__',\n",
       " '__repr__',\n",
       " '__setattr__',\n",
       " '__setstate__',\n",
       " '__sizeof__',\n",
       " '__slots__',\n",
       " '__str__',\n",
       " '__subclasshook__',\n",
       " '_bind',\n",
       " '_bound_arguments_cls',\n",
       " '_hash_basis',\n",
       " '_parameter_cls',\n",
       " '_parameters',\n",
       " '_return_annotation',\n",
       " 'bind',\n",
       " 'bind_partial',\n",
       " 'empty',\n",
       " 'from_builtin',\n",
       " 'from_callable',\n",
       " 'from_function',\n",
       " 'parameters',\n",
       " 'replace',\n",
       " 'return_annotation']"
      ]
     },
     "execution_count": 195,
     "metadata": {},
     "output_type": "execute_result"
    }
   ],
   "source": [
    "dir(inspect.signature(my_func))"
   ]
  },
  {
   "cell_type": "code",
   "execution_count": 196,
   "metadata": {
    "cell_id": "00162-54c28424-53c0-4fe7-a954-928069163130",
    "tags": []
   },
   "outputs": [
    {
     "data": {
      "text/plain": [
       "{'a': 'mandatory positional',\n",
       " 'b': 'optional positional',\n",
       " 'args': 'add extra positional here',\n",
       " 'kwargs': 'provide extra kw-only here',\n",
       " 'return': 'does nothing'}"
      ]
     },
     "execution_count": 196,
     "metadata": {},
     "output_type": "execute_result"
    }
   ],
   "source": [
    "my_func.__annotations__"
   ]
  },
  {
   "cell_type": "code",
   "execution_count": 197,
   "metadata": {
    "cell_id": "00163-118b0942-ff1f-45a3-9eca-c981af01744c",
    "tags": []
   },
   "outputs": [
    {
     "data": {
      "text/plain": [
       "'does nothing'"
      ]
     },
     "execution_count": 197,
     "metadata": {},
     "output_type": "execute_result"
    }
   ],
   "source": [
    "inspect.signature(my_func).return_annotation"
   ]
  },
  {
   "cell_type": "code",
   "execution_count": 198,
   "metadata": {
    "cell_id": "00164-7f6f6e99-6c22-489b-939c-592a2e9f1731",
    "tags": []
   },
   "outputs": [],
   "source": [
    "sig = inspect.signature(my_func)"
   ]
  },
  {
   "cell_type": "code",
   "execution_count": 199,
   "metadata": {
    "cell_id": "00165-b43232f6-0001-4edc-b01f-e587e212f7fc",
    "tags": []
   },
   "outputs": [
    {
     "data": {
      "text/plain": [
       "<Signature (a: 'mandatory positional', b: 'optional positional' = 1, c=2, *args: 'add extra positional here', kw1, kw2=100, kw3=200, **kwargs: 'provide extra kw-only here') -> 'does nothing'>"
      ]
     },
     "execution_count": 199,
     "metadata": {},
     "output_type": "execute_result"
    }
   ],
   "source": [
    "sig"
   ]
  },
  {
   "cell_type": "code",
   "execution_count": 200,
   "metadata": {
    "cell_id": "00166-3b5c5254-d471-4cfd-a48e-7f42ab9259ed",
    "tags": []
   },
   "outputs": [
    {
     "data": {
      "text/plain": [
       "mappingproxy({'a': <Parameter \"a: 'mandatory positional'\">,\n",
       "              'b': <Parameter \"b: 'optional positional' = 1\">,\n",
       "              'c': <Parameter \"c=2\">,\n",
       "              'args': <Parameter \"*args: 'add extra positional here'\">,\n",
       "              'kw1': <Parameter \"kw1\">,\n",
       "              'kw2': <Parameter \"kw2=100\">,\n",
       "              'kw3': <Parameter \"kw3=200\">,\n",
       "              'kwargs': <Parameter \"**kwargs: 'provide extra kw-only here'\">})"
      ]
     },
     "execution_count": 200,
     "metadata": {},
     "output_type": "execute_result"
    }
   ],
   "source": [
    "sig.parameters"
   ]
  },
  {
   "cell_type": "code",
   "execution_count": 201,
   "metadata": {
    "cell_id": "00167-3d86728e-c8be-4ecb-9749-678ab376f80b",
    "tags": []
   },
   "outputs": [
    {
     "name": "stdout",
     "output_type": "stream",
     "text": [
      "a <class 'inspect.Parameter'>\n",
      "b <class 'inspect.Parameter'>\n",
      "c <class 'inspect.Parameter'>\n",
      "args <class 'inspect.Parameter'>\n",
      "kw1 <class 'inspect.Parameter'>\n",
      "kw2 <class 'inspect.Parameter'>\n",
      "kw3 <class 'inspect.Parameter'>\n",
      "kwargs <class 'inspect.Parameter'>\n"
     ]
    }
   ],
   "source": [
    "for k, v in sig.parameters.items():\n",
    "    print(k, type(v))"
   ]
  },
  {
   "cell_type": "code",
   "execution_count": 203,
   "metadata": {
    "cell_id": "00168-56fdc88b-2158-4d46-88ab-cf0dba22c78b",
    "tags": []
   },
   "outputs": [
    {
     "name": "stdout",
     "output_type": "stream",
     "text": [
      "a a: 'mandatory positional'\n",
      "b b: 'optional positional' = 1\n",
      "c c=2\n",
      "args *args: 'add extra positional here'\n",
      "kw1 kw1\n",
      "kw2 kw2=100\n",
      "kw3 kw3=200\n",
      "kwargs **kwargs: 'provide extra kw-only here'\n"
     ]
    }
   ],
   "source": [
    "for k, v in sig.parameters.items():\n",
    "    print(k, v)"
   ]
  },
  {
   "cell_type": "code",
   "execution_count": 204,
   "metadata": {
    "cell_id": "00169-134efe2c-86c4-437b-9cd3-8a3d6f52a938",
    "tags": []
   },
   "outputs": [
    {
     "name": "stdout",
     "output_type": "stream",
     "text": [
      "Key: a\n",
      "Name a\n",
      "Default <class 'inspect._empty'>\n",
      "Annotation mandatory positional\n",
      "Kind POSITIONAL_OR_KEYWORD\n",
      "Key: b\n",
      "Name b\n",
      "Default 1\n",
      "Annotation optional positional\n",
      "Kind POSITIONAL_OR_KEYWORD\n",
      "Key: c\n",
      "Name c\n",
      "Default 2\n",
      "Annotation <class 'inspect._empty'>\n",
      "Kind POSITIONAL_OR_KEYWORD\n",
      "Key: args\n",
      "Name args\n",
      "Default <class 'inspect._empty'>\n",
      "Annotation add extra positional here\n",
      "Kind VAR_POSITIONAL\n",
      "Key: kw1\n",
      "Name kw1\n",
      "Default <class 'inspect._empty'>\n",
      "Annotation <class 'inspect._empty'>\n",
      "Kind KEYWORD_ONLY\n",
      "Key: kw2\n",
      "Name kw2\n",
      "Default 100\n",
      "Annotation <class 'inspect._empty'>\n",
      "Kind KEYWORD_ONLY\n",
      "Key: kw3\n",
      "Name kw3\n",
      "Default 200\n",
      "Annotation <class 'inspect._empty'>\n",
      "Kind KEYWORD_ONLY\n",
      "Key: kwargs\n",
      "Name kwargs\n",
      "Default <class 'inspect._empty'>\n",
      "Annotation provide extra kw-only here\n",
      "Kind VAR_KEYWORD\n"
     ]
    }
   ],
   "source": [
    "for k, param in sig.parameters.items():\n",
    "    print('Key:', k)\n",
    "    print('Name', param.name)\n",
    "    print('Default', param.default)\n",
    "    print('Annotation', param.annotation)\n",
    "    print('Kind', param.kind)"
   ]
  },
  {
   "cell_type": "code",
   "execution_count": 205,
   "metadata": {
    "cell_id": "00170-51e79b3b-a100-4568-ae36-b36aec011e65",
    "tags": []
   },
   "outputs": [
    {
     "name": "stdout",
     "output_type": "stream",
     "text": [
      "Help on built-in function divmod in module builtins:\n",
      "\n",
      "divmod(x, y, /)\n",
      "    Return the tuple (x//y, x%y).  Invariant: div*y + mod == x.\n",
      "\n"
     ]
    }
   ],
   "source": [
    "help(divmod)"
   ]
  },
  {
   "cell_type": "code",
   "execution_count": 206,
   "metadata": {
    "cell_id": "00171-72a255a9-4787-44ae-bd26-79810ec78d1e",
    "tags": []
   },
   "outputs": [
    {
     "data": {
      "text/plain": [
       "(0, 3)"
      ]
     },
     "execution_count": 206,
     "metadata": {},
     "output_type": "execute_result"
    }
   ],
   "source": [
    "divmod(3, 4)"
   ]
  },
  {
   "cell_type": "code",
   "execution_count": 207,
   "metadata": {
    "cell_id": "00172-92a26563-3b76-4444-b5cb-c1beea61c7ec",
    "tags": []
   },
   "outputs": [
    {
     "ename": "TypeError",
     "evalue": "divmod() takes no keyword arguments",
     "output_type": "error",
     "traceback": [
      "\u001b[0;31m---------------------------------------------------------------------------\u001b[0m",
      "\u001b[0;31mTypeError\u001b[0m                                 Traceback (most recent call last)",
      "\u001b[0;32m<ipython-input-207-b7899315121b>\u001b[0m in \u001b[0;36m<module>\u001b[0;34m\u001b[0m\n\u001b[0;32m----> 1\u001b[0;31m \u001b[0mdivmod\u001b[0m\u001b[0;34m(\u001b[0m\u001b[0mx\u001b[0m \u001b[0;34m=\u001b[0m \u001b[0;36m3\u001b[0m\u001b[0;34m,\u001b[0m \u001b[0my\u001b[0m \u001b[0;34m=\u001b[0m \u001b[0;36m4\u001b[0m\u001b[0;34m)\u001b[0m\u001b[0;34m\u001b[0m\u001b[0;34m\u001b[0m\u001b[0m\n\u001b[0m",
      "\u001b[0;31mTypeError\u001b[0m: divmod() takes no keyword arguments"
     ]
    }
   ],
   "source": [
    "divmod(x = 3, y = 4)"
   ]
  },
  {
   "cell_type": "code",
   "execution_count": 208,
   "metadata": {
    "cell_id": "00173-b413cbdb-2fa5-4c03-b01a-699b4a0586dd",
    "tags": []
   },
   "outputs": [],
   "source": [
    "def dvmd(x, y):\n",
    "    return divmod(x, y)"
   ]
  },
  {
   "cell_type": "code",
   "execution_count": 210,
   "metadata": {
    "cell_id": "00174-92bd2102-77ab-4c82-bbac-95bbbd049a72",
    "tags": []
   },
   "outputs": [
    {
     "data": {
      "text/plain": [
       "(0, 3)"
      ]
     },
     "execution_count": 210,
     "metadata": {},
     "output_type": "execute_result"
    }
   ],
   "source": [
    "dvmd(x = 3, y = 4)"
   ]
  },
  {
   "cell_type": "code",
   "execution_count": 211,
   "metadata": {
    "cell_id": "00175-00edbfb6-256a-450d-9a9c-c895c353ebb0",
    "tags": []
   },
   "outputs": [
    {
     "ename": "TypeError",
     "evalue": "divmod() takes no keyword arguments",
     "output_type": "error",
     "traceback": [
      "\u001b[0;31m---------------------------------------------------------------------------\u001b[0m",
      "\u001b[0;31mTypeError\u001b[0m                                 Traceback (most recent call last)",
      "\u001b[0;32m<ipython-input-211-b7899315121b>\u001b[0m in \u001b[0;36m<module>\u001b[0;34m\u001b[0m\n\u001b[0;32m----> 1\u001b[0;31m \u001b[0mdivmod\u001b[0m\u001b[0;34m(\u001b[0m\u001b[0mx\u001b[0m \u001b[0;34m=\u001b[0m \u001b[0;36m3\u001b[0m\u001b[0;34m,\u001b[0m \u001b[0my\u001b[0m \u001b[0;34m=\u001b[0m \u001b[0;36m4\u001b[0m\u001b[0;34m)\u001b[0m\u001b[0;34m\u001b[0m\u001b[0;34m\u001b[0m\u001b[0m\n\u001b[0m",
      "\u001b[0;31mTypeError\u001b[0m: divmod() takes no keyword arguments"
     ]
    }
   ],
   "source": [
    "divmod(x = 3, y = 4)"
   ]
  },
  {
   "cell_type": "code",
   "execution_count": 212,
   "metadata": {
    "cell_id": "00176-d756c4a9-55c9-4478-bca5-5c1a825d30a7",
    "tags": []
   },
   "outputs": [
    {
     "data": {
      "text/plain": [
       "True"
      ]
     },
     "execution_count": 212,
     "metadata": {},
     "output_type": "execute_result"
    }
   ],
   "source": [
    "callable(print)"
   ]
  },
  {
   "cell_type": "code",
   "execution_count": 213,
   "metadata": {
    "cell_id": "00177-ed5d92c2-7276-4a15-a5e8-9df8a06f5d61",
    "tags": []
   },
   "outputs": [
    {
     "name": "stdout",
     "output_type": "stream",
     "text": [
      "hello\n",
      "None\n"
     ]
    }
   ],
   "source": [
    "result = print(\"hello\")\n",
    "print(result)"
   ]
  },
  {
   "cell_type": "code",
   "execution_count": 214,
   "metadata": {
    "cell_id": "00178-c593530f-dcf3-475e-a371-f495cddf3848",
    "tags": []
   },
   "outputs": [
    {
     "data": {
      "text/plain": [
       "True"
      ]
     },
     "execution_count": 214,
     "metadata": {},
     "output_type": "execute_result"
    }
   ],
   "source": [
    "l = [1, 2, 3]\n",
    "callable(l.append)"
   ]
  },
  {
   "cell_type": "code",
   "execution_count": 215,
   "metadata": {
    "cell_id": "00179-2374baa0-bba5-41c2-afc7-9b2fd16711af",
    "tags": []
   },
   "outputs": [
    {
     "name": "stdout",
     "output_type": "stream",
     "text": [
      "None\n"
     ]
    }
   ],
   "source": [
    "print(l.append(4))"
   ]
  },
  {
   "cell_type": "code",
   "execution_count": 217,
   "metadata": {
    "cell_id": "00180-2c80c3f0-27c7-4c6f-8a68-7a9bb67a7388",
    "tags": []
   },
   "outputs": [
    {
     "data": {
      "text/plain": [
       "False"
      ]
     },
     "execution_count": 217,
     "metadata": {},
     "output_type": "execute_result"
    }
   ],
   "source": [
    "s = 'abc'\n",
    "callable(s.upper())"
   ]
  },
  {
   "cell_type": "code",
   "execution_count": 218,
   "metadata": {
    "cell_id": "00181-d30a9167-f3db-45de-a66d-09cc2b9b6301",
    "tags": []
   },
   "outputs": [
    {
     "data": {
      "text/plain": [
       "True"
      ]
     },
     "execution_count": 218,
     "metadata": {},
     "output_type": "execute_result"
    }
   ],
   "source": [
    "from decimal import Decimal\n",
    "\n",
    "callable(Decimal)"
   ]
  },
  {
   "cell_type": "code",
   "execution_count": 219,
   "metadata": {
    "cell_id": "00182-bcb079b1-9c1e-48c1-a561-d7b14db4301a",
    "tags": []
   },
   "outputs": [
    {
     "data": {
      "text/plain": [
       "False"
      ]
     },
     "execution_count": 219,
     "metadata": {},
     "output_type": "execute_result"
    }
   ],
   "source": [
    "a = Decimal('10.5')\n",
    "\n",
    "callable(a)"
   ]
  },
  {
   "cell_type": "code",
   "execution_count": 220,
   "metadata": {
    "cell_id": "00183-cf5e0552-9703-493d-ae17-64d016ddc2e3",
    "tags": []
   },
   "outputs": [],
   "source": [
    "class MyClass:\n",
    "    def __init__(self, x = 0):\n",
    "        print('initializing..')\n",
    "        self.counter = x"
   ]
  },
  {
   "cell_type": "code",
   "execution_count": 221,
   "metadata": {
    "cell_id": "00184-d00e4bb5-3646-4221-bb78-8200038ff85f",
    "tags": []
   },
   "outputs": [
    {
     "data": {
      "text/plain": [
       "True"
      ]
     },
     "execution_count": 221,
     "metadata": {},
     "output_type": "execute_result"
    }
   ],
   "source": [
    "callable(MyClass)"
   ]
  },
  {
   "cell_type": "code",
   "execution_count": 222,
   "metadata": {
    "cell_id": "00185-c8e08b42-1389-4e37-9743-75f7e9de34fc",
    "tags": []
   },
   "outputs": [
    {
     "name": "stdout",
     "output_type": "stream",
     "text": [
      "initializing..\n"
     ]
    }
   ],
   "source": [
    "a = MyClass(100)"
   ]
  },
  {
   "cell_type": "code",
   "execution_count": 223,
   "metadata": {
    "cell_id": "00186-68623e3f-e70b-4f00-9cd1-f2947277a18a",
    "tags": []
   },
   "outputs": [
    {
     "data": {
      "text/plain": [
       "100"
      ]
     },
     "execution_count": 223,
     "metadata": {},
     "output_type": "execute_result"
    }
   ],
   "source": [
    "a.counter"
   ]
  },
  {
   "cell_type": "code",
   "execution_count": 224,
   "metadata": {
    "cell_id": "00187-dc1feddb-22d5-470b-8a86-05d80fb8f76f",
    "tags": []
   },
   "outputs": [
    {
     "data": {
      "text/plain": [
       "False"
      ]
     },
     "execution_count": 224,
     "metadata": {},
     "output_type": "execute_result"
    }
   ],
   "source": [
    "callable(a)"
   ]
  },
  {
   "cell_type": "code",
   "execution_count": 225,
   "metadata": {
    "cell_id": "00188-d9ec8208-fbb5-44d8-8ac2-43ba8be7aa14",
    "tags": []
   },
   "outputs": [],
   "source": [
    "class MyClass:\n",
    "    def __init__(self, x = 0):\n",
    "        print('initializing..')\n",
    "        self.counter = x\n",
    "    def __call__(self, x = 1):\n",
    "        print('updating the counter..')\n",
    "        self.counter += x"
   ]
  },
  {
   "cell_type": "code",
   "execution_count": 226,
   "metadata": {
    "cell_id": "00189-d4e56fa9-5ca3-488b-8457-eacf3e371139",
    "tags": []
   },
   "outputs": [
    {
     "name": "stdout",
     "output_type": "stream",
     "text": [
      "initializing..\n"
     ]
    }
   ],
   "source": [
    "b = MyClass()"
   ]
  },
  {
   "cell_type": "code",
   "execution_count": 227,
   "metadata": {
    "cell_id": "00190-734a100e-4cc4-4c9b-a625-dc8a1faeb9d7",
    "tags": []
   },
   "outputs": [
    {
     "name": "stdout",
     "output_type": "stream",
     "text": [
      "updating the counter..\n"
     ]
    }
   ],
   "source": [
    "MyClass.__call__(b, 10)"
   ]
  },
  {
   "cell_type": "code",
   "execution_count": 228,
   "metadata": {
    "cell_id": "00191-549b9ce1-9f65-4c65-8dfe-80da05e0f651",
    "tags": []
   },
   "outputs": [
    {
     "data": {
      "text/plain": [
       "10"
      ]
     },
     "execution_count": 228,
     "metadata": {},
     "output_type": "execute_result"
    }
   ],
   "source": [
    "b.counter"
   ]
  },
  {
   "cell_type": "code",
   "execution_count": 229,
   "metadata": {
    "cell_id": "00192-22736a61-1975-4a62-a736-6425d1034bab",
    "tags": []
   },
   "outputs": [
    {
     "data": {
      "text/plain": [
       "True"
      ]
     },
     "execution_count": 229,
     "metadata": {},
     "output_type": "execute_result"
    }
   ],
   "source": [
    "callable(b)"
   ]
  },
  {
   "cell_type": "code",
   "execution_count": 230,
   "metadata": {
    "cell_id": "00193-5278d5e6-b230-4eff-989c-ba04372aae57",
    "tags": []
   },
   "outputs": [
    {
     "name": "stdout",
     "output_type": "stream",
     "text": [
      "updating the counter..\n"
     ]
    }
   ],
   "source": [
    "b()"
   ]
  },
  {
   "cell_type": "code",
   "execution_count": 231,
   "metadata": {
    "cell_id": "00194-f02bc635-efa3-4a82-90d8-f36910c604fd",
    "tags": []
   },
   "outputs": [
    {
     "name": "stdout",
     "output_type": "stream",
     "text": [
      "updating the counter..\n"
     ]
    }
   ],
   "source": [
    "b(100)"
   ]
  },
  {
   "cell_type": "code",
   "execution_count": 232,
   "metadata": {
    "cell_id": "00195-3eafae88-22e8-499a-b92a-8e76188e0842",
    "tags": []
   },
   "outputs": [
    {
     "data": {
      "text/plain": [
       "111"
      ]
     },
     "execution_count": 232,
     "metadata": {},
     "output_type": "execute_result"
    }
   ],
   "source": [
    "b.counter"
   ]
  },
  {
   "cell_type": "code",
   "execution_count": 233,
   "metadata": {
    "cell_id": "00196-f82bdbdb-c617-4a33-b04f-65f9dd3f4d49",
    "tags": []
   },
   "outputs": [],
   "source": [
    "def fact(n):\n",
    "    return 1 if n < 2 else n * fact(n - 1)"
   ]
  },
  {
   "cell_type": "code",
   "execution_count": 234,
   "metadata": {
    "cell_id": "00197-465c6855-2b34-45ea-9d8a-a63c9899f355",
    "tags": []
   },
   "outputs": [
    {
     "data": {
      "text/plain": [
       "6"
      ]
     },
     "execution_count": 234,
     "metadata": {},
     "output_type": "execute_result"
    }
   ],
   "source": [
    "fact(3)"
   ]
  },
  {
   "cell_type": "code",
   "execution_count": 235,
   "metadata": {
    "cell_id": "00198-51ca0f13-2e4a-419e-8cfa-7b09105b3271",
    "tags": []
   },
   "outputs": [
    {
     "data": {
      "text/plain": [
       "720"
      ]
     },
     "execution_count": 235,
     "metadata": {},
     "output_type": "execute_result"
    }
   ],
   "source": [
    "fact(6)"
   ]
  },
  {
   "cell_type": "code",
   "execution_count": 236,
   "metadata": {
    "cell_id": "00199-ae21ba96-c89c-4205-b1e7-dfbfb90635ae",
    "tags": []
   },
   "outputs": [
    {
     "data": {
      "text/plain": [
       "<map at 0x7f49b175d8d0>"
      ]
     },
     "execution_count": 236,
     "metadata": {},
     "output_type": "execute_result"
    }
   ],
   "source": [
    "map(fact, range(6))"
   ]
  },
  {
   "cell_type": "code",
   "execution_count": 237,
   "metadata": {
    "cell_id": "00200-ec542751-712b-40c0-95d5-7f831d8f2438",
    "tags": []
   },
   "outputs": [
    {
     "name": "stdout",
     "output_type": "stream",
     "text": [
      "<map object at 0x7f49b0cc5f28>\n"
     ]
    }
   ],
   "source": [
    "results = map(fact, range(6))\n",
    "print(results)"
   ]
  },
  {
   "cell_type": "code",
   "execution_count": 238,
   "metadata": {
    "cell_id": "00201-17786bc9-7500-4a7c-ab6f-287c400de127",
    "tags": []
   },
   "outputs": [
    {
     "name": "stdout",
     "output_type": "stream",
     "text": [
      "1\n",
      "1\n",
      "2\n",
      "6\n",
      "24\n",
      "120\n"
     ]
    }
   ],
   "source": [
    "for x in results:\n",
    "    print(x)"
   ]
  },
  {
   "cell_type": "code",
   "execution_count": 239,
   "metadata": {
    "cell_id": "00202-cff9ffe4-e5b9-46e7-a3a0-5162ac245ab0",
    "tags": []
   },
   "outputs": [],
   "source": [
    "for x in results:\n",
    "    print(x)"
   ]
  },
  {
   "cell_type": "code",
   "execution_count": 240,
   "metadata": {
    "cell_id": "00203-4ddaa08e-0f2b-4de1-814a-815e2a4442e7",
    "tags": []
   },
   "outputs": [
    {
     "data": {
      "text/plain": [
       "[1, 1, 2, 6, 24, 120]"
      ]
     },
     "execution_count": 240,
     "metadata": {},
     "output_type": "execute_result"
    }
   ],
   "source": [
    "r = map(fact, range(6))\n",
    "list(r)"
   ]
  },
  {
   "cell_type": "code",
   "execution_count": 241,
   "metadata": {
    "cell_id": "00204-221db488-4728-4630-8d71-2935004aa3c6",
    "tags": []
   },
   "outputs": [
    {
     "data": {
      "text/plain": [
       "[]"
      ]
     },
     "execution_count": 241,
     "metadata": {},
     "output_type": "execute_result"
    }
   ],
   "source": [
    "list(r)"
   ]
  },
  {
   "cell_type": "code",
   "execution_count": 246,
   "metadata": {
    "cell_id": "00205-cc4099ec-6075-4f1f-9b8c-ea10aa715d6b",
    "tags": []
   },
   "outputs": [
    {
     "data": {
      "text/plain": [
       "[1, 1, 2, 6, 24, 120]"
      ]
     },
     "execution_count": 246,
     "metadata": {},
     "output_type": "execute_result"
    }
   ],
   "source": [
    "results = list(map(fact, range(6)))\n",
    "results"
   ]
  },
  {
   "cell_type": "code",
   "execution_count": 247,
   "metadata": {
    "cell_id": "00206-8ca99509-5f33-4572-890e-15925b44079a",
    "tags": []
   },
   "outputs": [
    {
     "data": {
      "text/plain": [
       "[1, 1, 2, 6, 24, 120]"
      ]
     },
     "execution_count": 247,
     "metadata": {},
     "output_type": "execute_result"
    }
   ],
   "source": [
    "results"
   ]
  },
  {
   "cell_type": "code",
   "execution_count": 248,
   "metadata": {
    "cell_id": "00207-38bf6560-ce9d-4545-8d0f-fd457c37c319",
    "tags": []
   },
   "outputs": [],
   "source": [
    "l1 = [1, 2, 3, 4, 5]\n",
    "l2 = [10, 20, 30]"
   ]
  },
  {
   "cell_type": "code",
   "execution_count": 249,
   "metadata": {
    "cell_id": "00208-0c9411cc-e523-42e5-8a7b-acbbc6577c34",
    "tags": []
   },
   "outputs": [],
   "source": [
    "results = list(map(lambda x, y: x - y, l1, l2))"
   ]
  },
  {
   "cell_type": "code",
   "execution_count": 252,
   "metadata": {
    "cell_id": "00209-08521696-7e7b-4f1e-ae46-8fb2bef25236",
    "tags": []
   },
   "outputs": [
    {
     "name": "stdout",
     "output_type": "stream",
     "text": [
      "[-9, -18, -27]\n"
     ]
    }
   ],
   "source": [
    "print(results)"
   ]
  },
  {
   "cell_type": "code",
   "execution_count": 253,
   "metadata": {
    "cell_id": "00210-cfdf7eca-9164-4f2f-9b10-03714f9a9660",
    "tags": []
   },
   "outputs": [
    {
     "name": "stdout",
     "output_type": "stream",
     "text": [
      "['11p', '22y', '33t']\n"
     ]
    }
   ],
   "source": [
    "l1 = [1, 2, 3, 4, 5]\n",
    "l2 = [10, 20, 30]\n",
    "l3 = 'pythonish'\n",
    "print(list(map(lambda x, y, z: str(x + y) + z, l1, l2, l3)))"
   ]
  },
  {
   "cell_type": "code",
   "execution_count": 254,
   "metadata": {
    "cell_id": "00211-2975462a-2648-4d4f-a7d2-aabee6777058",
    "tags": []
   },
   "outputs": [],
   "source": [
    "l1 = [1, 2, 3, 4, 5]\n",
    "l2 = [10, 20, 30]\n",
    "l3 = 100, 200, 300, 400\n",
    "\n",
    "results = map(lambda x, y, z: x+y+z, l1, l2, l3)"
   ]
  },
  {
   "cell_type": "code",
   "execution_count": 257,
   "metadata": {
    "cell_id": "00212-dd2b9e7d-571d-4f83-8e7f-e4be96d08b59",
    "tags": []
   },
   "outputs": [
    {
     "name": "stdout",
     "output_type": "stream",
     "text": [
      "[111, 222, 333]\n"
     ]
    }
   ],
   "source": [
    "print(list(results))"
   ]
  },
  {
   "cell_type": "code",
   "execution_count": 258,
   "metadata": {
    "cell_id": "00213-952abc23-6624-4f58-a814-71879cc28344",
    "tags": []
   },
   "outputs": [],
   "source": [
    "l1 = [1, 2, 3, 4, 5]\n",
    "l2 = [10, 20, 30]\n",
    "l3 = 100, 200, 300, 400\n",
    "\n",
    "results = map(lambda x, y: x+y, l1, l2, l3)"
   ]
  },
  {
   "cell_type": "code",
   "execution_count": 259,
   "metadata": {
    "cell_id": "00214-88b5af54-2453-4b3e-a313-4b32b8da8753",
    "tags": []
   },
   "outputs": [
    {
     "ename": "TypeError",
     "evalue": "<lambda>() takes 2 positional arguments but 3 were given",
     "output_type": "error",
     "traceback": [
      "\u001b[0;31m---------------------------------------------------------------------------\u001b[0m",
      "\u001b[0;31mTypeError\u001b[0m                                 Traceback (most recent call last)",
      "\u001b[0;32m<ipython-input-259-e14bbfedb656>\u001b[0m in \u001b[0;36m<module>\u001b[0;34m\u001b[0m\n\u001b[0;32m----> 1\u001b[0;31m \u001b[0;32mfor\u001b[0m \u001b[0mx\u001b[0m \u001b[0;32min\u001b[0m \u001b[0mresults\u001b[0m\u001b[0;34m:\u001b[0m\u001b[0;34m\u001b[0m\u001b[0;34m\u001b[0m\u001b[0m\n\u001b[0m\u001b[1;32m      2\u001b[0m     \u001b[0mprint\u001b[0m\u001b[0;34m(\u001b[0m\u001b[0mx\u001b[0m\u001b[0;34m)\u001b[0m\u001b[0;34m\u001b[0m\u001b[0;34m\u001b[0m\u001b[0m\n",
      "\u001b[0;31mTypeError\u001b[0m: <lambda>() takes 2 positional arguments but 3 were given"
     ]
    }
   ],
   "source": [
    "for x in results: \n",
    "    print(x)"
   ]
  },
  {
   "cell_type": "code",
   "execution_count": 260,
   "metadata": {
    "cell_id": "00215-9eb198a1-1b78-4803-9fcf-8304c92c1fd8",
    "tags": []
   },
   "outputs": [],
   "source": [
    "l1 = [1, 2, 3, 4, 5]\n",
    "l2 = [10, 20, 30]\n",
    "l3 = 100, 200, 300, 400\n",
    "\n",
    "results = map(lambda x, y, z: x+y+z, l1, l2, l3)\n"
   ]
  },
  {
   "cell_type": "code",
   "execution_count": 261,
   "metadata": {
    "cell_id": "00216-8a7633a4-8042-4514-a8a3-7477445101da",
    "tags": []
   },
   "outputs": [
    {
     "name": "stdout",
     "output_type": "stream",
     "text": [
      "111\n"
     ]
    }
   ],
   "source": [
    "for x in results:\n",
    "    print(x)\n",
    "    break"
   ]
  },
  {
   "cell_type": "code",
   "execution_count": 262,
   "metadata": {
    "cell_id": "00217-718af140-744a-4670-bdf9-daecfb6f5219",
    "tags": []
   },
   "outputs": [
    {
     "name": "stdout",
     "output_type": "stream",
     "text": [
      "222\n"
     ]
    }
   ],
   "source": [
    "for x in results:\n",
    "    print(x)\n",
    "    break"
   ]
  },
  {
   "cell_type": "code",
   "execution_count": 263,
   "metadata": {
    "cell_id": "00218-76b7e54f-3dcb-4fdc-b95f-00502a677832",
    "tags": []
   },
   "outputs": [
    {
     "name": "stdout",
     "output_type": "stream",
     "text": [
      "333\n"
     ]
    }
   ],
   "source": [
    "for x in results:\n",
    "    print(x)\n",
    "    break"
   ]
  },
  {
   "cell_type": "code",
   "execution_count": 264,
   "metadata": {
    "cell_id": "00219-6c1ad53c-9143-406c-bab8-26a66035cb3e",
    "tags": []
   },
   "outputs": [],
   "source": [
    "for x in results:\n",
    "    print(x)\n",
    "    break"
   ]
  },
  {
   "cell_type": "code",
   "execution_count": 265,
   "metadata": {
    "cell_id": "00220-2ea4a8bb-73e4-4cf2-abd4-a42ee03b7e8f",
    "tags": []
   },
   "outputs": [],
   "source": [
    "for x in results:\n",
    "    print(x)\n",
    "    break"
   ]
  },
  {
   "cell_type": "code",
   "execution_count": 266,
   "metadata": {
    "cell_id": "00221-671602ba-c884-4f77-85b4-221ba0639306",
    "tags": []
   },
   "outputs": [
    {
     "data": {
      "text/plain": [
       "[0, 3, 6, 9, 12, 15, 18, 21, 24]"
      ]
     },
     "execution_count": 266,
     "metadata": {},
     "output_type": "execute_result"
    }
   ],
   "source": [
    "list(filter(lambda x: x % 3 == 0, range(25)))"
   ]
  },
  {
   "cell_type": "code",
   "execution_count": 267,
   "metadata": {
    "cell_id": "00222-89c3454c-ea8b-48a8-97b6-a80303a5e445",
    "tags": []
   },
   "outputs": [
    {
     "data": {
      "text/plain": [
       "[1, 'a', True]"
      ]
     },
     "execution_count": 267,
     "metadata": {},
     "output_type": "execute_result"
    }
   ],
   "source": [
    "list(filter(None, [0, 1, 'a', '', None, True, False]))"
   ]
  },
  {
   "cell_type": "code",
   "execution_count": 268,
   "metadata": {
    "cell_id": "00223-80f45e9e-e69c-4f38-9457-de90334698d0",
    "tags": []
   },
   "outputs": [
    {
     "name": "stdout",
     "output_type": "stream",
     "text": [
      "<zip object at 0x7f49b13beec8>\n"
     ]
    }
   ],
   "source": [
    "l1 = [1, 2, 3, 4]\n",
    "l2 = [10, 20, 30, 40]\n",
    "l3 = 'python'\n",
    "results = zip(l1, l2, l3)\n",
    "print(results)"
   ]
  },
  {
   "cell_type": "code",
   "execution_count": 269,
   "metadata": {
    "cell_id": "00224-f5934bc5-6ade-47e7-88c5-14edc8fd9799",
    "tags": []
   },
   "outputs": [
    {
     "name": "stdout",
     "output_type": "stream",
     "text": [
      "(1, 10, 'p')\n",
      "(2, 20, 'y')\n",
      "(3, 30, 't')\n",
      "(4, 40, 'h')\n"
     ]
    }
   ],
   "source": [
    "for x in results:\n",
    "    print(x)"
   ]
  },
  {
   "cell_type": "code",
   "execution_count": 270,
   "metadata": {
    "cell_id": "00225-7ea00676-6c97-4242-88cf-32389b6d9a77",
    "tags": []
   },
   "outputs": [],
   "source": [
    "for x in results: # a generator\n",
    "    print(x)"
   ]
  },
  {
   "cell_type": "code",
   "execution_count": 271,
   "metadata": {
    "cell_id": "00226-b5953557-c9ca-4704-b234-0dd1d282b05f",
    "tags": []
   },
   "outputs": [
    {
     "name": "stdout",
     "output_type": "stream",
     "text": [
      "[(0, 'p'), (1, 'y'), (2, 't'), (3, 'h'), (4, 'o'), (5, 'n')]\n"
     ]
    }
   ],
   "source": [
    "print(list(zip(range(10000), 'python')))"
   ]
  },
  {
   "cell_type": "code",
   "execution_count": 272,
   "metadata": {
    "cell_id": "00227-87e709af-0d9d-41bc-bea5-fc68b2ea247d",
    "tags": []
   },
   "outputs": [
    {
     "name": "stdout",
     "output_type": "stream",
     "text": [
      "[0, 1, 2, 3, 4, 5, 6, 7, 8, 9]\n"
     ]
    }
   ],
   "source": [
    "l = range(10)\n",
    "print(list(l))"
   ]
  },
  {
   "cell_type": "code",
   "execution_count": 273,
   "metadata": {
    "cell_id": "00228-ff1f9cd9-9164-4485-8812-086a9c93e5cd",
    "tags": []
   },
   "outputs": [
    {
     "data": {
      "text/plain": [
       "[1, 1, 2, 6, 24, 120, 720, 5040, 40320, 362880]"
      ]
     },
     "execution_count": 273,
     "metadata": {},
     "output_type": "execute_result"
    }
   ],
   "source": [
    "list(map(fact, l))"
   ]
  },
  {
   "cell_type": "code",
   "execution_count": 274,
   "metadata": {
    "cell_id": "00229-ca3dbda6-e348-4cc3-bff3-98b9b230a0a6",
    "tags": []
   },
   "outputs": [
    {
     "data": {
      "text/plain": [
       "<map at 0x7f49b1194438>"
      ]
     },
     "execution_count": 274,
     "metadata": {},
     "output_type": "execute_result"
    }
   ],
   "source": [
    "map(fact, range(100000000000))"
   ]
  },
  {
   "cell_type": "code",
   "execution_count": 275,
   "metadata": {
    "cell_id": "00230-5afd0df5-a49a-43f7-a9ad-3fee15b3d619",
    "tags": []
   },
   "outputs": [
    {
     "name": "stdout",
     "output_type": "stream",
     "text": [
      "[1, 1, 2, 6, 24, 120, 720, 5040, 40320, 362880]\n"
     ]
    }
   ],
   "source": [
    "result = [fact(n) for n in range(10)] \n",
    "print(result) "
   ]
  },
  {
   "cell_type": "code",
   "execution_count": 276,
   "metadata": {
    "cell_id": "00231-70bb59bf-8960-4f40-9a9a-060cf7bd8854",
    "tags": []
   },
   "outputs": [
    {
     "name": "stdout",
     "output_type": "stream",
     "text": [
      "<generator object <genexpr> at 0x7f49b1952048>\n"
     ]
    }
   ],
   "source": [
    "results = (fact(n) for n in range(10)) #now it is deferred\n",
    "print(results)"
   ]
  },
  {
   "cell_type": "code",
   "execution_count": 277,
   "metadata": {
    "cell_id": "00232-afcc2322-0d43-4776-ba41-00f7036cca32",
    "tags": []
   },
   "outputs": [
    {
     "name": "stdout",
     "output_type": "stream",
     "text": [
      "1\n",
      "1\n",
      "2\n",
      "6\n",
      "24\n",
      "120\n",
      "720\n",
      "5040\n",
      "40320\n",
      "362880\n"
     ]
    }
   ],
   "source": [
    "for x in results:\n",
    "    print(x)"
   ]
  },
  {
   "cell_type": "code",
   "execution_count": 278,
   "metadata": {
    "cell_id": "00233-927aad03-cafd-45c4-bb26-71224d0a7ccb",
    "tags": []
   },
   "outputs": [],
   "source": [
    "for x in results:\n",
    "    print(x)"
   ]
  },
  {
   "cell_type": "code",
   "execution_count": 279,
   "metadata": {
    "cell_id": "00234-021a5933-88fc-485f-b1c1-2cbe57a183b4",
    "tags": []
   },
   "outputs": [],
   "source": [
    "l1 = [1, 2, 3, 4, 5, 6]\n",
    "l2 = [10, 20, 30, 40]"
   ]
  },
  {
   "cell_type": "code",
   "execution_count": 280,
   "metadata": {
    "cell_id": "00235-252d263c-5542-46ac-b7d9-78faa655d77f",
    "tags": []
   },
   "outputs": [
    {
     "data": {
      "text/plain": [
       "[11, 22, 33, 44]"
      ]
     },
     "execution_count": 280,
     "metadata": {},
     "output_type": "execute_result"
    }
   ],
   "source": [
    "list(map(lambda x, y:x + y, l1, l2))"
   ]
  },
  {
   "cell_type": "code",
   "execution_count": 281,
   "metadata": {
    "cell_id": "00236-c78d3d0b-9a42-4fad-a510-72055f472bb6",
    "tags": []
   },
   "outputs": [
    {
     "data": {
      "text/plain": [
       "[11, 22, 33, 44]"
      ]
     },
     "execution_count": 281,
     "metadata": {},
     "output_type": "execute_result"
    }
   ],
   "source": [
    "[x + y for x, y in zip(l1, l2)]"
   ]
  },
  {
   "cell_type": "code",
   "execution_count": 282,
   "metadata": {
    "cell_id": "00237-6cb193ed-36f5-45c7-9e5f-0bb8c6f362c3",
    "tags": []
   },
   "outputs": [
    {
     "data": {
      "text/plain": [
       "[22, 44]"
      ]
     },
     "execution_count": 282,
     "metadata": {},
     "output_type": "execute_result"
    }
   ],
   "source": [
    "list(filter(lambda x: x%2 ==0, map(lambda x, y:x + y, l1, l2)))"
   ]
  },
  {
   "cell_type": "code",
   "execution_count": 285,
   "metadata": {
    "cell_id": "00238-3bae8622-653a-41b2-82a8-35986e37085f",
    "tags": []
   },
   "outputs": [
    {
     "data": {
      "text/plain": [
       "[11, 22, 33, 44]"
      ]
     },
     "execution_count": 285,
     "metadata": {},
     "output_type": "execute_result"
    }
   ],
   "source": [
    "[x + y for x, y in zip(l1, l2) if y/x == 10]"
   ]
  },
  {
   "cell_type": "code",
   "execution_count": null,
   "metadata": {
    "cell_id": "00239-fbcb7efe-785e-465a-b762-14995e7bf2bd",
    "tags": []
   },
   "outputs": [],
   "source": []
  }
 ],
 "metadata": {
  "deepnote_execution_queue": [],
  "deepnote_notebook_id": "2acccad0-7e7a-4672-be76-9ea84219ec9d",
  "kernelspec": {
   "display_name": "Python 3",
   "language": "python",
   "name": "python3"
  },
  "language_info": {
   "codemirror_mode": {
    "name": "ipython",
    "version": 3
   },
   "file_extension": ".py",
   "mimetype": "text/x-python",
   "name": "python",
   "nbconvert_exporter": "python",
   "pygments_lexer": "ipython3",
   "version": "3.7.6"
  }
 },
 "nbformat": 4,
 "nbformat_minor": 2
}
