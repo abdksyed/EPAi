{
 "cells": [
  {
   "cell_type": "code",
   "execution_count": 107,
   "metadata": {
    "cell_id": "00000-ea34e332-cef2-409e-b268-ae5f957c906f",
    "output_cleared": false,
    "tags": []
   },
   "outputs": [],
   "source": [
    "a = 10"
   ]
  },
  {
   "cell_type": "code",
   "execution_count": 108,
   "metadata": {
    "cell_id": "00001-257b1b33-cdb7-43ac-b414-caf68b7dba4c",
    "output_cleared": false,
    "tags": []
   },
   "outputs": [],
   "source": [
    "def my_func(n):\n",
    "    c = n ** 2\n",
    "    return c "
   ]
  },
  {
   "cell_type": "code",
   "execution_count": 109,
   "metadata": {
    "cell_id": "00002-b055e15d-cbea-4d51-8ca3-c506f3451184",
    "output_cleared": false,
    "tags": []
   },
   "outputs": [],
   "source": [
    "def my_func(n):\n",
    "    print('global a:', a) \n",
    "    c = a ** n\n",
    "    return c"
   ]
  },
  {
   "cell_type": "code",
   "execution_count": 110,
   "metadata": {
    "cell_id": "00003-5897d109-20bc-46f5-b44a-7ca621f5dc86",
    "output_cleared": false,
    "tags": []
   },
   "outputs": [
    {
     "name": "stdout",
     "output_type": "stream",
     "text": [
      "global a: 10\n"
     ]
    },
    {
     "data": {
      "text/plain": [
       "100"
      ]
     },
     "execution_count": 110,
     "metadata": {},
     "output_type": "execute_result"
    }
   ],
   "source": [
    "my_func(2)"
   ]
  },
  {
   "cell_type": "code",
   "execution_count": 111,
   "metadata": {
    "cell_id": "00004-51ed214f-d938-4934-937a-3519db90d61b",
    "output_cleared": false,
    "tags": []
   },
   "outputs": [
    {
     "data": {
      "text/plain": [
       "400"
      ]
     },
     "execution_count": 111,
     "metadata": {},
     "output_type": "execute_result"
    }
   ],
   "source": [
    "a =10\n",
    "def my_func(n):\n",
    "    a = 20\n",
    "    c = a ** n\n",
    "    return c\n",
    "my_func(2)"
   ]
  },
  {
   "cell_type": "code",
   "execution_count": 112,
   "metadata": {
    "cell_id": "00005-6b46476b-6176-462a-9936-26e76b1b4557",
    "output_cleared": false,
    "tags": []
   },
   "outputs": [
    {
     "data": {
      "text/plain": [
       "10"
      ]
     },
     "execution_count": 112,
     "metadata": {},
     "output_type": "execute_result"
    }
   ],
   "source": [
    "a"
   ]
  },
  {
   "cell_type": "code",
   "execution_count": 113,
   "metadata": {
    "cell_id": "00006-bc004e1d-3d99-4847-9a2d-8fcde6be7ff3",
    "output_cleared": false,
    "tags": []
   },
   "outputs": [],
   "source": [
    "def my_func(n):\n",
    "    global var\n",
    "    var = 20\n",
    "    c = var ** n\n",
    "    return c"
   ]
  },
  {
   "cell_type": "code",
   "execution_count": 114,
   "metadata": {
    "cell_id": "00007-841287ab-8978-44d8-8d02-29283317f727",
    "output_cleared": false,
    "tags": []
   },
   "outputs": [
    {
     "data": {
      "text/plain": [
       "400"
      ]
     },
     "execution_count": 114,
     "metadata": {},
     "output_type": "execute_result"
    }
   ],
   "source": [
    "my_func(2)"
   ]
  },
  {
   "cell_type": "code",
   "execution_count": 115,
   "metadata": {
    "cell_id": "00008-d1bc7e20-0d60-4ecc-a510-e96fa46549d9",
    "output_cleared": false,
    "tags": []
   },
   "outputs": [
    {
     "data": {
      "text/plain": [
       "20"
      ]
     },
     "execution_count": 115,
     "metadata": {},
     "output_type": "execute_result"
    }
   ],
   "source": [
    "var"
   ]
  },
  {
   "cell_type": "code",
   "execution_count": 116,
   "metadata": {
    "cell_id": "00009-6a466c23-1fc4-4ea6-8bd0-ad6cebf0363f",
    "output_cleared": false,
    "tags": []
   },
   "outputs": [
    {
     "data": {
      "text/plain": [
       "20"
      ]
     },
     "execution_count": 116,
     "metadata": {},
     "output_type": "execute_result"
    }
   ],
   "source": [
    "var\n"
   ]
  },
  {
   "cell_type": "code",
   "execution_count": 117,
   "metadata": {
    "cell_id": "00010-5c1e6245-dd48-4b7b-bd39-8fc92ce67733",
    "output_cleared": false,
    "tags": []
   },
   "outputs": [],
   "source": [
    "def my_func(n):\n",
    "    global vor\n",
    "    vor = 20\n",
    "    c = vor ** n\n",
    "    return c"
   ]
  },
  {
   "cell_type": "code",
   "execution_count": 118,
   "metadata": {
    "cell_id": "00011-d9e1bfba-931b-4365-b843-0b6129be28f5",
    "output_cleared": false,
    "tags": []
   },
   "outputs": [
    {
     "data": {
      "text/plain": [
       "20"
      ]
     },
     "execution_count": 118,
     "metadata": {},
     "output_type": "execute_result"
    }
   ],
   "source": [
    "vor"
   ]
  },
  {
   "cell_type": "code",
   "execution_count": 119,
   "metadata": {
    "cell_id": "00012-e9e261ef-9a43-4007-a3b7-4ea8685fe1fe",
    "output_cleared": false,
    "tags": []
   },
   "outputs": [
    {
     "data": {
      "text/plain": [
       "400"
      ]
     },
     "execution_count": 119,
     "metadata": {},
     "output_type": "execute_result"
    }
   ],
   "source": [
    "my_func(2)"
   ]
  },
  {
   "cell_type": "code",
   "execution_count": 120,
   "metadata": {
    "cell_id": "00013-6956a6b3-2cf8-4ea3-a814-18243f7ce7e2",
    "output_cleared": false,
    "tags": []
   },
   "outputs": [
    {
     "data": {
      "text/plain": [
       "20"
      ]
     },
     "execution_count": 120,
     "metadata": {},
     "output_type": "execute_result"
    }
   ],
   "source": [
    "vor"
   ]
  },
  {
   "cell_type": "code",
   "execution_count": 121,
   "metadata": {
    "cell_id": "00014-afbfcec9-c2cd-407e-8c7d-4db7f9015aa7",
    "output_cleared": false,
    "tags": []
   },
   "outputs": [
    {
     "name": "stdout",
     "output_type": "stream",
     "text": [
      "10\n",
      "global a: hello\n"
     ]
    }
   ],
   "source": [
    "a = 10\n",
    "\n",
    "def my_func():\n",
    "    global a\n",
    "    a = 'hello'\n",
    "    print('global a:', a)\n",
    "print(a)\n",
    "my_func()"
   ]
  },
  {
   "cell_type": "code",
   "execution_count": 122,
   "metadata": {
    "cell_id": "00015-ed85efa6-532d-4b46-888b-6500d5174cf5",
    "output_cleared": false,
    "tags": []
   },
   "outputs": [
    {
     "data": {
      "text/plain": [
       "'hello'"
      ]
     },
     "execution_count": 122,
     "metadata": {},
     "output_type": "execute_result"
    }
   ],
   "source": [
    "a"
   ]
  },
  {
   "cell_type": "code",
   "execution_count": 123,
   "metadata": {
    "cell_id": "00016-7e45f056-cbed-4599-881f-5cf66fc47b90",
    "output_cleared": false,
    "tags": []
   },
   "outputs": [
    {
     "data": {
      "text/plain": [
       "2"
      ]
     },
     "execution_count": 123,
     "metadata": {},
     "output_type": "execute_result"
    }
   ],
   "source": [
    "def my_func(n):\n",
    "    global var\n",
    "    c = var ** n\n",
    "    return c\n",
    "var = 2\n",
    "var"
   ]
  },
  {
   "cell_type": "code",
   "execution_count": 124,
   "metadata": {
    "cell_id": "00017-cb0d11e4-815c-4884-8b43-bf23057c093e",
    "output_cleared": false,
    "tags": []
   },
   "outputs": [
    {
     "data": {
      "text/plain": [
       "4"
      ]
     },
     "execution_count": 124,
     "metadata": {},
     "output_type": "execute_result"
    }
   ],
   "source": [
    "my_func(2)"
   ]
  },
  {
   "cell_type": "code",
   "execution_count": 125,
   "metadata": {
    "cell_id": "00018-f5671b6a-2627-41c8-890c-3c9cc757b5a2",
    "output_cleared": false,
    "tags": []
   },
   "outputs": [
    {
     "name": "stdout",
     "output_type": "stream",
     "text": [
      "global a: hello\n"
     ]
    }
   ],
   "source": [
    "def my_func():\n",
    "    print('global a:', a)\n",
    "my_func()"
   ]
  },
  {
   "cell_type": "code",
   "execution_count": 126,
   "metadata": {
    "cell_id": "00019-1de75a05-6245-43c5-8e9d-b6f33e365530",
    "output_cleared": false,
    "tags": []
   },
   "outputs": [],
   "source": [
    "def my_func():\n",
    "    print('global a:', a)\n",
    "    a = 'hello world'\n",
    "    print(a)"
   ]
  },
  {
   "cell_type": "code",
   "execution_count": 127,
   "metadata": {
    "cell_id": "00020-7d07903e-26cd-454c-afef-3a660d1573d4",
    "output_cleared": false,
    "tags": []
   },
   "outputs": [
    {
     "ename": "UnboundLocalError",
     "evalue": "local variable 'a' referenced before assignment",
     "output_type": "error",
     "traceback": [
      "\u001b[0;31m---------------------------------------------------------------------------\u001b[0m",
      "\u001b[0;31mUnboundLocalError\u001b[0m                         Traceback (most recent call last)",
      "\u001b[0;32m<ipython-input-127-db3ada79940f>\u001b[0m in \u001b[0;36m<module>\u001b[0;34m\u001b[0m\n\u001b[0;32m----> 1\u001b[0;31m \u001b[0mmy_func\u001b[0m\u001b[0;34m(\u001b[0m\u001b[0;34m)\u001b[0m\u001b[0;34m\u001b[0m\u001b[0;34m\u001b[0m\u001b[0m\n\u001b[0m",
      "\u001b[0;32m<ipython-input-126-6d51becdb15e>\u001b[0m in \u001b[0;36mmy_func\u001b[0;34m()\u001b[0m\n\u001b[1;32m      1\u001b[0m \u001b[0;32mdef\u001b[0m \u001b[0mmy_func\u001b[0m\u001b[0;34m(\u001b[0m\u001b[0;34m)\u001b[0m\u001b[0;34m:\u001b[0m\u001b[0;34m\u001b[0m\u001b[0;34m\u001b[0m\u001b[0m\n\u001b[0;32m----> 2\u001b[0;31m     \u001b[0mprint\u001b[0m\u001b[0;34m(\u001b[0m\u001b[0;34m'global a:'\u001b[0m\u001b[0;34m,\u001b[0m \u001b[0ma\u001b[0m\u001b[0;34m)\u001b[0m\u001b[0;34m\u001b[0m\u001b[0;34m\u001b[0m\u001b[0m\n\u001b[0m\u001b[1;32m      3\u001b[0m     \u001b[0ma\u001b[0m \u001b[0;34m=\u001b[0m \u001b[0;34m'hello world'\u001b[0m\u001b[0;34m\u001b[0m\u001b[0;34m\u001b[0m\u001b[0m\n\u001b[1;32m      4\u001b[0m     \u001b[0mprint\u001b[0m\u001b[0;34m(\u001b[0m\u001b[0ma\u001b[0m\u001b[0;34m)\u001b[0m\u001b[0;34m\u001b[0m\u001b[0;34m\u001b[0m\u001b[0m\n",
      "\u001b[0;31mUnboundLocalError\u001b[0m: local variable 'a' referenced before assignment"
     ]
    }
   ],
   "source": [
    "my_func()"
   ]
  },
  {
   "cell_type": "code",
   "execution_count": 43,
   "metadata": {
    "cell_id": "00021-27733238-f090-4c58-ba30-f9eb86686657",
    "output_cleared": false,
    "tags": []
   },
   "outputs": [],
   "source": [
    "print(b)\n",
    "b = 1"
   ]
  },
  {
   "cell_type": "code",
   "execution_count": 44,
   "metadata": {
    "cell_id": "00022-efa0bb9b-a78a-4530-b16e-7b901d0eb617",
    "output_cleared": false,
    "tags": []
   },
   "outputs": [],
   "source": [
    "a = 10\n",
    "f = lambda n: print(a ** n)\n",
    "f(2)"
   ]
  },
  {
   "cell_type": "code",
   "execution_count": 45,
   "metadata": {
    "cell_id": "00023-6b0e5ef8-eb15-40b0-81b5-166fc0ac1911",
    "output_cleared": false,
    "tags": []
   },
   "outputs": [],
   "source": [
    "f = lambda n: print(b ** n)\n",
    "f(2)"
   ]
  },
  {
   "cell_type": "code",
   "execution_count": 46,
   "metadata": {
    "cell_id": "00024-3b319e64-a0fd-477c-a2f6-cbc45204ebf1",
    "output_cleared": false,
    "tags": []
   },
   "outputs": [],
   "source": [
    "print(True) "
   ]
  },
  {
   "cell_type": "code",
   "execution_count": 47,
   "metadata": {
    "cell_id": "00025-f7f99733-2c97-415f-bec6-3ee7ff437fee",
    "output_cleared": false,
    "tags": []
   },
   "outputs": [],
   "source": [
    "def print(x):\n",
    "    return 'hello {0}'.format(x)"
   ]
  },
  {
   "cell_type": "code",
   "execution_count": 48,
   "metadata": {
    "cell_id": "00026-1d157bab-fba2-434f-b94b-16d524fddb30",
    "output_cleared": false,
    "tags": []
   },
   "outputs": [],
   "source": [
    "print('world')"
   ]
  },
  {
   "cell_type": "code",
   "execution_count": 49,
   "metadata": {
    "cell_id": "00027-2a1e7560-0d0c-4bf4-9406-dd6ec84f9b17",
    "output_cleared": false,
    "tags": []
   },
   "outputs": [],
   "source": [
    "print('world', '!')"
   ]
  },
  {
   "cell_type": "code",
   "execution_count": 50,
   "metadata": {
    "cell_id": "00028-259d8490-e672-475b-a01b-6970f0e312a9",
    "output_cleared": false,
    "tags": []
   },
   "outputs": [],
   "source": [
    "del print\n",
    "print('world', '!')"
   ]
  },
  {
   "cell_type": "code",
   "execution_count": null,
   "metadata": {
    "cell_id": "00029-459e51d9-b51e-46b0-b3fd-1b51277efcd3",
    "output_cleared": false,
    "tags": []
   },
   "outputs": [],
   "source": [
    "# Java or C++\n",
    "for (int i = 0; i < 10; i++){\n",
    "    int x = 2 * i\n",
    "}\n",
    "system.out.println(x) <<< This throws error"
   ]
  },
  {
   "cell_type": "code",
   "execution_count": 51,
   "metadata": {
    "cell_id": "00030-d1af0ce2-d86d-4908-955d-1faa66c2d4e3",
    "output_cleared": false,
    "tags": []
   },
   "outputs": [],
   "source": [
    "for i in range(10):\n",
    "    x = 2 * i\n",
    "print(x)"
   ]
  },
  {
   "cell_type": "code",
   "execution_count": 52,
   "metadata": {
    "cell_id": "00031-2fea3528-4300-4a29-b7c8-6bc1700571b7",
    "output_cleared": false,
    "tags": []
   },
   "outputs": [],
   "source": [
    "if (True):\n",
    "    y = 100\n",
    "print(y)"
   ]
  },
  {
   "cell_type": "code",
   "execution_count": 53,
   "metadata": {
    "cell_id": "00032-949ee9c5-dc62-4719-bf81-532256628cea",
    "output_cleared": false,
    "tags": []
   },
   "outputs": [],
   "source": [
    "if (False):\n",
    "    yy = 100\n",
    "print(yy)"
   ]
  },
  {
   "cell_type": "code",
   "execution_count": 54,
   "metadata": {
    "cell_id": "00033-4973e2b5-cd45-40a8-a16b-9e6f70465936",
    "output_cleared": false,
    "tags": []
   },
   "outputs": [],
   "source": [
    "def my_func():\n",
    "    if(True):\n",
    "        yyyy = 100\n",
    "    print(yyyy)\n",
    "my_func()\n",
    "print(yyyy)"
   ]
  },
  {
   "cell_type": "code",
   "execution_count": 56,
   "metadata": {
    "cell_id": "00034-a71c4424-efb0-4bbf-b7f4-c8008bc9c903",
    "output_cleared": false,
    "tags": []
   },
   "outputs": [],
   "source": [
    "z = 100\n",
    "def outer_func():\n",
    "    x = 'hello'\n",
    "    def inner_func():\n",
    "        y = 'red'\n",
    "        print(x)\n",
    "    inner_func()\n",
    "\n",
    "outer_func()"
   ]
  },
  {
   "cell_type": "code",
   "execution_count": 60,
   "metadata": {
    "cell_id": "00035-2258f4b7-a82d-4f32-ab9a-e01ec9600fa4",
    "output_cleared": false,
    "tags": []
   },
   "outputs": [],
   "source": [
    "z = 100\n",
    "def outer_func():\n",
    "    global z\n",
    "    print(z)\n",
    "    def inner_func():\n",
    "        global z\n",
    "        print(z)\n",
    "    inner_func()\n",
    "\n",
    "outer_func()"
   ]
  },
  {
   "cell_type": "code",
   "execution_count": 61,
   "metadata": {
    "cell_id": "00036-f4894940-836a-474b-92c7-8501ca6944b7",
    "output_cleared": false,
    "tags": []
   },
   "outputs": [],
   "source": [
    "def outer_func():\n",
    "    x = 'hello'\n",
    "    def inner():\n",
    "        x = 'tsai'\n",
    "        print('inner x:', x)\n",
    "    inner()\n",
    "    print('outer x:', x)"
   ]
  },
  {
   "cell_type": "code",
   "execution_count": 62,
   "metadata": {
    "cell_id": "00037-52cf6d76-65c0-4af4-9d08-01ab580f941f",
    "output_cleared": false,
    "tags": []
   },
   "outputs": [],
   "source": [
    "outer_func()"
   ]
  },
  {
   "cell_type": "code",
   "execution_count": 66,
   "metadata": {
    "cell_id": "00038-1ae4723a-83b3-4610-ad1b-5904e5651f51",
    "output_cleared": false,
    "tags": []
   },
   "outputs": [],
   "source": [
    "def outer():\n",
    "    x = 'hello'\n",
    "    def inner1():\n",
    "        def inner2():\n",
    "            nonlocal x\n",
    "            x = 'python'\n",
    "        inner2()\n",
    "    inner1()\n",
    "    print(x)\n",
    "outer()"
   ]
  },
  {
   "cell_type": "code",
   "execution_count": 67,
   "metadata": {
    "cell_id": "00039-5137a39b-d02a-4bef-acf7-eda3410f12ad",
    "output_cleared": false,
    "tags": []
   },
   "outputs": [],
   "source": [
    "def outer():\n",
    "    x = 'hello'\n",
    "    def inner1():\n",
    "        nonlocal x\n",
    "        x = 'inner1'\n",
    "        def inner2():\n",
    "            nonlocal x\n",
    "            x = 'inner2'\n",
    "        inner2()\n",
    "    inner1()\n",
    "    print(x)\n",
    "outer()"
   ]
  },
  {
   "cell_type": "code",
   "execution_count": 68,
   "metadata": {
    "cell_id": "00040-44cb9a20-5293-4f3a-8d61-61fe5b38198b",
    "output_cleared": false,
    "tags": []
   },
   "outputs": [],
   "source": [
    "x = 'global'\n",
    "\n",
    "def outer():\n",
    "    global x\n",
    "    x = 'outer'\n",
    "    def inner():\n",
    "        nonlocal x \n",
    "        x = 'inner'\n",
    "    inner()\n",
    "    print(x)"
   ]
  },
  {
   "cell_type": "code",
   "execution_count": 69,
   "metadata": {
    "cell_id": "00041-019aacc9-c5fb-4d87-b1a6-bf1db680bc65",
    "output_cleared": false,
    "tags": []
   },
   "outputs": [],
   "source": [
    "del x\n",
    "def outer():\n",
    "    global x\n",
    "    x = 'outer'\n",
    "    def inner():\n",
    "        global x \n",
    "        x = 'inner'\n",
    "    inner()\n",
    "    print(x)\n",
    "outer()\n",
    "print(x)"
   ]
  },
  {
   "cell_type": "code",
   "execution_count": 73,
   "metadata": {
    "cell_id": "00042-ccf3bd72-ccb5-42df-bcba-882295030e87",
    "output_cleared": false,
    "tags": []
   },
   "outputs": [],
   "source": [
    "x = 0\n",
    "def fn1():\n",
    "    def fn2():\n",
    "        def fn3():\n",
    "            nonlocal x\n",
    "            print(x)\n",
    "        fn3()\n",
    "    fn2()\n",
    "fn1()"
   ]
  },
  {
   "cell_type": "code",
   "execution_count": 77,
   "metadata": {
    "cell_id": "00043-709d813c-48d3-4660-9dfa-7b5839d67707",
    "output_cleared": false,
    "tags": []
   },
   "outputs": [],
   "source": [
    "def counter():\n",
    "    count = 0\n",
    "    def inc():\n",
    "        print(count)\n",
    "        count += 1\n",
    "        return count\n",
    "    inc()\n",
    "counter()"
   ]
  },
  {
   "cell_type": "code",
   "execution_count": 78,
   "metadata": {
    "cell_id": "00044-b3fe834d-c723-408c-b9e9-37857bbff023",
    "output_cleared": false,
    "tags": []
   },
   "outputs": [],
   "source": [
    "def outer():\n",
    "    x = 'python'\n",
    "    def inner():\n",
    "        print(x)\n",
    "    return inner"
   ]
  },
  {
   "cell_type": "code",
   "execution_count": 79,
   "metadata": {
    "cell_id": "00045-06c05f3c-1d32-4c1b-9899-6a9bd60e67ae",
    "output_cleared": false,
    "tags": []
   },
   "outputs": [],
   "source": [
    "fn = outer()"
   ]
  },
  {
   "cell_type": "code",
   "execution_count": 80,
   "metadata": {
    "cell_id": "00046-3fe62d95-436b-4358-bcf6-43563c62d649",
    "output_cleared": false,
    "tags": []
   },
   "outputs": [],
   "source": [
    "fn.__code__.co_freevars"
   ]
  },
  {
   "cell_type": "code",
   "execution_count": 81,
   "metadata": {
    "cell_id": "00047-6c59fab2-d0ab-4e5e-ba89-e369d472b502",
    "output_cleared": false,
    "tags": []
   },
   "outputs": [],
   "source": [
    "fn.__closure__"
   ]
  },
  {
   "cell_type": "code",
   "execution_count": 82,
   "metadata": {
    "cell_id": "00048-1ae7156f-6b59-4049-8694-2d62ca38f401",
    "output_cleared": false,
    "tags": []
   },
   "outputs": [],
   "source": [
    "id('python')"
   ]
  },
  {
   "cell_type": "code",
   "execution_count": 89,
   "metadata": {
    "cell_id": "00049-16882cd6-dc23-440c-94de-5483fd6260a7",
    "output_cleared": false,
    "tags": []
   },
   "outputs": [],
   "source": [
    "def outer():\n",
    "    x = 123\n",
    "    print(hex(id(x)))\n",
    "    def inner():\n",
    "        x = 123\n",
    "        print(hex(id(x)))\n",
    "    return inner"
   ]
  },
  {
   "cell_type": "code",
   "execution_count": 90,
   "metadata": {
    "cell_id": "00050-6522372e-5fe7-4fda-ba0d-722f2e760341",
    "output_cleared": false,
    "tags": []
   },
   "outputs": [],
   "source": [
    "fn = outer()"
   ]
  },
  {
   "cell_type": "code",
   "execution_count": 91,
   "metadata": {
    "cell_id": "00051-04a9590d-af3b-42e5-bcc6-871b76543ae7",
    "output_cleared": false,
    "tags": []
   },
   "outputs": [],
   "source": [
    "fn()"
   ]
  },
  {
   "cell_type": "code",
   "execution_count": 92,
   "metadata": {
    "cell_id": "00052-270ac24d-dc1c-4293-8c73-0366d5a0bd17",
    "output_cleared": false,
    "tags": []
   },
   "outputs": [],
   "source": [
    "def outer():\n",
    "    x = 'tsai'\n",
    "    print(hex(id(x)))\n",
    "    def inner():\n",
    "        y = x\n",
    "        print(hex(id(y)))\n",
    "    return inner\n",
    "fn = outer()"
   ]
  },
  {
   "cell_type": "code",
   "execution_count": 93,
   "metadata": {
    "cell_id": "00053-f6cb0440-806b-46f5-a8ea-0664d9c57c2b",
    "output_cleared": false,
    "tags": []
   },
   "outputs": [],
   "source": [
    "fn()"
   ]
  },
  {
   "cell_type": "code",
   "execution_count": 94,
   "metadata": {
    "cell_id": "00054-574b94b2-91d7-4360-ad2c-52a94536facd",
    "output_cleared": false,
    "tags": []
   },
   "outputs": [],
   "source": [
    "fn.__closure__"
   ]
  },
  {
   "cell_type": "code",
   "execution_count": 95,
   "metadata": {
    "cell_id": "00055-4ebd0b9c-32cb-4a6b-aa3b-3b91f2b42604",
    "output_cleared": false,
    "tags": []
   },
   "outputs": [],
   "source": [
    "def outer():\n",
    "    count = 0\n",
    "    def inner():\n",
    "        nonlocal count\n",
    "        count += 1\n",
    "        return count\n",
    "    return inner\n",
    "fn = outer()\n",
    "fn.__code__.co_freevars"
   ]
  },
  {
   "cell_type": "code",
   "execution_count": 96,
   "metadata": {
    "cell_id": "00056-0aba3420-da9a-4325-b5fa-53e7eca93cf2",
    "output_cleared": false,
    "tags": []
   },
   "outputs": [],
   "source": [
    "fn.__closure__"
   ]
  },
  {
   "cell_type": "code",
   "execution_count": 97,
   "metadata": {
    "cell_id": "00057-c2eb179b-d86c-4825-bc9c-f75da3d60ac9",
    "output_cleared": false,
    "tags": []
   },
   "outputs": [],
   "source": [
    "hex(id(0))"
   ]
  },
  {
   "cell_type": "code",
   "execution_count": 98,
   "metadata": {
    "cell_id": "00058-0368c7d2-a8de-4401-a392-2816b46983d1",
    "output_cleared": false,
    "tags": []
   },
   "outputs": [],
   "source": [
    "fn()"
   ]
  },
  {
   "cell_type": "code",
   "execution_count": 99,
   "metadata": {
    "cell_id": "00059-782ef3b4-f127-41b8-92b5-571d86d039c9",
    "output_cleared": false,
    "tags": []
   },
   "outputs": [],
   "source": [
    "fn.__closure__"
   ]
  },
  {
   "cell_type": "code",
   "execution_count": 100,
   "metadata": {
    "cell_id": "00060-d9d4f742-4a2a-459d-928c-022da899ffe8",
    "output_cleared": false,
    "tags": []
   },
   "outputs": [],
   "source": [
    "hex(id(1))"
   ]
  },
  {
   "cell_type": "code",
   "execution_count": 101,
   "metadata": {
    "cell_id": "00061-c4d206ad-36de-444a-b6c2-1d481a416762",
    "output_cleared": false,
    "tags": []
   },
   "outputs": [],
   "source": [
    "fn(), fn.__closure__, hex(id(2))\n"
   ]
  },
  {
   "cell_type": "code",
   "execution_count": 102,
   "metadata": {
    "cell_id": "00062-704b4a8f-5af2-4f25-b375-c8bd60e0c7c4",
    "output_cleared": false,
    "tags": []
   },
   "outputs": [],
   "source": [
    "def outer():\n",
    "    count = 0\n",
    "    def inc1():\n",
    "        nonlocal count\n",
    "        count += 1\n",
    "        return count\n",
    "\n",
    "    def inc2():\n",
    "        nonlocal count\n",
    "        count += 1\n",
    "        return count\n",
    "    return inc1, inc2\n",
    "fn1, fn2 = outer()"
   ]
  },
  {
   "cell_type": "code",
   "execution_count": 103,
   "metadata": {
    "cell_id": "00063-ec24ac24-d9d7-426b-9e91-5ee762b6b886",
    "output_cleared": false,
    "tags": []
   },
   "outputs": [],
   "source": [
    "fn1.__code__.co_freevars, fn2.__code__.co_freevars"
   ]
  },
  {
   "cell_type": "code",
   "execution_count": 104,
   "metadata": {
    "cell_id": "00064-c1281d20-dad0-4544-b417-ea424a3acc8e",
    "output_cleared": false,
    "tags": []
   },
   "outputs": [],
   "source": [
    "fn1.__closure__, fn2.__closure__"
   ]
  },
  {
   "cell_type": "code",
   "execution_count": 105,
   "metadata": {
    "cell_id": "00065-c199d62a-37be-463c-97c4-95304654b159",
    "output_cleared": false,
    "tags": []
   },
   "outputs": [],
   "source": [
    "fn1()"
   ]
  },
  {
   "cell_type": "code",
   "execution_count": 106,
   "metadata": {
    "cell_id": "00066-f672d0da-1802-4d6d-8f6e-69465625f74d",
    "output_cleared": false,
    "tags": []
   },
   "outputs": [],
   "source": [
    "fn1.__closure__, fn2.__closure__"
   ]
  },
  {
   "cell_type": "code",
   "execution_count": 128,
   "metadata": {
    "cell_id": "00067-f1c7b35f-5ea8-4d80-91ec-c92492dc60b7",
    "output_cleared": false,
    "tags": []
   },
   "outputs": [
    {
     "data": {
      "text/plain": [
       "2"
      ]
     },
     "execution_count": 128,
     "metadata": {},
     "output_type": "execute_result"
    }
   ],
   "source": [
    "fn2()"
   ]
  },
  {
   "cell_type": "code",
   "execution_count": 129,
   "metadata": {
    "cell_id": "00068-f4a85a48-9c3b-4be8-84cd-a2c8dd7f09bf",
    "output_cleared": false,
    "tags": []
   },
   "outputs": [],
   "source": [
    "def pow(n):\n",
    "    def inner(x):\n",
    "        return x ** n\n",
    "    return inner"
   ]
  },
  {
   "cell_type": "code",
   "execution_count": 130,
   "metadata": {
    "cell_id": "00069-9127cb26-adc4-42ee-812a-c1a81d7c4fba",
    "output_cleared": false,
    "tags": []
   },
   "outputs": [],
   "source": [
    "square = pow(2)"
   ]
  },
  {
   "cell_type": "code",
   "execution_count": 131,
   "metadata": {
    "cell_id": "00070-5307860d-564d-4344-aa8d-05ae120af3c7",
    "output_cleared": false,
    "tags": []
   },
   "outputs": [
    {
     "data": {
      "text/plain": [
       "(<cell at 0x7f068bd87648: int object at 0x7f06c3a6d6c0>,)"
      ]
     },
     "execution_count": 131,
     "metadata": {},
     "output_type": "execute_result"
    }
   ],
   "source": [
    "square.__closure__"
   ]
  },
  {
   "cell_type": "code",
   "execution_count": 132,
   "metadata": {
    "cell_id": "00071-f2ed1403-e78e-4700-ac7b-c7d57ed2745d",
    "output_cleared": false,
    "tags": []
   },
   "outputs": [
    {
     "data": {
      "text/plain": [
       "'0x7f06c3a6d6c0'"
      ]
     },
     "execution_count": 132,
     "metadata": {},
     "output_type": "execute_result"
    }
   ],
   "source": [
    "hex(id(2))"
   ]
  },
  {
   "cell_type": "code",
   "execution_count": 133,
   "metadata": {
    "cell_id": "00072-22ef4514-f32b-40b8-afa5-2cea143c9d12",
    "output_cleared": false,
    "tags": []
   },
   "outputs": [
    {
     "data": {
      "text/plain": [
       "81"
      ]
     },
     "execution_count": 133,
     "metadata": {},
     "output_type": "execute_result"
    }
   ],
   "source": [
    "square(9)"
   ]
  },
  {
   "cell_type": "code",
   "execution_count": 134,
   "metadata": {
    "cell_id": "00073-9430e457-47bd-4d01-9c03-3923e535171a",
    "output_cleared": false,
    "tags": []
   },
   "outputs": [
    {
     "data": {
      "text/plain": [
       "<function __main__.pow.<locals>.inner(x)>"
      ]
     },
     "execution_count": 134,
     "metadata": {},
     "output_type": "execute_result"
    }
   ],
   "source": [
    "square"
   ]
  },
  {
   "cell_type": "code",
   "execution_count": 135,
   "metadata": {
    "cell_id": "00074-3d485b22-e1d6-43c1-b614-e4a63d15e114",
    "output_cleared": false,
    "tags": []
   },
   "outputs": [],
   "source": [
    "cube = pow(3)"
   ]
  },
  {
   "cell_type": "code",
   "execution_count": 136,
   "metadata": {
    "cell_id": "00075-0d195433-a265-4802-93a6-676d9e2b6a73",
    "output_cleared": false,
    "tags": []
   },
   "outputs": [
    {
     "data": {
      "text/plain": [
       "(<cell at 0x7f068bd87768: int object at 0x7f06c3a6d6e0>,)"
      ]
     },
     "execution_count": 136,
     "metadata": {},
     "output_type": "execute_result"
    }
   ],
   "source": [
    "cube.__closure__"
   ]
  },
  {
   "cell_type": "code",
   "execution_count": 137,
   "metadata": {
    "cell_id": "00076-8a885aa4-4291-4e8a-902d-de51830bfb33",
    "output_cleared": false,
    "tags": []
   },
   "outputs": [
    {
     "data": {
      "text/plain": [
       "125"
      ]
     },
     "execution_count": 137,
     "metadata": {},
     "output_type": "execute_result"
    }
   ],
   "source": [
    "cube(5)"
   ]
  },
  {
   "cell_type": "code",
   "execution_count": 138,
   "metadata": {
    "cell_id": "00077-05ef705c-35c4-4a96-ae7b-e34d730dd67e",
    "output_cleared": false,
    "tags": []
   },
   "outputs": [],
   "source": [
    "def adder(n):\n",
    "    def inner(x):\n",
    "        return x + n\n",
    "    return inner"
   ]
  },
  {
   "cell_type": "code",
   "execution_count": 139,
   "metadata": {
    "cell_id": "00078-e3aa27af-47b8-4bd1-a062-4267570d0a46",
    "output_cleared": false,
    "tags": []
   },
   "outputs": [],
   "source": [
    "add_1 = adder(1)\n",
    "add_2 = adder(2)\n",
    "add_3 = adder(3)"
   ]
  },
  {
   "cell_type": "code",
   "execution_count": 140,
   "metadata": {
    "cell_id": "00079-a9116c6d-0658-4046-8a7d-b03b5d6fc996",
    "output_cleared": false,
    "tags": []
   },
   "outputs": [
    {
     "data": {
      "text/plain": [
       "((<cell at 0x7f068bd875b8: int object at 0x7f06c3a6d6a0>,),\n",
       " (<cell at 0x7f068bd87588: int object at 0x7f06c3a6d6c0>,),\n",
       " (<cell at 0x7f068bd87d08: int object at 0x7f06c3a6d6e0>,))"
      ]
     },
     "execution_count": 140,
     "metadata": {},
     "output_type": "execute_result"
    }
   ],
   "source": [
    "add_1.__closure__, add_2.__closure__, add_3.__closure__"
   ]
  },
  {
   "cell_type": "code",
   "execution_count": 141,
   "metadata": {
    "cell_id": "00080-385d83cd-92b4-4338-8214-ccea00d92223",
    "output_cleared": false,
    "tags": []
   },
   "outputs": [
    {
     "data": {
      "text/plain": [
       "11"
      ]
     },
     "execution_count": 141,
     "metadata": {},
     "output_type": "execute_result"
    }
   ],
   "source": [
    "add_1(10)"
   ]
  },
  {
   "cell_type": "code",
   "execution_count": 142,
   "metadata": {
    "cell_id": "00081-e765ecdb-53e3-4724-b186-8d733e1af2ff",
    "output_cleared": false,
    "tags": []
   },
   "outputs": [
    {
     "data": {
      "text/plain": [
       "12"
      ]
     },
     "execution_count": 142,
     "metadata": {},
     "output_type": "execute_result"
    }
   ],
   "source": [
    "add_2(10)"
   ]
  },
  {
   "cell_type": "code",
   "execution_count": 143,
   "metadata": {
    "cell_id": "00082-231ade44-8e26-4fca-9866-10f7135e08e1",
    "output_cleared": false,
    "tags": []
   },
   "outputs": [
    {
     "data": {
      "text/plain": [
       "13"
      ]
     },
     "execution_count": 143,
     "metadata": {},
     "output_type": "execute_result"
    }
   ],
   "source": [
    "add_3(10)"
   ]
  },
  {
   "cell_type": "code",
   "execution_count": 144,
   "metadata": {
    "cell_id": "00083-56573551-7c50-41ea-a167-4579e4a27f8c",
    "output_cleared": false,
    "tags": []
   },
   "outputs": [],
   "source": [
    "adders = []\n",
    "\n",
    "for n in range(1, 4):\n",
    "    adders.append(lambda x: x + n)"
   ]
  },
  {
   "cell_type": "code",
   "execution_count": 145,
   "metadata": {
    "cell_id": "00084-113c9b60-8bc0-44a4-a984-a8b518ed699f",
    "output_cleared": false,
    "tags": []
   },
   "outputs": [
    {
     "data": {
      "text/plain": [
       "[<function __main__.<lambda>(x)>,\n",
       " <function __main__.<lambda>(x)>,\n",
       " <function __main__.<lambda>(x)>]"
      ]
     },
     "execution_count": 145,
     "metadata": {},
     "output_type": "execute_result"
    }
   ],
   "source": [
    "adders"
   ]
  },
  {
   "cell_type": "code",
   "execution_count": 146,
   "metadata": {
    "cell_id": "00085-c3364848-cfb5-4a52-bb91-e2c40a8efca5",
    "output_cleared": false,
    "tags": []
   },
   "outputs": [
    {
     "data": {
      "text/plain": [
       "3"
      ]
     },
     "execution_count": 146,
     "metadata": {},
     "output_type": "execute_result"
    }
   ],
   "source": [
    "n"
   ]
  },
  {
   "cell_type": "code",
   "execution_count": 147,
   "metadata": {
    "cell_id": "00086-4bd09005-c235-4a98-8dd6-627c80e576a4",
    "output_cleared": false,
    "tags": []
   },
   "outputs": [
    {
     "data": {
      "text/plain": [
       "13"
      ]
     },
     "execution_count": 147,
     "metadata": {},
     "output_type": "execute_result"
    }
   ],
   "source": [
    "adders[0](10)"
   ]
  },
  {
   "cell_type": "code",
   "execution_count": 148,
   "metadata": {
    "cell_id": "00087-89ea88e2-ec2f-418d-a16b-133024d9f564",
    "output_cleared": false,
    "tags": []
   },
   "outputs": [],
   "source": [
    "def create_adders():\n",
    "    adders = []\n",
    "    for n in range(1, 4):\n",
    "        adders.append(lambda x: x + n)\n",
    "    return adders"
   ]
  },
  {
   "cell_type": "code",
   "execution_count": 149,
   "metadata": {
    "cell_id": "00088-9e5ebe38-1042-4d7f-bfba-0a819aced557",
    "output_cleared": false,
    "tags": []
   },
   "outputs": [],
   "source": [
    "adders = create_adders()"
   ]
  },
  {
   "cell_type": "code",
   "execution_count": 150,
   "metadata": {
    "cell_id": "00089-218c1605-59be-4613-8895-8ca9f4634cd6",
    "output_cleared": false,
    "tags": []
   },
   "outputs": [
    {
     "data": {
      "text/plain": [
       "[<function __main__.create_adders.<locals>.<lambda>(x)>,\n",
       " <function __main__.create_adders.<locals>.<lambda>(x)>,\n",
       " <function __main__.create_adders.<locals>.<lambda>(x)>]"
      ]
     },
     "execution_count": 150,
     "metadata": {},
     "output_type": "execute_result"
    }
   ],
   "source": [
    "adders"
   ]
  },
  {
   "cell_type": "code",
   "execution_count": 151,
   "metadata": {
    "cell_id": "00090-c5a5790c-7835-426d-864c-e31a695c4977",
    "output_cleared": false,
    "tags": []
   },
   "outputs": [
    {
     "data": {
      "text/plain": [
       "(<cell at 0x7f068bd87888: int object at 0x7f06c3a6d6e0>,)"
      ]
     },
     "execution_count": 151,
     "metadata": {},
     "output_type": "execute_result"
    }
   ],
   "source": [
    "adders[0].__closure__"
   ]
  },
  {
   "cell_type": "code",
   "execution_count": 152,
   "metadata": {
    "cell_id": "00091-3fbc6c12-8593-4bd1-9077-94461cf54429",
    "output_cleared": false,
    "tags": []
   },
   "outputs": [
    {
     "data": {
      "text/plain": [
       "(<cell at 0x7f068bd87888: int object at 0x7f06c3a6d6e0>,)"
      ]
     },
     "execution_count": 152,
     "metadata": {},
     "output_type": "execute_result"
    }
   ],
   "source": [
    "adders[1].__closure__"
   ]
  },
  {
   "cell_type": "code",
   "execution_count": 153,
   "metadata": {
    "cell_id": "00092-0ed29959-53d9-4c13-9058-88506670a304",
    "output_cleared": false,
    "tags": []
   },
   "outputs": [],
   "source": [
    "def create_adders():\n",
    "    adders = []\n",
    "    for n in range(1, 4):\n",
    "        adders.append(lambda x, y=n: x + y)\n",
    "    return adders"
   ]
  },
  {
   "cell_type": "code",
   "execution_count": 154,
   "metadata": {
    "cell_id": "00093-e6adc4b3-9ea5-4a62-8ea4-82a40d2b6ef2",
    "output_cleared": false,
    "tags": []
   },
   "outputs": [],
   "source": [
    "adders = create_adders()"
   ]
  },
  {
   "cell_type": "code",
   "execution_count": 155,
   "metadata": {
    "cell_id": "00094-230f2df9-8204-413e-8cfb-c24cfa8fb173",
    "output_cleared": false,
    "tags": []
   },
   "outputs": [
    {
     "data": {
      "text/plain": [
       "(11, 12, 13)"
      ]
     },
     "execution_count": 155,
     "metadata": {},
     "output_type": "execute_result"
    }
   ],
   "source": [
    "adders[0](10), adders[1](10), adders[2](10)"
   ]
  },
  {
   "cell_type": "code",
   "execution_count": 156,
   "metadata": {
    "cell_id": "00095-68b2bf61-7565-47cd-ae74-758d904792b4",
    "output_cleared": false,
    "tags": []
   },
   "outputs": [],
   "source": [
    "class Averager:\n",
    "    def __init__(self):\n",
    "        self.numbers = []\n",
    "\n",
    "    def add(self, number):\n",
    "        self.numbers.append(number)\n",
    "        total = sum(self.numbers)\n",
    "        count = len(self.numbers)\n",
    "        return total/count"
   ]
  },
  {
   "cell_type": "code",
   "execution_count": 157,
   "metadata": {
    "cell_id": "00096-e8083e37-5ea3-4bbe-a0c8-26b8dc7ba9cc",
    "output_cleared": false,
    "tags": []
   },
   "outputs": [],
   "source": [
    "a = Averager()"
   ]
  },
  {
   "cell_type": "code",
   "execution_count": 158,
   "metadata": {
    "cell_id": "00097-51848b25-1478-4edb-9f04-b22d03f3e497",
    "output_cleared": false,
    "tags": []
   },
   "outputs": [
    {
     "data": {
      "text/plain": [
       "10.0"
      ]
     },
     "execution_count": 158,
     "metadata": {},
     "output_type": "execute_result"
    }
   ],
   "source": [
    "a.add(10)"
   ]
  },
  {
   "cell_type": "code",
   "execution_count": 159,
   "metadata": {
    "cell_id": "00098-4c95bcd4-2b8a-430b-b9cc-888e42e92f03",
    "output_cleared": false,
    "tags": []
   },
   "outputs": [
    {
     "data": {
      "text/plain": [
       "25.0"
      ]
     },
     "execution_count": 159,
     "metadata": {},
     "output_type": "execute_result"
    }
   ],
   "source": [
    "a.add(20)\n",
    "a.add(45)"
   ]
  },
  {
   "cell_type": "code",
   "execution_count": 160,
   "metadata": {
    "cell_id": "00099-0abda36e-683e-4ff0-95f3-5d63d41f3578",
    "output_cleared": false,
    "tags": []
   },
   "outputs": [],
   "source": [
    "def averager():\n",
    "    numbers = []\n",
    "    def add(number):\n",
    "        numbers.append(number)\n",
    "        total = sum(numbers)\n",
    "        count = len(numbers)\n",
    "        return total/count\n",
    "    return add"
   ]
  },
  {
   "cell_type": "code",
   "execution_count": 161,
   "metadata": {
    "cell_id": "00100-424650cf-60ba-4aab-9353-c9b00780b52f",
    "output_cleared": false,
    "tags": []
   },
   "outputs": [
    {
     "data": {
      "text/plain": [
       "25.0"
      ]
     },
     "execution_count": 161,
     "metadata": {},
     "output_type": "execute_result"
    }
   ],
   "source": [
    "a = averager()\n",
    "a(10)\n",
    "a(20)\n",
    "a(45)"
   ]
  },
  {
   "cell_type": "code",
   "execution_count": 162,
   "metadata": {
    "cell_id": "00101-abbf1271-e0fb-4079-9925-28810d473f55",
    "output_cleared": false,
    "tags": []
   },
   "outputs": [
    {
     "data": {
      "text/plain": [
       "20.0"
      ]
     },
     "execution_count": 162,
     "metadata": {},
     "output_type": "execute_result"
    }
   ],
   "source": [
    "b = averager()\n",
    "b(10)\n",
    "b(30)"
   ]
  },
  {
   "cell_type": "code",
   "execution_count": 163,
   "metadata": {
    "cell_id": "00102-c3448521-b5a3-4062-8f46-c09da172f429",
    "output_cleared": false,
    "tags": []
   },
   "outputs": [
    {
     "data": {
      "text/plain": [
       "25.0"
      ]
     },
     "execution_count": 163,
     "metadata": {},
     "output_type": "execute_result"
    }
   ],
   "source": [
    "a(25)"
   ]
  },
  {
   "cell_type": "code",
   "execution_count": 164,
   "metadata": {
    "cell_id": "00103-c090e872-d840-4aa2-b4de-beabcd0acf51",
    "output_cleared": false,
    "tags": []
   },
   "outputs": [
    {
     "data": {
      "text/plain": [
       "((<cell at 0x7f068bd87f48: list object at 0x7f068c19c708>,),\n",
       " (<cell at 0x7f068bd879d8: list object at 0x7f068d8224c8>,))"
      ]
     },
     "execution_count": 164,
     "metadata": {},
     "output_type": "execute_result"
    }
   ],
   "source": [
    "a.__closure__, b.__closure__"
   ]
  },
  {
   "cell_type": "code",
   "execution_count": 167,
   "metadata": {
    "cell_id": "00104-1b4a0b8a-fe4b-4705-be75-705048988d7d",
    "output_cleared": false,
    "tags": []
   },
   "outputs": [],
   "source": [
    "def averager():\n",
    "    total = 0\n",
    "    count = 0\n",
    "    def add(number):\n",
    "        nonlocal total\n",
    "        nonlocal count\n",
    "        total = total + number\n",
    "        count = count + 1\n",
    "        return total/count\n",
    "    return add"
   ]
  },
  {
   "cell_type": "code",
   "execution_count": 168,
   "metadata": {
    "cell_id": "00105-5a3d2604-4190-43b4-8480-6a1612c72c17",
    "output_cleared": false,
    "tags": []
   },
   "outputs": [
    {
     "data": {
      "text/plain": [
       "10.0"
      ]
     },
     "execution_count": 168,
     "metadata": {},
     "output_type": "execute_result"
    }
   ],
   "source": [
    "a = averager()\n",
    "a(10)"
   ]
  },
  {
   "cell_type": "code",
   "execution_count": 169,
   "metadata": {
    "cell_id": "00106-7fed9aff-1ab0-4e3c-9d32-4d32d4e06fde",
    "output_cleared": false,
    "tags": []
   },
   "outputs": [
    {
     "data": {
      "text/plain": [
       "25.0"
      ]
     },
     "execution_count": 169,
     "metadata": {},
     "output_type": "execute_result"
    }
   ],
   "source": [
    "a(20)\n",
    "a(45)"
   ]
  },
  {
   "cell_type": "code",
   "execution_count": 170,
   "metadata": {
    "cell_id": "00107-e9f1d004-a918-4d23-8808-724afc9c3176",
    "output_cleared": false,
    "tags": []
   },
   "outputs": [],
   "source": [
    "from time import perf_counter"
   ]
  },
  {
   "cell_type": "code",
   "execution_count": 171,
   "metadata": {
    "cell_id": "00108-7156a359-7757-413b-bfbc-52a3594c3edb",
    "output_cleared": false,
    "tags": []
   },
   "outputs": [
    {
     "data": {
      "text/plain": [
       "688917.861236648"
      ]
     },
     "execution_count": 171,
     "metadata": {},
     "output_type": "execute_result"
    }
   ],
   "source": [
    "perf_counter()"
   ]
  },
  {
   "cell_type": "code",
   "execution_count": 172,
   "metadata": {
    "cell_id": "00109-6fd84b0f-8096-42da-962f-dbea8e659583",
    "output_cleared": false,
    "tags": []
   },
   "outputs": [
    {
     "data": {
      "text/plain": [
       "688921.185489454"
      ]
     },
     "execution_count": 172,
     "metadata": {},
     "output_type": "execute_result"
    }
   ],
   "source": [
    "perf_counter()"
   ]
  },
  {
   "cell_type": "code",
   "execution_count": 174,
   "metadata": {
    "cell_id": "00110-96fb236c-6d00-49ef-acb0-c858fb3de005",
    "output_cleared": false,
    "tags": []
   },
   "outputs": [],
   "source": [
    "class Timer:\n",
    "    def __init__(self):\n",
    "        self.start = perf_counter()\n",
    "\n",
    "    def poll(self):\n",
    "        return perf_counter() - self.start"
   ]
  },
  {
   "cell_type": "code",
   "execution_count": 175,
   "metadata": {
    "cell_id": "00111-a396fdba-9cdf-4004-a099-9e75588f65b6",
    "output_cleared": false,
    "tags": []
   },
   "outputs": [
    {
     "data": {
      "text/plain": [
       "7.583899423480034e-05"
      ]
     },
     "execution_count": 175,
     "metadata": {},
     "output_type": "execute_result"
    }
   ],
   "source": [
    "t1 = Timer()\n",
    "t1.poll()"
   ]
  },
  {
   "cell_type": "code",
   "execution_count": 176,
   "metadata": {
    "cell_id": "00112-5020634f-9683-4417-8258-736a46389337",
    "output_cleared": false,
    "tags": []
   },
   "outputs": [
    {
     "data": {
      "text/plain": [
       "6.903095206012949"
      ]
     },
     "execution_count": 176,
     "metadata": {},
     "output_type": "execute_result"
    }
   ],
   "source": [
    "t1.poll()"
   ]
  },
  {
   "cell_type": "code",
   "execution_count": 178,
   "metadata": {
    "cell_id": "00113-fac06efc-1019-44e9-9a30-1c39118cfac0",
    "output_cleared": false,
    "tags": []
   },
   "outputs": [],
   "source": [
    "class Timer:\n",
    "    def __init__(self):\n",
    "        self.start = perf_counter()\n",
    "\n",
    "    def __call__(self):\n",
    "        return perf_counter() - self.start"
   ]
  },
  {
   "cell_type": "code",
   "execution_count": 179,
   "metadata": {
    "cell_id": "00114-0ebfbdb2-96d6-4a73-ac6b-3f1d42f2c42f",
    "output_cleared": false,
    "tags": []
   },
   "outputs": [],
   "source": [
    "t1 = Timer()"
   ]
  },
  {
   "cell_type": "code",
   "execution_count": 180,
   "metadata": {
    "cell_id": "00115-55b23874-7573-48e3-b5e5-3610048c7126",
    "output_cleared": false,
    "tags": []
   },
   "outputs": [
    {
     "data": {
      "text/plain": [
       "7.757023895974271"
      ]
     },
     "execution_count": 180,
     "metadata": {},
     "output_type": "execute_result"
    }
   ],
   "source": [
    "t1()"
   ]
  },
  {
   "cell_type": "code",
   "execution_count": 181,
   "metadata": {
    "cell_id": "00116-5fcafcae-678c-4a6f-9090-fffe36ef0cae",
    "output_cleared": false,
    "tags": []
   },
   "outputs": [
    {
     "data": {
      "text/plain": [
       "11.125422405893914"
      ]
     },
     "execution_count": 181,
     "metadata": {},
     "output_type": "execute_result"
    }
   ],
   "source": [
    "t1()"
   ]
  },
  {
   "cell_type": "code",
   "execution_count": 182,
   "metadata": {
    "cell_id": "00117-fd508965-a2eb-4c0d-98dc-4eec9bb9857a",
    "output_cleared": false,
    "tags": []
   },
   "outputs": [],
   "source": [
    "# let's use a closure now\n",
    "\n",
    "def timer():\n",
    "    start = perf_counter()\n",
    "    def poll():\n",
    "        return perf_counter() - start\n",
    "    return poll"
   ]
  },
  {
   "cell_type": "code",
   "execution_count": 183,
   "metadata": {
    "cell_id": "00118-ea817030-bf1c-416e-b87f-c4dc843221fa",
    "output_cleared": false,
    "tags": []
   },
   "outputs": [],
   "source": [
    "t2 = timer()"
   ]
  },
  {
   "cell_type": "code",
   "execution_count": 184,
   "metadata": {
    "cell_id": "00119-8fb025d5-5a87-4699-ad01-06c56c474a45",
    "output_cleared": false,
    "tags": []
   },
   "outputs": [
    {
     "data": {
      "text/plain": [
       "4.2283827470382676"
      ]
     },
     "execution_count": 184,
     "metadata": {},
     "output_type": "execute_result"
    }
   ],
   "source": [
    "t2()"
   ]
  },
  {
   "cell_type": "code",
   "execution_count": 185,
   "metadata": {
    "cell_id": "00120-22642e32-1dd1-4f76-99e0-196f801fa2c1",
    "output_cleared": false,
    "tags": []
   },
   "outputs": [
    {
     "data": {
      "text/plain": [
       "6.99074242496863"
      ]
     },
     "execution_count": 185,
     "metadata": {},
     "output_type": "execute_result"
    }
   ],
   "source": [
    "t2()"
   ]
  },
  {
   "cell_type": "code",
   "execution_count": 186,
   "metadata": {
    "cell_id": "00121-fdc5fcb4-63e4-4ab2-a7c6-1dc8bd3f9a77",
    "output_cleared": false,
    "tags": []
   },
   "outputs": [],
   "source": [
    "def counter(initial_value = 0):\n",
    "    def inc(increment = 1):\n",
    "        nonlocal initial_value\n",
    "        initial_value += increment\n",
    "        return initial_value\n",
    "    return inc"
   ]
  },
  {
   "cell_type": "code",
   "execution_count": 187,
   "metadata": {
    "cell_id": "00122-ff6817d6-c3fc-4836-bda4-40f150b989f6",
    "output_cleared": false,
    "tags": []
   },
   "outputs": [],
   "source": [
    "counter1 = counter()"
   ]
  },
  {
   "cell_type": "code",
   "execution_count": 188,
   "metadata": {
    "cell_id": "00123-27f831c8-b61f-4f53-acbb-ffc3be33dfe4",
    "output_cleared": false,
    "tags": []
   },
   "outputs": [
    {
     "data": {
      "text/plain": [
       "1"
      ]
     },
     "execution_count": 188,
     "metadata": {},
     "output_type": "execute_result"
    }
   ],
   "source": [
    "counter1()"
   ]
  },
  {
   "cell_type": "code",
   "execution_count": 189,
   "metadata": {
    "cell_id": "00124-a88b5ee1-3a9f-4d1d-9af0-b6571361efc0",
    "output_cleared": false,
    "tags": []
   },
   "outputs": [
    {
     "data": {
      "text/plain": [
       "2"
      ]
     },
     "execution_count": 189,
     "metadata": {},
     "output_type": "execute_result"
    }
   ],
   "source": [
    "counter1()"
   ]
  },
  {
   "cell_type": "code",
   "execution_count": 190,
   "metadata": {
    "cell_id": "00125-cb538dfb-3a30-4eb9-84e9-9513c33bb34d",
    "output_cleared": false,
    "tags": []
   },
   "outputs": [
    {
     "data": {
      "text/plain": [
       "6"
      ]
     },
     "execution_count": 190,
     "metadata": {},
     "output_type": "execute_result"
    }
   ],
   "source": [
    "counter1()\n",
    "counter1()\n",
    "counter1()\n",
    "counter1()\n"
   ]
  },
  {
   "cell_type": "code",
   "execution_count": 191,
   "metadata": {
    "cell_id": "00126-74483c77-027f-45db-a495-84d438b38661",
    "output_cleared": false,
    "tags": []
   },
   "outputs": [
    {
     "data": {
      "text/plain": [
       "11"
      ]
     },
     "execution_count": 191,
     "metadata": {},
     "output_type": "execute_result"
    }
   ],
   "source": [
    "counter1(5)"
   ]
  },
  {
   "cell_type": "code",
   "execution_count": 192,
   "metadata": {
    "cell_id": "00127-5ac10ffb-1ba4-4c87-9a1d-f7347cc6ff61",
    "output_cleared": false,
    "tags": []
   },
   "outputs": [],
   "source": [
    "def counter(fn):\n",
    "    cnt = 0\n",
    "    def inner(*args, **kwargs):\n",
    "        nonlocal cnt\n",
    "        cnt += 1\n",
    "        print('{0} has been called {1} times'.format(fn.__name__, cnt))\n",
    "        return fn(*args, **kwargs)\n",
    "    return inner"
   ]
  },
  {
   "cell_type": "code",
   "execution_count": 193,
   "metadata": {
    "cell_id": "00128-2984679e-fecf-4ce9-8693-1d49f10a4733",
    "output_cleared": false,
    "tags": []
   },
   "outputs": [],
   "source": [
    "def add(a, b):\n",
    "    return a + b\n",
    "def mul(a, b):\n",
    "    return a*b"
   ]
  },
  {
   "cell_type": "code",
   "execution_count": 194,
   "metadata": {
    "cell_id": "00129-afe51651-db6d-43aa-b5c7-db5eb7f94164",
    "output_cleared": false,
    "tags": []
   },
   "outputs": [],
   "source": [
    "counter_add = counter(add)"
   ]
  },
  {
   "cell_type": "code",
   "execution_count": 195,
   "metadata": {
    "cell_id": "00130-be9b35be-cbe1-47f4-973b-afd42dbcc443",
    "output_cleared": false,
    "tags": []
   },
   "outputs": [
    {
     "data": {
      "text/plain": [
       "(<cell at 0x7f068c557738: int object at 0x7f06c3a6d680>,\n",
       " <cell at 0x7f068c557f48: function object at 0x7f068c9199d8>)"
      ]
     },
     "execution_count": 195,
     "metadata": {},
     "output_type": "execute_result"
    }
   ],
   "source": [
    "counter_add.__closure__"
   ]
  },
  {
   "cell_type": "code",
   "execution_count": 196,
   "metadata": {
    "cell_id": "00131-0b86d03a-b3e2-4104-9bc3-aa84e4f1e9f6",
    "output_cleared": false,
    "tags": []
   },
   "outputs": [
    {
     "name": "stdout",
     "output_type": "stream",
     "text": [
      "add has been called 1 times\n"
     ]
    },
    {
     "data": {
      "text/plain": [
       "3"
      ]
     },
     "execution_count": 196,
     "metadata": {},
     "output_type": "execute_result"
    }
   ],
   "source": [
    "counter_add(1, 2)"
   ]
  },
  {
   "cell_type": "code",
   "execution_count": 197,
   "metadata": {
    "cell_id": "00132-c7754f65-6ee7-4791-872b-bc55e528b276",
    "output_cleared": false,
    "tags": []
   },
   "outputs": [
    {
     "name": "stdout",
     "output_type": "stream",
     "text": [
      "add has been called 2 times\n"
     ]
    },
    {
     "data": {
      "text/plain": [
       "30"
      ]
     },
     "execution_count": 197,
     "metadata": {},
     "output_type": "execute_result"
    }
   ],
   "source": [
    "counter_add(10, 20)"
   ]
  },
  {
   "cell_type": "code",
   "execution_count": 198,
   "metadata": {
    "cell_id": "00133-69a1a573-c3f7-4147-9767-21fc0025a37c",
    "output_cleared": false,
    "tags": []
   },
   "outputs": [
    {
     "name": "stdout",
     "output_type": "stream",
     "text": [
      "mul has been called 1 times\n",
      "mul has been called 2 times\n",
      "mul has been called 3 times\n",
      "mul has been called 4 times\n",
      "mul has been called 5 times\n"
     ]
    },
    {
     "data": {
      "text/plain": [
       "10"
      ]
     },
     "execution_count": 198,
     "metadata": {},
     "output_type": "execute_result"
    }
   ],
   "source": [
    "counter_mult = counter(mul)\n",
    "counter_mult(2, 5)\n",
    "counter_mult(2, 5)\n",
    "counter_mult(2, 5)\n",
    "counter_mult(2, 5)\n",
    "counter_mult(2, 5)"
   ]
  },
  {
   "cell_type": "code",
   "execution_count": 199,
   "metadata": {
    "cell_id": "00134-f75ee39a-3900-48f2-998a-8ad790be2641",
    "output_cleared": false,
    "tags": []
   },
   "outputs": [
    {
     "data": {
      "text/plain": [
       "{'india': 1, 'china': 0}"
      ]
     },
     "execution_count": 199,
     "metadata": {},
     "output_type": "execute_result"
    }
   ],
   "source": [
    "counters = dict()\n",
    "counters['india'] = 1\n",
    "counters['china'] = 0\n",
    "counters"
   ]
  },
  {
   "cell_type": "code",
   "execution_count": 200,
   "metadata": {
    "cell_id": "00135-af6f54f5-d26b-46db-90a3-25c6d450b3bf",
    "output_cleared": false,
    "tags": []
   },
   "outputs": [
    {
     "data": {
      "text/plain": [
       "{'india': 2, 'china': 0}"
      ]
     },
     "execution_count": 200,
     "metadata": {},
     "output_type": "execute_result"
    }
   ],
   "source": [
    "counters['india'] +=1\n",
    "counters"
   ]
  },
  {
   "cell_type": "code",
   "execution_count": 201,
   "metadata": {
    "cell_id": "00136-291caf38-5f22-4a21-a52d-e39b54320322",
    "output_cleared": false,
    "tags": []
   },
   "outputs": [
    {
     "ename": "SyntaxError",
     "evalue": "invalid syntax (<ipython-input-201-0d90093208c3>, line 1)",
     "output_type": "error",
     "traceback": [
      "\u001b[0;36m  File \u001b[0;32m\"<ipython-input-201-0d90093208c3>\"\u001b[0;36m, line \u001b[0;32m1\u001b[0m\n\u001b[0;31m    times_dict >> add: 13, mil: 1, div; 12\u001b[0m\n\u001b[0m                         ^\u001b[0m\n\u001b[0;31mSyntaxError\u001b[0m\u001b[0;31m:\u001b[0m invalid syntax\n"
     ]
    }
   ],
   "source": [
    "times_dict >> add: 13, mil: 1, div; 12"
   ]
  },
  {
   "cell_type": "code",
   "execution_count": 202,
   "metadata": {
    "cell_id": "00137-2e43b9a7-91a8-4c15-a7c0-3706440a5a27",
    "output_cleared": false,
    "tags": []
   },
   "outputs": [
    {
     "name": "stdout",
     "output_type": "stream",
     "text": [
      "x in fn2 is 20\n",
      "50\n"
     ]
    }
   ],
   "source": [
    "x = 0\n",
    "def fn1():\n",
    "    def fn2():\n",
    "        x = 20\n",
    "        print(f'x in fn2 is {x}')\n",
    "        def fn3():\n",
    "            nonlocal x\n",
    "            x = 50\n",
    "            print(x)\n",
    "            \n",
    "        fn3()\n",
    "    fn2()\n",
    "fn1()"
   ]
  },
  {
   "cell_type": "code",
   "execution_count": null,
   "metadata": {
    "cell_id": "00138-aa3d6140-c6b4-4a8d-88a5-98ca750e380b",
    "tags": []
   },
   "outputs": [],
   "source": []
  }
 ],
 "metadata": {
  "deepnote_execution_queue": [],
  "deepnote_notebook_id": "5fcea5e9-b12e-4f9f-ae37-09b3aa318a94",
  "kernelspec": {
   "display_name": "Python 3",
   "language": "python",
   "name": "python3"
  },
  "language_info": {
   "codemirror_mode": {
    "name": "ipython",
    "version": 3
   },
   "file_extension": ".py",
   "mimetype": "text/x-python",
   "name": "python",
   "nbconvert_exporter": "python",
   "pygments_lexer": "ipython3",
   "version": "3.7.6"
  }
 },
 "nbformat": 4,
 "nbformat_minor": 2
}
