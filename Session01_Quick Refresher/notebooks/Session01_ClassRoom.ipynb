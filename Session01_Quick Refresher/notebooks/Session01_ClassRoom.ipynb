{
 "cells": [
  {
   "cell_type": "markdown",
   "metadata": {
    "cell_id": "f33e238f-805c-4b38-a5c7-db5a7dfafbce",
    "tags": []
   },
   "source": [
    "## Session 1"
   ]
  },
  {
   "cell_type": "code",
   "execution_count": null,
   "metadata": {
    "cell_id": "b7fb3fc2-5be0-477e-95f3-3f5bb8bb28e6",
    "tags": []
   },
   "outputs": [],
   "source": [
    "a = [1, 2, 3]"
   ]
  },
  {
   "cell_type": "code",
   "execution_count": null,
   "metadata": {
    "cell_id": "711ec82b-e154-46b9-8eb0-4807a84cb9bb",
    "tags": []
   },
   "outputs": [],
   "source": [
    "a = [1, 2,\n",
    "     3, 4, 5]"
   ]
  },
  {
   "cell_type": "code",
   "execution_count": null,
   "metadata": {
    "cell_id": "5d378bc4-147e-4e94-95ca-d7ff72aa219d",
    "tags": []
   },
   "outputs": [
    {
     "data": {
      "text/plain": [
       "[1, 2, 3, 4, 5]"
      ]
     },
     "execution_count": 209,
     "metadata": {},
     "output_type": "execute_result"
    }
   ],
   "source": [
    "a"
   ]
  },
  {
   "cell_type": "code",
   "execution_count": null,
   "metadata": {
    "cell_id": "2422aea7-6731-48ff-8356-e62356105277",
    "tags": []
   },
   "outputs": [
    {
     "ename": "SyntaxError",
     "evalue": "invalid syntax (<ipython-input-210-5bdaf92ccc89>, line 2)",
     "output_type": "error",
     "traceback": [
      "\u001b[0;36m  File \u001b[0;32m\"<ipython-input-210-5bdaf92ccc89>\"\u001b[0;36m, line \u001b[0;32m2\u001b[0m\n\u001b[0;31m    2]\u001b[0m\n\u001b[0m    ^\u001b[0m\n\u001b[0;31mSyntaxError\u001b[0m\u001b[0;31m:\u001b[0m invalid syntax\n"
     ]
    }
   ],
   "source": [
    "a = [1 #comment,\n",
    "    2]"
   ]
  },
  {
   "cell_type": "code",
   "execution_count": null,
   "metadata": {
    "cell_id": "67f958f1-e949-47e9-b888-bf8dd6597630",
    "tags": []
   },
   "outputs": [
    {
     "name": "stdout",
     "output_type": "stream",
     "text": [
      "(1, 2, 3)\n"
     ]
    }
   ],
   "source": [
    "a = (1 #comment\n",
    "    ,2 #comment\n",
    "    ,3)\n",
    "print(a)"
   ]
  },
  {
   "cell_type": "code",
   "execution_count": null,
   "metadata": {
    "cell_id": "45186818-983d-4482-8d24-08d67f9703b9",
    "tags": []
   },
   "outputs": [],
   "source": [
    "a = {'key1': 1 #value of key 1\n",
    "    ,'key2': 2 #value of key 2\n",
    "    }"
   ]
  },
  {
   "cell_type": "code",
   "execution_count": null,
   "metadata": {
    "cell_id": "e2a5b74c-668b-40d1-b452-08bae2c42173",
    "tags": []
   },
   "outputs": [
    {
     "name": "stdout",
     "output_type": "stream",
     "text": [
      "The batch size for the ResNet50 is 32\n"
     ]
    }
   ],
   "source": [
    "def my_func(batch_size, #this is the batch size\n",
    "            model_name, #this is the model\n",
    "            model_version #this is the model version\n",
    "            ):\n",
    "    print(f\"The batch size for the {model_name}{model_version} is {batch_size}\")\n",
    "\n",
    "my_func(32, \"ResNet\", \"50\")"
   ]
  },
  {
   "cell_type": "code",
   "execution_count": null,
   "metadata": {
    "cell_id": "ac12905c-5057-42ba-8a41-5f6969e303fa",
    "tags": []
   },
   "outputs": [
    {
     "name": "stdout",
     "output_type": "stream",
     "text": [
      "The batch size for the ResNet50 is 2\n"
     ]
    }
   ],
   "source": [
    "my_func(2, # inform the devOps team that batch size of 2 is so Cretaceous! \n",
    "        \"ResNet\", \n",
    "        \"50\")"
   ]
  },
  {
   "cell_type": "code",
   "execution_count": null,
   "metadata": {
    "cell_id": "d5e6efea-cfac-4b14-8564-5462c1ca13a6",
    "tags": []
   },
   "outputs": [],
   "source": [
    "a = 10\n",
    "b = 20\n",
    "c = 30\n",
    "d = 40\n",
    "e = 50"
   ]
  },
  {
   "cell_type": "code",
   "execution_count": null,
   "metadata": {
    "cell_id": "67109e5e-63ce-43dc-b824-8c3bdea6cedd",
    "tags": []
   },
   "outputs": [
    {
     "name": "stdout",
     "output_type": "stream",
     "text": [
      "That condition jungle is confusing!\n"
     ]
    }
   ],
   "source": [
    "if a < b and b*c > a*e and c*a < d*b:\n",
    "    print(\"That condition jungle is confusing!\")"
   ]
  },
  {
   "cell_type": "code",
   "execution_count": null,
   "metadata": {
    "cell_id": "5e932b53-c2d7-4601-a4c7-5751212b71bb",
    "tags": []
   },
   "outputs": [
    {
     "name": "stdout",
     "output_type": "stream",
     "text": [
      "That conditions jungle is confusing!\n"
     ]
    }
   ],
   "source": [
    "if a < b \\\n",
    "    and b*c > a*e \\\n",
    "    and c*a < d*b:\n",
    "#you can choose not to indent it as well\n",
    "    print(\"That conditions jungle is confusing!\")"
   ]
  },
  {
   "cell_type": "code",
   "execution_count": null,
   "metadata": {
    "cell_id": "ed490f6c-c323-4bec-b45f-c33a5c1dedbf",
    "tags": []
   },
   "outputs": [
    {
     "name": "stdout",
     "output_type": "stream",
     "text": [
      "That conditions jungle is confusing!\n"
     ]
    }
   ],
   "source": [
    "if a < b \\\n",
    "and b*c > a*e \\\n",
    "and c*a < d*b:\n",
    "#you can choose not to indent it as well\n",
    "    print(\"That conditions jungle is confusing!\")"
   ]
  },
  {
   "cell_type": "code",
   "execution_count": null,
   "metadata": {
    "cell_id": "406053fd-a690-445d-80f8-ff8fb0b0a387",
    "tags": []
   },
   "outputs": [],
   "source": [
    "a = '''This \n",
    "is a string'''"
   ]
  },
  {
   "cell_type": "code",
   "execution_count": null,
   "metadata": {
    "cell_id": "05c02a38-08a1-47c9-8060-1d3a2a2118df",
    "tags": []
   },
   "outputs": [
    {
     "data": {
      "text/plain": [
       "'This \\nis a string'"
      ]
     },
     "execution_count": 220,
     "metadata": {},
     "output_type": "execute_result"
    }
   ],
   "source": [
    "a"
   ]
  },
  {
   "cell_type": "code",
   "execution_count": null,
   "metadata": {
    "cell_id": "6e757a32-1a07-4318-9c00-04b445b45b8d",
    "tags": []
   },
   "outputs": [
    {
     "name": "stdout",
     "output_type": "stream",
     "text": [
      "a >= 5\n"
     ]
    }
   ],
   "source": [
    "a = 7\n",
    "\n",
    "if a < 5:\n",
    "    print(\"a < 5\")\n",
    "else:\n",
    "    print(\"a >= 5\")"
   ]
  },
  {
   "cell_type": "code",
   "execution_count": null,
   "metadata": {
    "cell_id": "f149213f-9295-4747-8bee-15ae4ce7651b",
    "tags": []
   },
   "outputs": [
    {
     "name": "stdout",
     "output_type": "stream",
     "text": [
      "a >= 10\n"
     ]
    }
   ],
   "source": [
    "# nested Ifs\n",
    "a = 10\n",
    "\n",
    "if a < 5:\n",
    "    print(\"a < 5\")\n",
    "else:\n",
    "    if a < 10:\n",
    "        print(\"5 <= a < 10\")\n",
    "    else:\n",
    "        print(\"a >= 10\")"
   ]
  },
  {
   "cell_type": "code",
   "execution_count": null,
   "metadata": {
    "cell_id": "10b0cb55-674a-4b4a-a051-95a20ed44b97",
    "tags": []
   },
   "outputs": [
    {
     "name": "stdout",
     "output_type": "stream",
     "text": [
      "a >= 15\n"
     ]
    }
   ],
   "source": [
    "a = 52\n",
    "\n",
    "if a < 5:\n",
    "    print(\"a < 5\")\n",
    "elif a < 10:\n",
    "    print(\"5 <= a < 10\")\n",
    "elif a < 15:\n",
    "    print(\"10 <= a < 15\")\n",
    "else:\n",
    "    print(\"a >= 15\")"
   ]
  },
  {
   "cell_type": "code",
   "execution_count": null,
   "metadata": {
    "cell_id": "74c413e7-07c8-44af-9d30-e6f2b524d508",
    "tags": []
   },
   "outputs": [
    {
     "name": "stdout",
     "output_type": "stream",
     "text": [
      "a > 5\n"
     ]
    }
   ],
   "source": [
    "a = 25\n",
    "\n",
    "if a < 5:\n",
    "    b = 'a < 5'\n",
    "else:\n",
    "    b = 'a > 5'\n",
    "print(b)"
   ]
  },
  {
   "cell_type": "code",
   "execution_count": null,
   "metadata": {
    "cell_id": "d2d2ec52-4bc9-4204-835d-f12e210afc04",
    "tags": []
   },
   "outputs": [
    {
     "name": "stdout",
     "output_type": "stream",
     "text": [
      "a > 5\n"
     ]
    }
   ],
   "source": [
    "a = 25\n",
    "\n",
    "if a < 5:\n",
    "    b = 'a < 5'\n",
    "else:\n",
    "    b = 'a > 5'\n",
    "print(b)"
   ]
  },
  {
   "cell_type": "code",
   "execution_count": null,
   "metadata": {
    "cell_id": "7a64776f-7164-4bb8-8f14-01c46707d0cf",
    "tags": []
   },
   "outputs": [
    {
     "name": "stdout",
     "output_type": "stream",
     "text": [
      "a >= 5\n"
     ]
    }
   ],
   "source": [
    "# Alternatively\n",
    "\n",
    "b = 'a < 5' if a < 5 else 'a >= 5'\n",
    "print(b)"
   ]
  },
  {
   "cell_type": "code",
   "execution_count": null,
   "metadata": {
    "cell_id": "093a768c-260e-47ce-8783-6f85db12adca",
    "tags": []
   },
   "outputs": [
    {
     "ename": "NameError",
     "evalue": "name 'this_can_literally_be_anything_but_wouldnt_matter' is not defined",
     "output_type": "error",
     "traceback": [
      "\u001b[0;31m---------------------------------------------------------------------------\u001b[0m",
      "\u001b[0;31mNameError\u001b[0m                                 Traceback (most recent call last)",
      "\u001b[0;32m<ipython-input-227-df006f683a0a>\u001b[0m in \u001b[0;36m<module>\u001b[0;34m\u001b[0m\n\u001b[1;32m      1\u001b[0m \u001b[0mk\u001b[0m \u001b[0;34m=\u001b[0m \u001b[0;36m7\u001b[0m\u001b[0;34m\u001b[0m\u001b[0;34m\u001b[0m\u001b[0m\n\u001b[1;32m      2\u001b[0m \u001b[0;34m\u001b[0m\u001b[0m\n\u001b[0;32m----> 3\u001b[0;31m \u001b[0;32mif\u001b[0m \u001b[0mk\u001b[0m \u001b[0;34m>\u001b[0m \u001b[0;36m6\u001b[0m \u001b[0;32mand\u001b[0m \u001b[0mthis_can_literally_be_anything_but_wouldnt_matter\u001b[0m\u001b[0;34m:\u001b[0m\u001b[0;34m\u001b[0m\u001b[0;34m\u001b[0m\u001b[0m\n\u001b[0m\u001b[1;32m      4\u001b[0m     \u001b[0mprint\u001b[0m \u001b[0;34m(\u001b[0m\u001b[0;34m\"This won't work!\"\u001b[0m\u001b[0;34m)\u001b[0m\u001b[0;34m\u001b[0m\u001b[0;34m\u001b[0m\u001b[0m\n\u001b[1;32m      5\u001b[0m \u001b[0;32melse\u001b[0m\u001b[0;34m:\u001b[0m\u001b[0;34m\u001b[0m\u001b[0;34m\u001b[0m\u001b[0m\n",
      "\u001b[0;31mNameError\u001b[0m: name 'this_can_literally_be_anything_but_wouldnt_matter' is not defined"
     ]
    }
   ],
   "source": [
    "k = 7\n",
    "\n",
    "if k > 6 and this_can_literally_be_anything_but_wouldnt_matter:\n",
    "    print (\"This won't work!\")\n",
    "else:\n",
    "    print (\"Man! This is working!\")"
   ]
  },
  {
   "cell_type": "code",
   "execution_count": null,
   "metadata": {
    "cell_id": "4f7625dc-d577-4f3b-97a6-90c3eba4205c",
    "tags": []
   },
   "outputs": [
    {
     "name": "stdout",
     "output_type": "stream",
     "text": [
      "This will work!\n"
     ]
    }
   ],
   "source": [
    "k = 5\n",
    "\n",
    "if k > 3 or this_can_literally_be_anything_but_wouldnt_matter:\n",
    "    print (\"This will work!\")\n",
    "else:\n",
    "    print (\"This will pakka fail!\")"
   ]
  },
  {
   "cell_type": "code",
   "execution_count": null,
   "metadata": {
    "cell_id": "c69c541d-c24e-4c39-9f35-8e8f7e6daa76",
    "tags": []
   },
   "outputs": [
    {
     "data": {
      "text/plain": [
       "5"
      ]
     },
     "execution_count": 229,
     "metadata": {},
     "output_type": "execute_result"
    }
   ],
   "source": [
    "s = [1, \n",
    "    2, \n",
    "    3, \n",
    "    \"rohan\", \n",
    "    {\n",
    "        \"k1\": \"v1\", \n",
    "        \"k2\": \"v2\"\n",
    "        }\n",
    "    ]\n",
    "#build in function\n",
    "len(s)"
   ]
  },
  {
   "cell_type": "code",
   "execution_count": null,
   "metadata": {
    "cell_id": "aaea559c-4b07-4d27-9611-4bc8168bf23a",
    "tags": []
   },
   "outputs": [
    {
     "data": {
      "text/plain": [
       "2.0"
      ]
     },
     "execution_count": 230,
     "metadata": {},
     "output_type": "execute_result"
    }
   ],
   "source": [
    "from math import sqrt\n",
    "\n",
    "sqrt(4)"
   ]
  },
  {
   "cell_type": "code",
   "execution_count": null,
   "metadata": {
    "cell_id": "73ac68b9-54d5-4c9b-9062-2333ceb005b7",
    "tags": []
   },
   "outputs": [
    {
     "data": {
      "text/plain": [
       "3.141592653589793"
      ]
     },
     "execution_count": 231,
     "metadata": {},
     "output_type": "execute_result"
    }
   ],
   "source": [
    "import math \n",
    "math.pi"
   ]
  },
  {
   "cell_type": "code",
   "execution_count": null,
   "metadata": {
    "cell_id": "3c9e310b-2902-43fa-9b77-15b18518ae49",
    "tags": []
   },
   "outputs": [
    {
     "name": "stdout",
     "output_type": "stream",
     "text": [
      "running func_1\n"
     ]
    }
   ],
   "source": [
    "# functions are objects that contain some stuff/ our code\n",
    "\n",
    "def func_1():\n",
    "    print(\"running func_1\")\n",
    "\n",
    "# now we can invoke this function, which would run the code inside. \n",
    "\n",
    "# you can't call it like this\n",
    "func_1()"
   ]
  },
  {
   "cell_type": "code",
   "execution_count": null,
   "metadata": {
    "cell_id": "1656169e-0898-4f45-9f1f-1ade9b9cea1b",
    "tags": []
   },
   "outputs": [
    {
     "data": {
      "text/plain": [
       "9937.756000000001"
      ]
     },
     "execution_count": 233,
     "metadata": {},
     "output_type": "execute_result"
    }
   ],
   "source": [
    "def func_2(a: int, b: int): # this int is just a documentation think, \n",
    "#has nothing to do with the interpretor\n",
    "    return (a*b)\n",
    "\n",
    "func_2(1.618, 6142)"
   ]
  },
  {
   "cell_type": "code",
   "execution_count": null,
   "metadata": {
    "cell_id": "7f31817b-2beb-42b2-9a08-4baea115e2a1",
    "tags": []
   },
   "outputs": [
    {
     "data": {
      "text/plain": [
       "'cholbe na! cholbe na! cholbe na! '"
      ]
     },
     "execution_count": 234,
     "metadata": {},
     "output_type": "execute_result"
    }
   ],
   "source": [
    "# infact we can also pass in a string!\n",
    "func_2('cholbe na! ', 3)"
   ]
  },
  {
   "cell_type": "code",
   "execution_count": null,
   "metadata": {
    "cell_id": "682fed45-562f-444c-a06e-6d515c5df7b8",
    "tags": []
   },
   "outputs": [
    {
     "data": {
      "text/plain": [
       "['bilkul bhi cholbe na',\n",
       " 'ekdum bhi cholbe na',\n",
       " 'guaranteed cholbe na',\n",
       " 'bilkul bhi cholbe na',\n",
       " 'ekdum bhi cholbe na',\n",
       " 'guaranteed cholbe na',\n",
       " 'bilkul bhi cholbe na',\n",
       " 'ekdum bhi cholbe na',\n",
       " 'guaranteed cholbe na',\n",
       " 'bilkul bhi cholbe na',\n",
       " 'ekdum bhi cholbe na',\n",
       " 'guaranteed cholbe na']"
      ]
     },
     "execution_count": 235,
     "metadata": {},
     "output_type": "execute_result"
    }
   ],
   "source": [
    "# we can call a list as well!\n",
    "l = ['bilkul bhi cholbe na', 'ekdum bhi cholbe na', 'guaranteed cholbe na']\n",
    "\n",
    "func_2(l, 4)"
   ]
  },
  {
   "cell_type": "code",
   "execution_count": null,
   "metadata": {
    "cell_id": "88d2bd1b-d041-4b34-ba81-ba107de15b55",
    "tags": []
   },
   "outputs": [],
   "source": [
    "# above is an example of polymorphism: \n",
    "# Polymorphism is an object-oriented programming concept that refers to the ability of a variable, \n",
    "# function or object to take on multiple forms"
   ]
  },
  {
   "cell_type": "code",
   "execution_count": null,
   "metadata": {
    "cell_id": "060c86f3-5da5-4e91-b5ae-a07fcf8564c5",
    "tags": []
   },
   "outputs": [
    {
     "name": "stdout",
     "output_type": "stream",
     "text": [
      "it has not crashed yet\n"
     ]
    }
   ],
   "source": [
    "\n",
    "def func_3():\n",
    "    return func_4()\n",
    "print(\"it has not crashed yet\")\n",
    "func_3()\n",
    "\n",
    "def func_4():\n",
    "    return 'running func_4'"
   ]
  },
  {
   "cell_type": "code",
   "execution_count": null,
   "metadata": {
    "cell_id": "0a87a7eb-370e-40fd-b98a-4ca26e420d69",
    "tags": []
   },
   "outputs": [
    {
     "name": "stdout",
     "output_type": "stream",
     "text": [
      "it has not crashed yet\n"
     ]
    },
    {
     "ename": "NameError",
     "evalue": "name 'func_6' is not defined",
     "output_type": "error",
     "traceback": [
      "\u001b[0;31m---------------------------------------------------------------------------\u001b[0m",
      "\u001b[0;31mNameError\u001b[0m                                 Traceback (most recent call last)",
      "\u001b[0;32m<ipython-input-238-1e6f7c6f4ae5>\u001b[0m in \u001b[0;36m<module>\u001b[0;34m\u001b[0m\n\u001b[1;32m      2\u001b[0m     \u001b[0;32mreturn\u001b[0m \u001b[0mfunc_6\u001b[0m\u001b[0;34m(\u001b[0m\u001b[0;34m*\u001b[0m\u001b[0margs\u001b[0m\u001b[0;34m,\u001b[0m \u001b[0;34m**\u001b[0m\u001b[0mkwargs\u001b[0m\u001b[0;34m)\u001b[0m\u001b[0;34m\u001b[0m\u001b[0;34m\u001b[0m\u001b[0m\n\u001b[1;32m      3\u001b[0m \u001b[0mprint\u001b[0m\u001b[0;34m(\u001b[0m\u001b[0;34m\"it has not crashed yet\"\u001b[0m\u001b[0;34m)\u001b[0m\u001b[0;34m\u001b[0m\u001b[0;34m\u001b[0m\u001b[0m\n\u001b[0;32m----> 4\u001b[0;31m \u001b[0mfunc_5\u001b[0m\u001b[0;34m(\u001b[0m\u001b[0;34m)\u001b[0m\u001b[0;34m\u001b[0m\u001b[0;34m\u001b[0m\u001b[0m\n\u001b[0m\u001b[1;32m      5\u001b[0m \u001b[0;34m\u001b[0m\u001b[0m\n\u001b[1;32m      6\u001b[0m \u001b[0;32mdef\u001b[0m \u001b[0mfunc_6\u001b[0m\u001b[0;34m(\u001b[0m\u001b[0;34m)\u001b[0m\u001b[0;34m:\u001b[0m\u001b[0;34m\u001b[0m\u001b[0;34m\u001b[0m\u001b[0m\n",
      "\u001b[0;32m<ipython-input-238-1e6f7c6f4ae5>\u001b[0m in \u001b[0;36mfunc_5\u001b[0;34m()\u001b[0m\n\u001b[1;32m      1\u001b[0m \u001b[0;32mdef\u001b[0m \u001b[0mfunc_5\u001b[0m\u001b[0;34m(\u001b[0m\u001b[0;34m)\u001b[0m\u001b[0;34m:\u001b[0m\u001b[0;34m\u001b[0m\u001b[0;34m\u001b[0m\u001b[0m\n\u001b[0;32m----> 2\u001b[0;31m     \u001b[0;32mreturn\u001b[0m \u001b[0mfunc_6\u001b[0m\u001b[0;34m(\u001b[0m\u001b[0;34m*\u001b[0m\u001b[0margs\u001b[0m\u001b[0;34m,\u001b[0m \u001b[0;34m**\u001b[0m\u001b[0mkwargs\u001b[0m\u001b[0;34m)\u001b[0m\u001b[0;34m\u001b[0m\u001b[0;34m\u001b[0m\u001b[0m\n\u001b[0m\u001b[1;32m      3\u001b[0m \u001b[0mprint\u001b[0m\u001b[0;34m(\u001b[0m\u001b[0;34m\"it has not crashed yet\"\u001b[0m\u001b[0;34m)\u001b[0m\u001b[0;34m\u001b[0m\u001b[0;34m\u001b[0m\u001b[0m\n\u001b[1;32m      4\u001b[0m \u001b[0mfunc_5\u001b[0m\u001b[0;34m(\u001b[0m\u001b[0;34m)\u001b[0m\u001b[0;34m\u001b[0m\u001b[0;34m\u001b[0m\u001b[0m\n\u001b[1;32m      5\u001b[0m \u001b[0;34m\u001b[0m\u001b[0m\n",
      "\u001b[0;31mNameError\u001b[0m: name 'func_6' is not defined"
     ]
    }
   ],
   "source": [
    "\n",
    "def func_5():\n",
    "    return func_6(*args, **kwargs)\n",
    "print(\"it has not crashed yet\")\n",
    "func_5()\n",
    "\n",
    "def func_6():\n",
    "    return 'running func_6'"
   ]
  },
  {
   "cell_type": "code",
   "execution_count": null,
   "metadata": {
    "cell_id": "72f9df56-c164-42a8-8b30-0f046f12b638",
    "tags": []
   },
   "outputs": [
    {
     "data": {
      "text/plain": [
       "function"
      ]
     },
     "execution_count": 239,
     "metadata": {},
     "output_type": "execute_result"
    }
   ],
   "source": [
    "type(func_3)"
   ]
  },
  {
   "cell_type": "code",
   "execution_count": null,
   "metadata": {
    "cell_id": "70a3fa54-0105-4ede-9146-b1ee3cddfd7b",
    "tags": []
   },
   "outputs": [
    {
     "data": {
      "text/plain": [
       "int"
      ]
     },
     "execution_count": 240,
     "metadata": {},
     "output_type": "execute_result"
    }
   ],
   "source": [
    "a = 34\n",
    "type(a)"
   ]
  },
  {
   "cell_type": "code",
   "execution_count": null,
   "metadata": {
    "cell_id": "ed030e02-422a-4831-9423-85d29eda039c",
    "tags": []
   },
   "outputs": [],
   "source": [
    "def this_things():\n",
    "    print(\"erwerw\")"
   ]
  },
  {
   "cell_type": "code",
   "execution_count": null,
   "metadata": {
    "cell_id": "f442f702-a958-4c77-b551-2825f5064660",
    "tags": []
   },
   "outputs": [],
   "source": [
    "fn = lambda x: x**2"
   ]
  },
  {
   "cell_type": "code",
   "execution_count": null,
   "metadata": {
    "cell_id": "81537d47-66cf-4b3d-a888-51f240ac2003",
    "tags": []
   },
   "outputs": [],
   "source": [
    "def do_this(func, var):\n",
    "    return func(var)"
   ]
  },
  {
   "cell_type": "code",
   "execution_count": null,
   "metadata": {
    "cell_id": "9d7b3c18-262c-4d19-b808-63f32d459541",
    "tags": []
   },
   "outputs": [
    {
     "data": {
      "text/plain": [
       "5.0"
      ]
     },
     "execution_count": 244,
     "metadata": {},
     "output_type": "execute_result"
    }
   ],
   "source": [
    "do_this(lambda x:x/2, 10)"
   ]
  },
  {
   "cell_type": "code",
   "execution_count": null,
   "metadata": {
    "cell_id": "60d124b4-840e-4d8b-86fa-e631d44adfd6",
    "tags": []
   },
   "outputs": [
    {
     "name": "stdout",
     "output_type": "stream",
     "text": [
      "0\n",
      "1\n",
      "2\n",
      "3\n",
      "4\n"
     ]
    }
   ],
   "source": [
    "\n",
    "i = 0\n",
    "\n",
    "while i < 5:\n",
    "    print(i)\n",
    "    i += 1"
   ]
  },
  {
   "cell_type": "code",
   "execution_count": null,
   "metadata": {
    "cell_id": "1d5e5c03-76c1-4a9a-b517-155870f004bf",
    "tags": []
   },
   "outputs": [
    {
     "name": "stdout",
     "output_type": "stream",
     "text": [
      "5\n"
     ]
    }
   ],
   "source": [
    "\n",
    "i = 5\n",
    "\n",
    "while True: # infinite loop\n",
    "    print(i)\n",
    "    if i >= 5:\n",
    "        break\n",
    "        print(\"I won't even get printed\")"
   ]
  },
  {
   "cell_type": "code",
   "execution_count": null,
   "metadata": {
    "cell_id": "441545a1-61e9-4a17-a9a3-521c465fc7fc",
    "tags": []
   },
   "outputs": [
    {
     "ename": "KeyboardInterrupt",
     "evalue": "Interrupted by user",
     "output_type": "error",
     "traceback": [
      "\u001b[0;31m---------------------------------------------------------------------------\u001b[0m",
      "\u001b[0;31mKeyboardInterrupt\u001b[0m                         Traceback (most recent call last)",
      "\u001b[0;32m<ipython-input-247-ce7d1552fe5e>\u001b[0m in \u001b[0;36m<module>\u001b[0;34m\u001b[0m\n\u001b[1;32m      1\u001b[0m \u001b[0mmin_length\u001b[0m \u001b[0;34m=\u001b[0m \u001b[0;36m2\u001b[0m\u001b[0;34m\u001b[0m\u001b[0;34m\u001b[0m\u001b[0m\n\u001b[1;32m      2\u001b[0m \u001b[0;34m\u001b[0m\u001b[0m\n\u001b[0;32m----> 3\u001b[0;31m \u001b[0mname\u001b[0m \u001b[0;34m=\u001b[0m \u001b[0minput\u001b[0m\u001b[0;34m(\u001b[0m\u001b[0;34m\"Please enter your name:\"\u001b[0m\u001b[0;34m)\u001b[0m\u001b[0;34m\u001b[0m\u001b[0;34m\u001b[0m\u001b[0m\n\u001b[0m",
      "\u001b[0;32m/opt/venv/lib/python3.7/site-packages/ipykernel/kernelbase.py\u001b[0m in \u001b[0;36mraw_input\u001b[0;34m(self, prompt)\u001b[0m\n\u001b[1;32m    861\u001b[0m             \u001b[0mself\u001b[0m\u001b[0;34m.\u001b[0m\u001b[0m_parent_ident\u001b[0m\u001b[0;34m,\u001b[0m\u001b[0;34m\u001b[0m\u001b[0;34m\u001b[0m\u001b[0m\n\u001b[1;32m    862\u001b[0m             \u001b[0mself\u001b[0m\u001b[0;34m.\u001b[0m\u001b[0m_parent_header\u001b[0m\u001b[0;34m,\u001b[0m\u001b[0;34m\u001b[0m\u001b[0;34m\u001b[0m\u001b[0m\n\u001b[0;32m--> 863\u001b[0;31m             \u001b[0mpassword\u001b[0m\u001b[0;34m=\u001b[0m\u001b[0;32mFalse\u001b[0m\u001b[0;34m,\u001b[0m\u001b[0;34m\u001b[0m\u001b[0;34m\u001b[0m\u001b[0m\n\u001b[0m\u001b[1;32m    864\u001b[0m         )\n\u001b[1;32m    865\u001b[0m \u001b[0;34m\u001b[0m\u001b[0m\n",
      "\u001b[0;32m/opt/venv/lib/python3.7/site-packages/ipykernel/kernelbase.py\u001b[0m in \u001b[0;36m_input_request\u001b[0;34m(self, prompt, ident, parent, password)\u001b[0m\n\u001b[1;32m    902\u001b[0m             \u001b[0;32mexcept\u001b[0m \u001b[0mKeyboardInterrupt\u001b[0m\u001b[0;34m:\u001b[0m\u001b[0;34m\u001b[0m\u001b[0;34m\u001b[0m\u001b[0m\n\u001b[1;32m    903\u001b[0m                 \u001b[0;31m# re-raise KeyboardInterrupt, to truncate traceback\u001b[0m\u001b[0;34m\u001b[0m\u001b[0;34m\u001b[0m\u001b[0;34m\u001b[0m\u001b[0m\n\u001b[0;32m--> 904\u001b[0;31m                 \u001b[0;32mraise\u001b[0m \u001b[0mKeyboardInterrupt\u001b[0m\u001b[0;34m(\u001b[0m\u001b[0;34m\"Interrupted by user\"\u001b[0m\u001b[0;34m)\u001b[0m \u001b[0;32mfrom\u001b[0m \u001b[0;32mNone\u001b[0m\u001b[0;34m\u001b[0m\u001b[0;34m\u001b[0m\u001b[0m\n\u001b[0m\u001b[1;32m    905\u001b[0m             \u001b[0;32mexcept\u001b[0m \u001b[0mException\u001b[0m \u001b[0;32mas\u001b[0m \u001b[0me\u001b[0m\u001b[0;34m:\u001b[0m\u001b[0;34m\u001b[0m\u001b[0;34m\u001b[0m\u001b[0m\n\u001b[1;32m    906\u001b[0m                 \u001b[0mself\u001b[0m\u001b[0;34m.\u001b[0m\u001b[0mlog\u001b[0m\u001b[0;34m.\u001b[0m\u001b[0mwarning\u001b[0m\u001b[0;34m(\u001b[0m\u001b[0;34m\"Invalid Message:\"\u001b[0m\u001b[0;34m,\u001b[0m \u001b[0mexc_info\u001b[0m\u001b[0;34m=\u001b[0m\u001b[0;32mTrue\u001b[0m\u001b[0;34m)\u001b[0m\u001b[0;34m\u001b[0m\u001b[0;34m\u001b[0m\u001b[0m\n",
      "\u001b[0;31mKeyboardInterrupt\u001b[0m: Interrupted by user"
     ]
    }
   ],
   "source": [
    "min_length = 2\n",
    "\n",
    "name = input(\"Please enter your name:\")\n"
   ]
  },
  {
   "cell_type": "code",
   "execution_count": 0,
   "metadata": {
    "cell_id": "95219695-f8e9-4f32-99a5-d1d484761535",
    "tags": []
   },
   "outputs": [],
   "source": [
    "name"
   ]
  },
  {
   "cell_type": "code",
   "execution_count": 0,
   "metadata": {
    "cell_id": "d2a45b1f-cd35-4a2c-8fd8-45a81615811f",
    "tags": []
   },
   "outputs": [],
   "source": [
    "name1 = input(\"Please enter your name:\")\n",
    "while not (len(name1) >= min_length and name1.isprintable() and name1.isalpha()):\n",
    "    name1 = input(\"Please enter your name:\")\n",
    "\n",
    "print(f\"Hello {name1}\")"
   ]
  },
  {
   "cell_type": "code",
   "execution_count": 0,
   "metadata": {
    "cell_id": "2b92bf37-7b37-4fc6-bae6-671bc80a2658",
    "tags": []
   },
   "outputs": [],
   "source": [
    "# alternative\n",
    "\n",
    "while True:\n",
    "    name = input(\"Please enter your name:\")\n",
    "\n",
    "    if (len(name) >= min_length and name.isprintable() and name.isalpha()):\n",
    "        break\n",
    "\n",
    "print(f\"Hello {name}\")"
   ]
  },
  {
   "cell_type": "code",
   "execution_count": 0,
   "metadata": {
    "cell_id": "b04d97e0-f9d9-4966-ae5f-164659ee7efd",
    "tags": []
   },
   "outputs": [],
   "source": [
    "a = 1\n",
    "\n",
    "while a < 10:\n",
    "    a += 1\n",
    "    if a%20 == 0:\n",
    "        break\n",
    "    print(a)\n",
    "else:\n",
    "    print(\"10\")"
   ]
  },
  {
   "cell_type": "code",
   "execution_count": 0,
   "metadata": {
    "cell_id": "73364ee0-dbc7-4620-bc2f-8c14a3ea09ee",
    "tags": []
   },
   "outputs": [],
   "source": [
    "l = [1, 2, 3]\n",
    "val = 4\n",
    "idx = 0\n",
    "\n",
    "while idx < len(l):\n",
    "    if l[idx] == val:\n",
    "        break\n",
    "    idx += 1\n",
    "else: # won't run if break was encountered\n",
    "    print(\"was i called\")\n",
    "    l.append(val)\n",
    "print(l)"
   ]
  },
  {
   "cell_type": "code",
   "execution_count": 0,
   "metadata": {
    "cell_id": "544f549e-2e35-4dba-8bd6-8887ce5610b4",
    "tags": []
   },
   "outputs": [],
   "source": [
    "a = 10\n",
    "b = 0 # then try with 0\n",
    "\n",
    "try:\n",
    "    a/b\n",
    "except ZeroDivisionError:\n",
    "    print('Dividion by 0')\n",
    "finally:\n",
    "    print('this always executes')\n",
    "\n"
   ]
  },
  {
   "cell_type": "code",
   "execution_count": 0,
   "metadata": {
    "cell_id": "3b3fcd26-d132-4483-8909-615351246e42",
    "tags": []
   },
   "outputs": [],
   "source": [
    "a = 0\n",
    "b = 2\n",
    "\n",
    "while a < 4:\n",
    "    print(\"_______________________\")\n",
    "    a += 1\n",
    "    b -= 1\n",
    "    try:\n",
    "        a/b\n",
    "    except ZeroDivisionError:\n",
    "        print(f'division by zero a {a} b {b}')\n",
    "        break\n",
    "    finally:\n",
    "        print('{0}, {1} - always executes'.format(a, b))\n",
    "    print('{0}, {1} - main loop'.format(a, b))"
   ]
  },
  {
   "cell_type": "code",
   "execution_count": 0,
   "metadata": {
    "cell_id": "7243c13b-e32d-49b1-81c3-1140f807d139",
    "tags": []
   },
   "outputs": [],
   "source": [
    "a = 0\n",
    "b = 2 #try for 10\n",
    "\n",
    "while a < 4:\n",
    "    print(\"_______________________\")\n",
    "    a += 1\n",
    "    b -= 1\n",
    "    try:\n",
    "        a/b\n",
    "    except ZeroDivisionError:\n",
    "        print(f'division by zero a {a} b {b}')\n",
    "        break\n",
    "    finally:\n",
    "        print('{0}, {1} - always executes'.format(a, b))\n",
    "    print('{0}, {1} - main loop'.format(a, b))\n",
    "else:\n",
    "    print(\"I did not encounted break\")"
   ]
  },
  {
   "cell_type": "markdown",
   "metadata": {
    "cell_id": "c9f53a53-3cc6-460c-bb92-5af58ab37138",
    "tags": []
   },
   "source": [
    "## For Loop\n",
    "\n",
    "In Python, an iterable is an object capable of returning values one at a time\n",
    "There are many objects in Python which are iterable, string, tuple, list, dictionaries In Python for loop gets a value next in the iterable."
   ]
  },
  {
   "cell_type": "code",
   "execution_count": 0,
   "metadata": {
    "cell_id": "988fa574-0020-47fa-a21d-a998be74891e",
    "tags": []
   },
   "outputs": [],
   "source": [
    "k = {\"a\": 1, \"b\": 2, \"c\": 3}\n",
    "\n",
    "for c in k:\n",
    "    print(c)"
   ]
  },
  {
   "cell_type": "code",
   "execution_count": 0,
   "metadata": {
    "cell_id": "e193420c-88da-47c0-8392-d3821e04e360",
    "tags": []
   },
   "outputs": [],
   "source": [
    "# for (i = 0; i<5; i++)\n",
    "# eqivalent of other for in Python\n",
    "\n",
    "i = 0\n",
    "while i < 5:\n",
    "    print(i)\n",
    "    i += 1\n",
    "i = None"
   ]
  },
  {
   "cell_type": "code",
   "execution_count": 0,
   "metadata": {
    "cell_id": "b76d15ad-015b-429f-a2d9-f00f722c66ff",
    "tags": []
   },
   "outputs": [],
   "source": [
    "for i in range(3, 8):\n",
    "    print(i)"
   ]
  },
  {
   "cell_type": "code",
   "execution_count": 0,
   "metadata": {
    "cell_id": "060b1dfe-dcee-4880-9a58-4d7810418f27",
    "tags": []
   },
   "outputs": [],
   "source": [
    "for (x, y) in [(1, 2), (3, 4), (5, 6)]:\n",
    "    print(x)"
   ]
  },
  {
   "cell_type": "code",
   "execution_count": 0,
   "metadata": {
    "cell_id": "ccb2c29f-0b2f-4cbe-a4e5-8f2a234e97da",
    "tags": []
   },
   "outputs": [],
   "source": [
    "a = 1, 2"
   ]
  },
  {
   "cell_type": "code",
   "execution_count": 0,
   "metadata": {
    "cell_id": "125db9d9-5b7a-4923-b98e-f6c6db3fad06",
    "tags": []
   },
   "outputs": [],
   "source": [
    "type(a)"
   ]
  },
  {
   "cell_type": "code",
   "execution_count": 0,
   "metadata": {
    "cell_id": "09958b11-1db3-464d-b953-12b2ec42a04d",
    "tags": []
   },
   "outputs": [],
   "source": [
    "for i in range(5):\n",
    "    if i == 3:\n",
    "        continue #try continue\n",
    "    print(i)"
   ]
  },
  {
   "cell_type": "code",
   "execution_count": 0,
   "metadata": {
    "cell_id": "583271fc-5e62-46cf-b0b3-41443fa71cb0",
    "tags": []
   },
   "outputs": [],
   "source": [
    "for i in range(5):\n",
    "    if i*1 == 3:\n",
    "        break #try continue\n",
    "    print(i)\n",
    "else:\n",
    "    print(\"i was never 3\")"
   ]
  },
  {
   "cell_type": "code",
   "execution_count": 0,
   "metadata": {
    "cell_id": "72abd1ae-480a-4d88-9a51-596dd74ab93f",
    "tags": []
   },
   "outputs": [],
   "source": [
    "for i in range(5):\n",
    "    print(\"_________________\" + str(i))\n",
    "    try:\n",
    "        10/(i-3)\n",
    "    except ZeroDivisionError:\n",
    "        print(\"Divided by 0\")\n",
    "        continue\n",
    "    finally:\n",
    "        print(\"always run\")\n",
    "    print(\"in the main loop \" + str(i))"
   ]
  },
  {
   "cell_type": "code",
   "execution_count": 0,
   "metadata": {
    "cell_id": "44f8426e-0bc6-4100-8269-6ba9bf47cb1e",
    "tags": []
   },
   "outputs": [],
   "source": [
    "s = \"hello\"\n",
    "i = 0\n",
    "for c in s:\n",
    "    print(i, c)\n",
    "    i += 1"
   ]
  },
  {
   "cell_type": "code",
   "execution_count": 0,
   "metadata": {
    "cell_id": "85582d8c-c82a-4a5d-9c37-bd6e0d466bf2",
    "tags": []
   },
   "outputs": [],
   "source": [
    "for i in range(len(s)):\n",
    "    print(i, s[i])"
   ]
  },
  {
   "cell_type": "code",
   "execution_count": 0,
   "metadata": {
    "cell_id": "3236e822-37bf-41e5-92ce-fd2fe39a44fd",
    "tags": []
   },
   "outputs": [],
   "source": [
    "# Enumerate\n",
    "s = \"hello\"\n",
    "\n",
    "for (i, c) in enumerate(s):\n",
    "    print(i, c)"
   ]
  },
  {
   "cell_type": "markdown",
   "metadata": {
    "cell_id": "4968fd98-1865-491d-8c59-2360e2324c6d",
    "tags": []
   },
   "source": [
    "## Classes"
   ]
  },
  {
   "cell_type": "code",
   "execution_count": 0,
   "metadata": {
    "cell_id": "598f103c-92b0-4e44-b4ad-51e849778bc2",
    "tags": []
   },
   "outputs": [],
   "source": [
    "class Rectangle(): # keyword \n",
    "    def __init__(self, x):   # initializer, runs once an instance/object is created. \n",
    "        self.x = x\n",
    "    \n"
   ]
  },
  {
   "cell_type": "code",
   "execution_count": 0,
   "metadata": {
    "cell_id": "9222c4d4-2948-40d5-acb0-a31daa434ee2",
    "tags": []
   },
   "outputs": [],
   "source": [
    "r1 = Rectangle(10)\n",
    "r1.x\n",
    "r2 = Rectangle(100)\n",
    "r2.x\n",
    "r1.x"
   ]
  },
  {
   "cell_type": "code",
   "execution_count": 0,
   "metadata": {
    "cell_id": "0380b588-0176-45ce-8969-1377a8f7a4de",
    "tags": []
   },
   "outputs": [],
   "source": [
    "class Rectangle:  \n",
    "    def __init__(self, width, height):\n",
    "        self.width = width\n",
    "        self.height = height"
   ]
  },
  {
   "cell_type": "code",
   "execution_count": 0,
   "metadata": {
    "cell_id": "9e687021-ef06-429f-9808-ffa5af8b43eb",
    "tags": []
   },
   "outputs": [],
   "source": [
    "r1 = Rectangle(10, 20)"
   ]
  },
  {
   "cell_type": "code",
   "execution_count": 0,
   "metadata": {
    "cell_id": "dcc84d1d-b1a7-40ef-95b3-98c4a87c2312",
    "tags": []
   },
   "outputs": [],
   "source": [
    "r1.width"
   ]
  },
  {
   "cell_type": "code",
   "execution_count": 0,
   "metadata": {
    "cell_id": "b2c6f549-b6d2-49fa-9641-922a393d665a",
    "tags": []
   },
   "outputs": [],
   "source": [
    "# let's add methods\n",
    "class Rectangle:  \n",
    "    def __init__(tsai, width, height):\n",
    "        tsai.width = width #properties\n",
    "        tsai.height = height\n",
    "    def area(tsai): #method\n",
    "        return tsai.width * tsai.height\n",
    "    def perimeter(tsai):\n",
    "        return 2 * (tsai.width + tsai.height)"
   ]
  },
  {
   "cell_type": "code",
   "execution_count": 0,
   "metadata": {
    "cell_id": "89db5426-dce0-40de-878c-cb5e6043c77c",
    "tags": []
   },
   "outputs": [],
   "source": [
    "r1 = Rectangle(10, 20)\n",
    "r1.area()"
   ]
  },
  {
   "cell_type": "code",
   "execution_count": 0,
   "metadata": {
    "cell_id": "389085ce-0145-4adf-8a0f-edf06cc14709",
    "tags": []
   },
   "outputs": [],
   "source": [
    "r1"
   ]
  },
  {
   "cell_type": "code",
   "execution_count": 0,
   "metadata": {
    "cell_id": "d69073a5-6e81-4d17-a15b-5ea2dd4ed523",
    "tags": []
   },
   "outputs": [],
   "source": [
    "str(r1)"
   ]
  },
  {
   "cell_type": "code",
   "execution_count": 0,
   "metadata": {
    "cell_id": "077ac254-92e1-4b68-a00c-0018382ec8ee",
    "tags": []
   },
   "outputs": [],
   "source": [
    "# we might need a better representation\n",
    "class Rectangle:  \n",
    "    def __init__(tsai, width, height):\n",
    "        tsai.width = width #properties\n",
    "        tsai.height = height\n",
    "    def area(tsai): #method\n",
    "        return tsai.width * tsai.height\n",
    "    def perimeter(tsai):\n",
    "        return 2 * (tsai.width + tsai.height)\n",
    "    def __str__(self):\n",
    "        return 'Rectangle: width={0}, height={1}'.format(self.width, self.height)"
   ]
  },
  {
   "cell_type": "code",
   "execution_count": 0,
   "metadata": {
    "cell_id": "e531add4-19a8-4986-89e0-b74dc536eec3",
    "tags": []
   },
   "outputs": [],
   "source": [
    "r1 = Rectangle(10, 20)\n",
    "str(r1)"
   ]
  },
  {
   "cell_type": "code",
   "execution_count": 0,
   "metadata": {
    "cell_id": "a97c26be-0e53-4665-a880-12c291328009",
    "tags": []
   },
   "outputs": [],
   "source": [
    "class Rectangle():  \n",
    "    def __init__(tsai, width, height):\n",
    "        tsai.width = width #properties\n",
    "        tsai.height = height\n",
    "    def area(tsai): #method\n",
    "        return tsai.width * tsai.height\n",
    "    def perimeter(tsai):\n",
    "        return 2 * (tsai.width + tsai.height)\n",
    "    def __str__(self):\n",
    "        return 'Rectangle: width={0}, height={1}'.format(self.width, self.height)\n",
    "    def __repr__(self):\n",
    "        return 'Rectangle({0}, {1})'.format(self.width, self.height)\n"
   ]
  },
  {
   "cell_type": "code",
   "execution_count": 0,
   "metadata": {
    "cell_id": "e7da77aa-0cb8-45dd-b0a5-cd465daeb345",
    "tags": []
   },
   "outputs": [],
   "source": [
    "r1 = Rectangle(10, 20)\n",
    "r2 = Rectangle(20, 20)\n",
    "r1.__str__()\n",
    "r1.__eq__(r2)"
   ]
  },
  {
   "cell_type": "code",
   "execution_count": 0,
   "metadata": {
    "cell_id": "02b4c2bd-2dfb-4888-9e46-6683e311f8d0",
    "tags": []
   },
   "outputs": [],
   "source": [
    "r1.__lt__(r1)"
   ]
  },
  {
   "cell_type": "code",
   "execution_count": 0,
   "metadata": {
    "cell_id": "cb43ba07-1f5d-450a-8c74-e208084e0e61",
    "tags": []
   },
   "outputs": [],
   "source": [
    "r1 = Rectangle(10, 20)\n",
    "r2 = Rectangle(10, 20)"
   ]
  },
  {
   "cell_type": "code",
   "execution_count": 0,
   "metadata": {
    "cell_id": "e02c6ba8-1dec-4526-9c81-4e794411e981",
    "tags": []
   },
   "outputs": [],
   "source": [
    "r1 == r2 "
   ]
  },
  {
   "cell_type": "code",
   "execution_count": 0,
   "metadata": {
    "cell_id": "0e58b9c7-e302-4c58-81cd-6a809b0f8113",
    "tags": []
   },
   "outputs": [],
   "source": [
    "r1.__eq__(r2)"
   ]
  },
  {
   "cell_type": "code",
   "execution_count": 0,
   "metadata": {
    "cell_id": "e1ade228-d9eb-49c2-a4cd-e9d468d56ede",
    "tags": []
   },
   "outputs": [],
   "source": [
    "class Rectangle:  \n",
    "    def __init__(tsai, width, height):\n",
    "        tsai.width = width #properties\n",
    "        tsai.height = height\n",
    "    def area(tsai): #method\n",
    "        return tsai.width * tsai.height\n",
    "    def perimeter(tsai):\n",
    "        return 2 * (tsai.width + tsai.height)\n",
    "    def __str__(self):\n",
    "        return 'Rectangle: width={0}, height={1}'.format(self.width, self.height)\n",
    "    def __repr__(self):\n",
    "        return 'Rectangle({0}, {1})'.format(self.width, self.height)\n",
    "    def __eq__(self, other):\n",
    "        return self.width == other.width and self.height == other.height\n",
    "        # or (self.width, self.height) == (other.width, other.height)"
   ]
  },
  {
   "cell_type": "markdown",
   "metadata": {
    "cell_id": "4d349b06-1cdb-497a-9c8d-49a7b4a5a676",
    "tags": []
   },
   "source": [
    "## New markdown cell"
   ]
  },
  {
   "cell_type": "code",
   "execution_count": 0,
   "metadata": {
    "cell_id": "90ba7808-96d3-4b07-998c-b3761c324bcc",
    "tags": []
   },
   "outputs": [],
   "source": [
    "r1 = Rectangle(10, 20)\n",
    "r2 = Rectangle(10, 20)\n",
    "r1 == r2 "
   ]
  },
  {
   "cell_type": "code",
   "execution_count": 0,
   "metadata": {
    "cell_id": "6f5ca167-53f5-4db8-a33f-446cae25b682",
    "tags": []
   },
   "outputs": [],
   "source": [
    "r1 == 100"
   ]
  },
  {
   "cell_type": "code",
   "execution_count": 0,
   "metadata": {
    "cell_id": "ec7c204c-0551-41f5-b033-87064e079657",
    "tags": []
   },
   "outputs": [],
   "source": [
    "class Rectangle:  \n",
    "    def __init__(self, width, height):\n",
    "        self.width = width #properties\n",
    "        self.height = height\n",
    "    def area(self): #method\n",
    "        return self.width * self.height\n",
    "    def perimeter(self):\n",
    "        return 2 * (self.width + self.height)\n",
    "    def __str__(self):\n",
    "        return 'Rectangle: width={0}, height={1}'.format(self.width, self.height)\n",
    "    def __repr__(self):\n",
    "        return 'Rectangle({0}, {1})'.format(self.width, self.height)\n",
    "    def __eq__(self, other):\n",
    "        if isinstance(other, Rectangle):\n",
    "            return self.width == other.width and self.height == other.height\n",
    "        else:\n",
    "            return False\n",
    "    def __lt__(self, other):\n",
    "        if isinstance(other, Rectangle):\n",
    "            return self.area() < other.area()\n",
    "        else:\n",
    "            return NotImplemented"
   ]
  },
  {
   "cell_type": "code",
   "execution_count": 0,
   "metadata": {
    "cell_id": "261ce4a0-d8c7-4996-809e-f939229c721a",
    "tags": []
   },
   "outputs": [],
   "source": [
    "r1 = Rectangle(10, 20)\n",
    "r2 = Rectangle(100, 200)"
   ]
  },
  {
   "cell_type": "code",
   "execution_count": 0,
   "metadata": {
    "cell_id": "d6749175-1022-4a2c-8e53-d362437acc13",
    "tags": []
   },
   "outputs": [],
   "source": [
    "r1 < r2"
   ]
  },
  {
   "cell_type": "code",
   "execution_count": 0,
   "metadata": {
    "cell_id": "fbc89d8c-0b62-407f-b799-e11067c4508c",
    "tags": []
   },
   "outputs": [],
   "source": [
    "r1.__dict__"
   ]
  },
  {
   "cell_type": "code",
   "execution_count": 0,
   "metadata": {
    "cell_id": "85e7ff93-286b-4236-9a5c-df6edd4803f7",
    "tags": []
   },
   "outputs": [],
   "source": [
    "# properties\n",
    "class Rectangle:  \n",
    "    def __init__(self, width, height):\n",
    "        self.width = width #properties\n",
    "        self.height = height\n",
    "    def area(self): #method\n",
    "        return self.width * self.height\n",
    "    def perimeter(self):\n",
    "        return 2 * (self.width + self.height)\n",
    "    def __str__(self):\n",
    "        return 'Rectangle: width={0}, height={1}'.format(self.width, self.height)\n",
    "    def __repr__(self):\n",
    "        return 'Rectangle({0}, {1})'.format(self.width, self.height)"
   ]
  },
  {
   "cell_type": "code",
   "execution_count": 0,
   "metadata": {
    "cell_id": "89696e5d-00b4-404d-9758-feb5f3fd3345",
    "tags": []
   },
   "outputs": [],
   "source": [
    "r1 = Rectangle(10, 20)\n",
    "r1.width = -100"
   ]
  },
  {
   "cell_type": "code",
   "execution_count": 0,
   "metadata": {
    "cell_id": "dd8d4605-0162-4726-9033-b98f8bb604a7",
    "tags": []
   },
   "outputs": [],
   "source": [
    "r1.area()"
   ]
  },
  {
   "cell_type": "code",
   "execution_count": 0,
   "metadata": {
    "cell_id": "7f2f5631-298f-4448-83c6-1f974ae19c7a",
    "tags": []
   },
   "outputs": [],
   "source": [
    "# convention\n",
    "class Rectangle:  \n",
    "    def __init__(self, width, height):\n",
    "        self._width = width #pseudo private\n",
    "        self._height = height\n",
    "\n",
    "    def get_width(self):\n",
    "        return self._width\n",
    "\n",
    "    def set_width(self, width):\n",
    "        if width <=0:\n",
    "            raise ValueError(\"Width must be positive\")\n",
    "        else:\n",
    "            self._width = width\n",
    "\n",
    "    def get_height(self):\n",
    "        return self._height\n",
    "    \n",
    "    def set_height(self, height):\n",
    "        if height <=0:\n",
    "            raise ValueError(\"Width must be positive\")\n",
    "        else:\n",
    "            self._height = height\n",
    "\n",
    "    def area(self): #method\n",
    "        return self._width * self._height\n",
    "\n",
    "    def perimeter(self):\n",
    "        return 2 * (self._width + self._height)\n",
    "    \n",
    "    def __str__(self):\n",
    "        return 'Rectangle: width={0}, height={1}'.format(self._width, self._height)\n",
    "\n",
    "    def __eq__(self, other):\n",
    "        if isinstance(other, Rectangle):\n",
    "            return self._width == other._width and self._height == other._height\n",
    "        else:\n",
    "            return False"
   ]
  },
  {
   "cell_type": "code",
   "execution_count": 0,
   "metadata": {
    "cell_id": "a2eb8b46-a4ff-44dd-81fc-8046f400266b",
    "tags": []
   },
   "outputs": [],
   "source": [
    "r1 = Rectangle(10, 20)\n",
    "r1.set_width(-100)"
   ]
  },
  {
   "cell_type": "code",
   "execution_count": 0,
   "metadata": {
    "cell_id": "0f2fb933-30c8-452d-959a-8b9eace1f8ef",
    "tags": []
   },
   "outputs": [],
   "source": [
    "r1.area()"
   ]
  },
  {
   "cell_type": "code",
   "execution_count": 0,
   "metadata": {
    "cell_id": "82dd8369-19c5-48b2-b573-390e4e230e3c",
    "tags": []
   },
   "outputs": [],
   "source": [
    "r1.width"
   ]
  },
  {
   "cell_type": "code",
   "execution_count": 0,
   "metadata": {
    "cell_id": "87773a0b-5751-4463-b316-990701f88370",
    "tags": []
   },
   "outputs": [],
   "source": [
    "dir(r1)"
   ]
  },
  {
   "cell_type": "code",
   "execution_count": 0,
   "metadata": {
    "cell_id": "ec082524-834b-4966-aed6-920db9a3ef18",
    "tags": []
   },
   "outputs": [],
   "source": [
    "class Rectangle:  \n",
    "    def __init__(self, width, height):\n",
    "        self._width = width #properties\n",
    "        self._height = height\n",
    "\n",
    "    @property\n",
    "    def width(self):\n",
    "        return self._width\n",
    "    \n",
    "    @property\n",
    "    def height(self):\n",
    "        return self._height\n",
    "\n",
    "    def area(self): #method\n",
    "        return self.width * self.height"
   ]
  },
  {
   "cell_type": "code",
   "execution_count": 0,
   "metadata": {
    "cell_id": "5be88d7a-d06f-49b6-bbb1-1355386d3d86",
    "tags": []
   },
   "outputs": [],
   "source": [
    "r1 = Rectangle(10, 20)\n",
    "r1.width"
   ]
  },
  {
   "cell_type": "code",
   "execution_count": 0,
   "metadata": {
    "cell_id": "6d260d7f-1bf5-43c7-a7d5-7caf0e842714",
    "tags": []
   },
   "outputs": [],
   "source": [
    "r1._width = -100"
   ]
  },
  {
   "cell_type": "code",
   "execution_count": 5,
   "metadata": {
    "cell_id": "710e81e5-a603-4cf1-b780-c6243330969a",
    "tags": []
   },
   "outputs": [],
   "source": [
    "class Rectangle:  \n",
    "    def __init__(self, width, height):\n",
    "        self._width = width #properties\n",
    "        self._height = height\n",
    "\n",
    "    @property\n",
    "    def width(self):\n",
    "        return self._width\n",
    "\n",
    "    @width.setter\n",
    "    def width(self, width):\n",
    "        if width <=0:\n",
    "            raise ValueError(\"Width must be positive\")\n",
    "        else:\n",
    "            print(\"I was called\")\n",
    "            self._width = width\n",
    "    \n",
    "    @property\n",
    "    def height(self):\n",
    "        return self._height\n",
    "\n",
    "    @height.setter\n",
    "    def height(self, height):\n",
    "        if height <=0:\n",
    "            raise ValueError(\"Height must be positive\")\n",
    "        else:\n",
    "            self._height = height\n",
    "\n",
    "    def __str__(self):\n",
    "        return 'Rectangle: width={0}, height={1}'.format(self.width, self.height)\n",
    "    def __repr__(self):\n",
    "        return 'Rectangle({0}, {1})'.format(self.width, self.height)"
   ]
  },
  {
   "cell_type": "code",
   "execution_count": 6,
   "metadata": {
    "cell_id": "f6698351-b89b-4fff-bf6a-bc1877f802f8",
    "tags": []
   },
   "outputs": [],
   "source": [
    "r1 = Rectangle(10, 20)"
   ]
  },
  {
   "cell_type": "code",
   "execution_count": 7,
   "metadata": {
    "cell_id": "37f6c2b2-58a9-4390-9d1f-2e925bfd5b93",
    "tags": []
   },
   "outputs": [
    {
     "data": {
      "text/plain": [
       "(10, 20)"
      ]
     },
     "execution_count": 7,
     "metadata": {},
     "output_type": "execute_result"
    }
   ],
   "source": [
    "r1.width, r1.height"
   ]
  },
  {
   "cell_type": "code",
   "execution_count": 10,
   "metadata": {
    "cell_id": "084e09e9-296c-4835-bc97-14d015f963b6",
    "tags": []
   },
   "outputs": [],
   "source": [
    "r1 = Rectangle(-100, 10)"
   ]
  },
  {
   "cell_type": "code",
   "execution_count": 12,
   "metadata": {
    "cell_id": "322ebaff-0d4b-4635-9f96-9c9bffb112f5",
    "tags": []
   },
   "outputs": [],
   "source": [
    "class Rectangle:  \n",
    "    def __init__(self, width, height):\n",
    "        self.width = width #properties\n",
    "        self.height = height\n",
    "\n",
    "    @property\n",
    "    def width(self):\n",
    "        return self.width\n",
    "\n",
    "    @width.setter\n",
    "    def width(self, width):\n",
    "        if width <=0:\n",
    "            raise ValueError(\"Width must be positive\")\n",
    "        else:\n",
    "            print(\"I was called\")\n",
    "            self.width() = width\n",
    "    \n",
    "    @property\n",
    "    def height(self):\n",
    "        return self.height\n",
    "\n",
    "    @height.setter\n",
    "    def height(self, height):\n",
    "        if height <=0:\n",
    "            raise ValueError(\"Height must be positive\")\n",
    "        else:\n",
    "            self.height = height"
   ]
  },
  {
   "cell_type": "code",
   "execution_count": 13,
   "metadata": {
    "cell_id": "f4a51e88-f2e3-4f82-b22e-e2597792c0df",
    "tags": []
   },
   "outputs": [
    {
     "ename": "ValueError",
     "evalue": "Width must be positive",
     "output_type": "error",
     "traceback": [
      "\u001b[0;31m---------------------------------------------------------------------------\u001b[0m",
      "\u001b[0;31mValueError\u001b[0m                                Traceback (most recent call last)",
      "\u001b[0;32m<ipython-input-13-d74809290edd>\u001b[0m in \u001b[0;36m<module>\u001b[0;34m\u001b[0m\n\u001b[0;32m----> 1\u001b[0;31m \u001b[0mr1\u001b[0m \u001b[0;34m=\u001b[0m \u001b[0mRectangle\u001b[0m\u001b[0;34m(\u001b[0m\u001b[0;34m-\u001b[0m\u001b[0;36m100\u001b[0m\u001b[0;34m,\u001b[0m \u001b[0;36m10\u001b[0m\u001b[0;34m)\u001b[0m\u001b[0;34m\u001b[0m\u001b[0;34m\u001b[0m\u001b[0m\n\u001b[0m",
      "\u001b[0;32m<ipython-input-12-53311a0ebeac>\u001b[0m in \u001b[0;36m__init__\u001b[0;34m(self, width, height)\u001b[0m\n\u001b[1;32m      1\u001b[0m \u001b[0;32mclass\u001b[0m \u001b[0mRectangle\u001b[0m\u001b[0;34m:\u001b[0m\u001b[0;34m\u001b[0m\u001b[0;34m\u001b[0m\u001b[0m\n\u001b[1;32m      2\u001b[0m     \u001b[0;32mdef\u001b[0m \u001b[0m__init__\u001b[0m\u001b[0;34m(\u001b[0m\u001b[0mself\u001b[0m\u001b[0;34m,\u001b[0m \u001b[0mwidth\u001b[0m\u001b[0;34m,\u001b[0m \u001b[0mheight\u001b[0m\u001b[0;34m)\u001b[0m\u001b[0;34m:\u001b[0m\u001b[0;34m\u001b[0m\u001b[0;34m\u001b[0m\u001b[0m\n\u001b[0;32m----> 3\u001b[0;31m         \u001b[0mself\u001b[0m\u001b[0;34m.\u001b[0m\u001b[0mwidth\u001b[0m \u001b[0;34m=\u001b[0m \u001b[0mwidth\u001b[0m \u001b[0;31m#properties\u001b[0m\u001b[0;34m\u001b[0m\u001b[0;34m\u001b[0m\u001b[0m\n\u001b[0m\u001b[1;32m      4\u001b[0m         \u001b[0mself\u001b[0m\u001b[0;34m.\u001b[0m\u001b[0mheight\u001b[0m \u001b[0;34m=\u001b[0m \u001b[0mheight\u001b[0m\u001b[0;34m\u001b[0m\u001b[0;34m\u001b[0m\u001b[0m\n\u001b[1;32m      5\u001b[0m \u001b[0;34m\u001b[0m\u001b[0m\n",
      "\u001b[0;32m<ipython-input-12-53311a0ebeac>\u001b[0m in \u001b[0;36mwidth\u001b[0;34m(self, width)\u001b[0m\n\u001b[1;32m     11\u001b[0m     \u001b[0;32mdef\u001b[0m \u001b[0mwidth\u001b[0m\u001b[0;34m(\u001b[0m\u001b[0mself\u001b[0m\u001b[0;34m,\u001b[0m \u001b[0mwidth\u001b[0m\u001b[0;34m)\u001b[0m\u001b[0;34m:\u001b[0m\u001b[0;34m\u001b[0m\u001b[0;34m\u001b[0m\u001b[0m\n\u001b[1;32m     12\u001b[0m         \u001b[0;32mif\u001b[0m \u001b[0mwidth\u001b[0m \u001b[0;34m<=\u001b[0m\u001b[0;36m0\u001b[0m\u001b[0;34m:\u001b[0m\u001b[0;34m\u001b[0m\u001b[0;34m\u001b[0m\u001b[0m\n\u001b[0;32m---> 13\u001b[0;31m             \u001b[0;32mraise\u001b[0m \u001b[0mValueError\u001b[0m\u001b[0;34m(\u001b[0m\u001b[0;34m\"Width must be positive\"\u001b[0m\u001b[0;34m)\u001b[0m\u001b[0;34m\u001b[0m\u001b[0;34m\u001b[0m\u001b[0m\n\u001b[0m\u001b[1;32m     14\u001b[0m         \u001b[0;32melse\u001b[0m\u001b[0;34m:\u001b[0m\u001b[0;34m\u001b[0m\u001b[0;34m\u001b[0m\u001b[0m\n\u001b[1;32m     15\u001b[0m             \u001b[0mprint\u001b[0m\u001b[0;34m(\u001b[0m\u001b[0;34m\"I was called\"\u001b[0m\u001b[0;34m)\u001b[0m\u001b[0;34m\u001b[0m\u001b[0;34m\u001b[0m\u001b[0m\n",
      "\u001b[0;31mValueError\u001b[0m: Width must be positive"
     ]
    }
   ],
   "source": [
    "r1 = Rectangle(-100, 10)"
   ]
  },
  {
   "cell_type": "code",
   "execution_count": null,
   "metadata": {
    "cell_id": "45d8251a-9ab1-438e-82f4-a93f2582cd90",
    "tags": []
   },
   "outputs": [],
   "source": [
    "@authenticate\n",
    "def show_password():\n",
    "    print(pas)"
   ]
  }
 ],
 "metadata": {
  "deepnote_execution_queue": [],
  "deepnote_notebook_id": "41a3e48d-da45-4825-b7fe-b2cef3f904f2",
  "kernelspec": {
   "display_name": "Python 3",
   "language": "python",
   "name": "python3"
  },
  "language_info": {
   "codemirror_mode": {
    "name": "ipython",
    "version": 3
   },
   "file_extension": ".py",
   "mimetype": "text/x-python",
   "name": "python",
   "nbconvert_exporter": "python",
   "pygments_lexer": "ipython3",
   "version": "3.7.4"
  }
 },
 "nbformat": 4,
 "nbformat_minor": 2
}
