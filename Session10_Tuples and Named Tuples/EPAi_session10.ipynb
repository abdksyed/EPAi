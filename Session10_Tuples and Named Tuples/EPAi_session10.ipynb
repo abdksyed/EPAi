{
  "nbformat": 4,
  "nbformat_minor": 0,
  "metadata": {
    "colab": {
      "name": "EPAi_session10.ipynb",
      "provenance": [],
      "collapsed_sections": []
    },
    "kernelspec": {
      "name": "python3",
      "display_name": "Python 3"
    }
  },
  "cells": [
    {
      "cell_type": "code",
      "metadata": {
        "id": "KQWT6mffiPnr",
        "outputId": "59d80568-ed88-4a39-f7b7-86a39962f3f0",
        "colab": {
          "base_uri": "https://localhost:8080/",
          "height": 153
        }
      },
      "source": [
        "!pip install faker"
      ],
      "execution_count": null,
      "outputs": [
        {
          "output_type": "stream",
          "text": [
            "Collecting faker\n",
            "\u001b[?25l  Downloading https://files.pythonhosted.org/packages/00/08/857391332cd44d9c7d9f80eb1e8a62c58130dd5373a6145386af926ab73a/Faker-4.1.4-py3-none-any.whl (1.0MB)\n",
            "\u001b[K     |████████████████████████████████| 1.1MB 2.7MB/s \n",
            "\u001b[?25hRequirement already satisfied: text-unidecode==1.3 in /usr/local/lib/python3.6/dist-packages (from faker) (1.3)\n",
            "Requirement already satisfied: python-dateutil>=2.4 in /usr/local/lib/python3.6/dist-packages (from faker) (2.8.1)\n",
            "Requirement already satisfied: six>=1.5 in /usr/local/lib/python3.6/dist-packages (from python-dateutil>=2.4->faker) (1.15.0)\n",
            "Installing collected packages: faker\n",
            "Successfully installed faker-4.1.4\n"
          ],
          "name": "stdout"
        }
      ]
    },
    {
      "cell_type": "code",
      "metadata": {
        "id": "oFmnX57piZIz"
      },
      "source": [
        "from faker import Faker\n",
        "from collections import namedtuple\n",
        "from time import perf_counter\n",
        "from datetime import date\n",
        "from dateutil.relativedelta import relativedelta\n",
        "from collections import Counter\n",
        "from statistics import mean\n",
        "from operator import attrgetter\n",
        "import random\n",
        "import re\n",
        "import string\n",
        "from matplotlib import pyplot as plt\n",
        "import pandas as pd"
      ],
      "execution_count": null,
      "outputs": []
    },
    {
      "cell_type": "code",
      "metadata": {
        "id": "QIGFE2Fyk4me"
      },
      "source": [
        "#Decorator to Check Performance\n",
        "\n",
        "def timed(n:'Number of Iterations') -> 'Decorator':\n",
        "    '''\n",
        "    function acts as a decorator factory which takes function repetation count\n",
        "    as argument.\n",
        "    returns the decorator\n",
        "    '''\n",
        "    def timed_inner(fn:'Funciton') -> 'closure':\n",
        "        '''\n",
        "        function acts as a decorator which runs the given function for\n",
        "        specified number of times using closure.\n",
        "        returns the closure\n",
        "        '''\n",
        "        def inner(*args, **kwargs):\n",
        "            start = perf_counter()\n",
        "            for _ in range(n):\n",
        "                result = fn(*args, **kwargs)\n",
        "            end = perf_counter()\n",
        "\n",
        "            return result, f'Average Time to Run the Function is: {(end-start)/n :.3f}'\n",
        "\n",
        "        return inner\n",
        "    \n",
        "    return timed_inner"
      ],
      "execution_count": null,
      "outputs": []
    },
    {
      "cell_type": "markdown",
      "metadata": {
        "id": "4-l8FW9pidV8"
      },
      "source": [
        "### Approach Named Tuple"
      ]
    },
    {
      "cell_type": "code",
      "metadata": {
        "id": "6VSRqu8piRlg"
      },
      "source": [
        "@timed(1)\n",
        "def nt_approach(n: 'Number of Profiles') -> 'Named Tuple of Statstics':\n",
        "    '''\n",
        "    function generates a profile of a person using faker library and\n",
        "    using namedtuple, calculates the largest blood type, mean_location,\n",
        "    oldest_person_age and average age using the namedtuple.\n",
        "    returns namedtuple of the above data.\n",
        "    '''\n",
        "    Data = namedtuple('Data', Faker().profile().keys())\n",
        "    Data.__doc__ = 'Fake personnel profile using faker library'\n",
        "\n",
        "    nt_list = []\n",
        "    '''Reason for using List - Using another Named Tuple to stroe 10000 tuples, will be not feasible,\n",
        "    as NamedTuple allows maximum 255 variables, and all if we need to add one more,\n",
        "    we need to create an entire new NamedTuple with 10,001 variables, hihgly Ineffecient.'''\n",
        "    for _ in range(n):\n",
        "        prof = Faker().profile()\n",
        "        prof = Data(**prof)\n",
        "        nt_list.append(prof)\n",
        "\n",
        "    ages, blood, location = [], [], []\n",
        "    for tup in nt_list:\n",
        "        ages.append(relativedelta(date.today(), tup.birthdate).years)\n",
        "        blood.append(tup.blood_group)\n",
        "        location.append(tup.current_location)\n",
        "    oldest_person = max(ages)\n",
        "    highest_blood = max(Counter(blood).items(), key=lambda item: item[1])\n",
        "    mean_location = tuple(map(lambda x: sum(x)/len(x), zip(*location)))\n",
        "    average_age = mean(ages)\n",
        "    Stat = namedtuple('Stat', 'oldest_person, highest_blood, mean_location, average_age')\n",
        "    Stat.__doc__ = '''Statistics of profile data showing the largest present \n",
        "    blood type, mean current location, oldest person age and average age using the namedtuple'''\n",
        "    result = Stat(oldest_person, highest_blood, mean_location, average_age)\n",
        "\n",
        "    return  result\n",
        "\n",
        "nt_result, nt_avg_time = nt_approach(10000)"
      ],
      "execution_count": null,
      "outputs": []
    },
    {
      "cell_type": "markdown",
      "metadata": {
        "id": "c9isDdyoabj7"
      },
      "source": [
        "### Approach Dictionary"
      ]
    },
    {
      "cell_type": "code",
      "metadata": {
        "id": "8yI0u-s2iR99"
      },
      "source": [
        "@timed(1)\n",
        "def dict_approach(n: 'Number of Profiles') -> 'Dictionary of Statstics':\n",
        "    '''\n",
        "    function generates a profile of a person using faker library and\n",
        "    using dictionary, calculates the largest blood type, mean-current_location,\n",
        "    oldest_person_age and average age.\n",
        "    returns dictionary of the above data.\n",
        "    '''\n",
        "    dict_list = []\n",
        "    for _ in range(n):\n",
        "        prof = Faker().profile()\n",
        "        dict_list.append(prof)\n",
        "\n",
        "    ages, blood, location = [], [], []\n",
        "    for prof in dict_list:\n",
        "        ages.append(relativedelta(date.today(), prof['birthdate']).years)\n",
        "        blood.append(prof['blood_group'])\n",
        "        location.append(prof['current_location'])\n",
        "    oldest_person = max(ages)\n",
        "    highest_blood = max(Counter(blood).items(), key=lambda item: item[1])\n",
        "    mean_location = tuple(map(lambda x: sum(x)/len(x), zip(*location)))\n",
        "    average_age = mean(ages)\n",
        "\n",
        "    return  {'oldest_person': oldest_person, 'highest_blood': highest_blood, 'mean_location': mean_location, 'average_age': average_age}\n",
        "\n",
        "dict_result, dict_avg_time = dict_approach(10000)"
      ],
      "execution_count": null,
      "outputs": []
    },
    {
      "cell_type": "code",
      "metadata": {
        "id": "XTjpoIZtSR_G",
        "outputId": "bb0483be-ffc4-4795-a1ce-d36c38990388",
        "colab": {
          "base_uri": "https://localhost:8080/",
          "height": 170
        }
      },
      "source": [
        "print('--- Named Tuple ---')\n",
        "print('Named Tuple Result: ', nt_result)\n",
        "print('Named Tuple Approach Average Time: ', nt_avg_time)\n",
        "print('--- Dictionary ---')\n",
        "print('Dictionary Result: ', dict_result)\n",
        "print('Dictionary Approach Average Time: ', dict_avg_time)\n",
        "print('\\n   Which is Faster?\\n   Ans:', ('Named Tuple' if nt_avg_time < dict_avg_time else 'Dictionary'))"
      ],
      "execution_count": null,
      "outputs": [
        {
          "output_type": "stream",
          "text": [
            "--- Named Tuple ---\n",
            "Named Tuple Result:  Stat(oldest_person=115, highest_blood=('AB-', 1300), mean_location=(Decimal('0.0350163466'), Decimal('0.2791915216')), average_age=57.4241)\n",
            "Named Tuple Approach Average Time:  Average Time to Run the Function is: 187.309\n",
            "--- Dictionary ---\n",
            "Dictionary Result:  {'oldest_person': 115, 'highest_blood': ('A+', 1304), 'mean_location': (Decimal('-0.3385817739'), Decimal('0.0082666902')), 'average_age': 57.2125}\n",
            "Dictionary Approach Average Time:  Average Time to Run the Function is: 187.804\n",
            "\n",
            "   Which is Faster?\n",
            "   Ans: Named Tuple\n"
          ],
          "name": "stdout"
        }
      ]
    },
    {
      "cell_type": "markdown",
      "metadata": {
        "id": "yy4BfY6PdRgZ"
      },
      "source": [
        "### TSAI Stock Exchange!"
      ]
    },
    {
      "cell_type": "code",
      "metadata": {
        "id": "J6CVnuvacBhT"
      },
      "source": [
        "def simulate_stock(days:'Number of Days to Run Simulation') -> 'Decorator':\n",
        "    '''\n",
        "    function acts as a decorator factory which takes number of days to\n",
        "    simulate the stock exchange.\n",
        "    returns the decorator\n",
        "    '''\n",
        "    def simulate_inner(fn:'Funciton') -> 'closure':\n",
        "        '''\n",
        "        function acts as a decorator which runs the given function for\n",
        "        specified number of days using closure.\n",
        "        returns the closure\n",
        "        '''\n",
        "        def inner(*args, **kwargs):\n",
        "            open, close, high, low = [],[],[],[]\n",
        "            for _ in range(days):\n",
        "                index = fn(*args, **kwargs)\n",
        "                open.append(index.open)\n",
        "                close.append(index.close)\n",
        "                high.append(index.high)\n",
        "                low.append(index.low)\n",
        "            History = namedtuple('History', 'open high low close')\n",
        "            history = History(open, high, low, close)\n",
        "\n",
        "            return history\n",
        "\n",
        "        return inner\n",
        "    \n",
        "    return simulate_inner"
      ],
      "execution_count": null,
      "outputs": []
    },
    {
      "cell_type": "code",
      "metadata": {
        "id": "SLjB2M2CwDEq"
      },
      "source": [
        "@timed(1)\n",
        "def stock(count:'number of comapanies') -> 'tuple':\n",
        "    '''\n",
        "    function generates a company stock profile for market value using faker\n",
        "    library and simulates instantaneous market trend.\n",
        "    returns list of comapanies stock profiles and contribution to stock_market.\n",
        "    '''\n",
        "    exc = [] #Parent Stock Exchange List which will contain all the Companies Named Tuples.\n",
        "    Stock = namedtuple('Stock', 'index, name, open, high, low, close, contribution')\n",
        "    Stock.__doc__ = \"Company stock profile with current market trend values\"\n",
        "    weights = [random.uniform(0.2,0.8) for _ in range(100)]\n",
        "    norm_wts = [x/sum(weights) for x in weights]\n",
        "    index_l = [] #List to store index and maintain all unique indexes.\n",
        "    for i in range(count):\n",
        "        comp_name = Faker().company()\n",
        "        comp_index = ''.join(i[:3] for i in re.split('[ -]+', comp_name.replace('and', ' ').upper(), 1))[:5]\n",
        "        while True:\n",
        "            if comp_index not in index_l:\n",
        "                index_l.append(comp_index)\n",
        "                break\n",
        "            comp_index = comp_index[:4] + random.choice(string.ascii_uppercase)\n",
        "        open = random.randint(80,950)\n",
        "        close = round(open * random.uniform(0.8,1.2))\n",
        "        high = round(open * random.uniform(1,1.6))\n",
        "        high = close if close > high else high\n",
        "        low = round(open * random.uniform(0.6,1))\n",
        "        low = close if close < low else low\n",
        "        comp = Stock(comp_index, comp_name, open, high, low, close, norm_wts[i])\n",
        "        exc.append(comp)\n",
        "    \n",
        "    return exc"
      ],
      "execution_count": null,
      "outputs": []
    },
    {
      "cell_type": "markdown",
      "metadata": {
        "id": "ax5mxLgQ2rgQ"
      },
      "source": [
        "#### List of Companies "
      ]
    },
    {
      "cell_type": "code",
      "metadata": {
        "id": "Rpg6RZmj1_TB"
      },
      "source": [
        "df = pd.DataFrame(stock(100)[0], columns= ['Index', 'Name', 'Open', 'High', 'Low', \"Close\", \"Contribution to Index\"])"
      ],
      "execution_count": null,
      "outputs": []
    },
    {
      "cell_type": "code",
      "metadata": {
        "id": "KTLvUZ1m2eBP",
        "outputId": "8c684271-fb30-4bc4-e01c-7695a26d4dd6",
        "colab": {
          "base_uri": "https://localhost:8080/",
          "height": 514
        }
      },
      "source": [
        "df.head(15)"
      ],
      "execution_count": null,
      "outputs": [
        {
          "output_type": "execute_result",
          "data": {
            "text/html": [
              "<div>\n",
              "<style scoped>\n",
              "    .dataframe tbody tr th:only-of-type {\n",
              "        vertical-align: middle;\n",
              "    }\n",
              "\n",
              "    .dataframe tbody tr th {\n",
              "        vertical-align: top;\n",
              "    }\n",
              "\n",
              "    .dataframe thead th {\n",
              "        text-align: right;\n",
              "    }\n",
              "</style>\n",
              "<table border=\"1\" class=\"dataframe\">\n",
              "  <thead>\n",
              "    <tr style=\"text-align: right;\">\n",
              "      <th></th>\n",
              "      <th>Index</th>\n",
              "      <th>Name</th>\n",
              "      <th>Open</th>\n",
              "      <th>High</th>\n",
              "      <th>Low</th>\n",
              "      <th>Close</th>\n",
              "      <th>Contribution to Index</th>\n",
              "    </tr>\n",
              "  </thead>\n",
              "  <tbody>\n",
              "    <tr>\n",
              "      <th>0</th>\n",
              "      <td>MCKSA</td>\n",
              "      <td>Mcknight, Sanchez and Hobbs</td>\n",
              "      <td>549</td>\n",
              "      <td>746</td>\n",
              "      <td>503</td>\n",
              "      <td>507</td>\n",
              "      <td>0.012218</td>\n",
              "    </tr>\n",
              "    <tr>\n",
              "      <th>1</th>\n",
              "      <td>LEEHE</td>\n",
              "      <td>Lee, Herrera and Williams</td>\n",
              "      <td>122</td>\n",
              "      <td>137</td>\n",
              "      <td>89</td>\n",
              "      <td>129</td>\n",
              "      <td>0.015146</td>\n",
              "    </tr>\n",
              "    <tr>\n",
              "      <th>2</th>\n",
              "      <td>LEWSO</td>\n",
              "      <td>Lewis and Sons</td>\n",
              "      <td>191</td>\n",
              "      <td>302</td>\n",
              "      <td>151</td>\n",
              "      <td>162</td>\n",
              "      <td>0.012780</td>\n",
              "    </tr>\n",
              "    <tr>\n",
              "      <th>3</th>\n",
              "      <td>ANDGR</td>\n",
              "      <td>Anderson Group</td>\n",
              "      <td>760</td>\n",
              "      <td>869</td>\n",
              "      <td>552</td>\n",
              "      <td>735</td>\n",
              "      <td>0.004416</td>\n",
              "    </tr>\n",
              "    <tr>\n",
              "      <th>4</th>\n",
              "      <td>STEBA</td>\n",
              "      <td>Stewart, Bailey and Houston</td>\n",
              "      <td>377</td>\n",
              "      <td>550</td>\n",
              "      <td>292</td>\n",
              "      <td>449</td>\n",
              "      <td>0.005196</td>\n",
              "    </tr>\n",
              "    <tr>\n",
              "      <th>5</th>\n",
              "      <td>BAUDU</td>\n",
              "      <td>Bauer-Duran</td>\n",
              "      <td>779</td>\n",
              "      <td>969</td>\n",
              "      <td>734</td>\n",
              "      <td>734</td>\n",
              "      <td>0.010696</td>\n",
              "    </tr>\n",
              "    <tr>\n",
              "      <th>6</th>\n",
              "      <td>LEWLI</td>\n",
              "      <td>Lewis, Little and Keller</td>\n",
              "      <td>457</td>\n",
              "      <td>497</td>\n",
              "      <td>403</td>\n",
              "      <td>412</td>\n",
              "      <td>0.011310</td>\n",
              "    </tr>\n",
              "    <tr>\n",
              "      <th>7</th>\n",
              "      <td>ZIMOB</td>\n",
              "      <td>Zimmerman, Obrien and Walsh</td>\n",
              "      <td>499</td>\n",
              "      <td>641</td>\n",
              "      <td>469</td>\n",
              "      <td>544</td>\n",
              "      <td>0.009874</td>\n",
              "    </tr>\n",
              "    <tr>\n",
              "      <th>8</th>\n",
              "      <td>LEWPA</td>\n",
              "      <td>Lewis-Patel</td>\n",
              "      <td>492</td>\n",
              "      <td>600</td>\n",
              "      <td>463</td>\n",
              "      <td>554</td>\n",
              "      <td>0.010043</td>\n",
              "    </tr>\n",
              "    <tr>\n",
              "      <th>9</th>\n",
              "      <td>CONLL</td>\n",
              "      <td>Conrad LLC</td>\n",
              "      <td>571</td>\n",
              "      <td>848</td>\n",
              "      <td>382</td>\n",
              "      <td>554</td>\n",
              "      <td>0.011457</td>\n",
              "    </tr>\n",
              "    <tr>\n",
              "      <th>10</th>\n",
              "      <td>DUALA</td>\n",
              "      <td>Duarte-Lane</td>\n",
              "      <td>910</td>\n",
              "      <td>1350</td>\n",
              "      <td>680</td>\n",
              "      <td>831</td>\n",
              "      <td>0.012679</td>\n",
              "    </tr>\n",
              "    <tr>\n",
              "      <th>11</th>\n",
              "      <td>GRERO</td>\n",
              "      <td>Green-Roth</td>\n",
              "      <td>624</td>\n",
              "      <td>865</td>\n",
              "      <td>482</td>\n",
              "      <td>593</td>\n",
              "      <td>0.008337</td>\n",
              "    </tr>\n",
              "    <tr>\n",
              "      <th>12</th>\n",
              "      <td>LONLL</td>\n",
              "      <td>Long LLC</td>\n",
              "      <td>800</td>\n",
              "      <td>968</td>\n",
              "      <td>612</td>\n",
              "      <td>709</td>\n",
              "      <td>0.013667</td>\n",
              "    </tr>\n",
              "    <tr>\n",
              "      <th>13</th>\n",
              "      <td>LARLL</td>\n",
              "      <td>Lara LLC</td>\n",
              "      <td>365</td>\n",
              "      <td>460</td>\n",
              "      <td>315</td>\n",
              "      <td>323</td>\n",
              "      <td>0.008670</td>\n",
              "    </tr>\n",
              "    <tr>\n",
              "      <th>14</th>\n",
              "      <td>MAYBR</td>\n",
              "      <td>May-Browning</td>\n",
              "      <td>84</td>\n",
              "      <td>111</td>\n",
              "      <td>68</td>\n",
              "      <td>68</td>\n",
              "      <td>0.007174</td>\n",
              "    </tr>\n",
              "  </tbody>\n",
              "</table>\n",
              "</div>"
            ],
            "text/plain": [
              "    Index                         Name  Open  ...  Low  Close  Contribution to Index\n",
              "0   MCKSA  Mcknight, Sanchez and Hobbs   549  ...  503    507               0.012218\n",
              "1   LEEHE    Lee, Herrera and Williams   122  ...   89    129               0.015146\n",
              "2   LEWSO               Lewis and Sons   191  ...  151    162               0.012780\n",
              "3   ANDGR               Anderson Group   760  ...  552    735               0.004416\n",
              "4   STEBA  Stewart, Bailey and Houston   377  ...  292    449               0.005196\n",
              "5   BAUDU                  Bauer-Duran   779  ...  734    734               0.010696\n",
              "6   LEWLI     Lewis, Little and Keller   457  ...  403    412               0.011310\n",
              "7   ZIMOB  Zimmerman, Obrien and Walsh   499  ...  469    544               0.009874\n",
              "8   LEWPA                  Lewis-Patel   492  ...  463    554               0.010043\n",
              "9   CONLL                   Conrad LLC   571  ...  382    554               0.011457\n",
              "10  DUALA                  Duarte-Lane   910  ...  680    831               0.012679\n",
              "11  GRERO                   Green-Roth   624  ...  482    593               0.008337\n",
              "12  LONLL                     Long LLC   800  ...  612    709               0.013667\n",
              "13  LARLL                     Lara LLC   365  ...  315    323               0.008670\n",
              "14  MAYBR                 May-Browning    84  ...   68     68               0.007174\n",
              "\n",
              "[15 rows x 7 columns]"
            ]
          },
          "metadata": {
            "tags": []
          },
          "execution_count": 213
        }
      ]
    },
    {
      "cell_type": "code",
      "metadata": {
        "id": "zoRNoBLyVufD"
      },
      "source": [
        "@timed(1)\n",
        "@simulate_stock(10)\n",
        "def tsai_index(num_comp:'Number of Companies') -> 'The Index Fund':\n",
        "    \"\"\"\n",
        "    Generates and gives the Index open, high and close of a \n",
        "    small stock exchange simulation of listed stocks.\n",
        "    input: num_comp, number of companies in the exchange\n",
        "    output: namedtuple('TSAIEX', 'Open High Low Close')\n",
        "    \"\"\"\n",
        "    TSAI = namedtuple('TSAI', 'open high low close')\n",
        "    TSAI.__doc__ = 'Shows the market trend as whole.'\n",
        "    open, high, low, close = 0,0,0,0\n",
        "    companies, comapnies_avg_time = stock(num_comp)\n",
        "    for i in companies:\n",
        "        open += round(i.open * i.contribution)\n",
        "        high += round(i.high * i.contribution)\n",
        "        low += round(i.low * i.contribution)\n",
        "        close += round(i.close * i.contribution)\n",
        "    #Index Checks:\n",
        "    high = close if close > high else high\n",
        "    low = close if close < low else low\n",
        "    tsai_index = TSAI(open, high, low, close)\n",
        "\n",
        "    return tsai_index"
      ],
      "execution_count": null,
      "outputs": []
    },
    {
      "cell_type": "markdown",
      "metadata": {
        "id": "pEG4wIRV20Gl"
      },
      "source": [
        "#### Index Simulation"
      ]
    },
    {
      "cell_type": "code",
      "metadata": {
        "id": "88WRQzexyBAu"
      },
      "source": [
        "index, avg_time = tsai_index(100)"
      ],
      "execution_count": null,
      "outputs": []
    },
    {
      "cell_type": "code",
      "metadata": {
        "id": "C3RUWNl-zm5U",
        "outputId": "b7ab77fd-7d79-4d17-f7b5-0015cc7c9764",
        "colab": {
          "base_uri": "https://localhost:8080/",
          "height": 54
        }
      },
      "source": [
        "index"
      ],
      "execution_count": null,
      "outputs": [
        {
          "output_type": "execute_result",
          "data": {
            "text/plain": [
              "History(open=[526, 494, 519, 505, 458, 485, 512, 505, 500, 555], high=[694, 633, 689, 648, 611, 631, 670, 665, 655, 728], low=[410, 394, 398, 404, 366, 386, 407, 404, 401, 433], close=[530, 503, 519, 511, 458, 479, 516, 513, 495, 552])"
            ]
          },
          "metadata": {
            "tags": []
          },
          "execution_count": 190
        }
      ]
    },
    {
      "cell_type": "code",
      "metadata": {
        "id": "PQ-3MkQjySCV",
        "outputId": "12769b89-d9bf-4346-ce39-70662a24883e",
        "colab": {
          "base_uri": "https://localhost:8080/",
          "height": 514
        }
      },
      "source": [
        "plt.figure(figsize=(12,8))\n",
        "plt.plot(index.open, 'r', index.high, 'g', index.low, 'y', index.close, 'b')\n",
        "plt.legend('OHLC')\n",
        "plt.xlabel('Days')\n",
        "plt.ylabel('₨')"
      ],
      "execution_count": null,
      "outputs": [
        {
          "output_type": "execute_result",
          "data": {
            "text/plain": [
              "Text(0, 0.5, '₨')"
            ]
          },
          "metadata": {
            "tags": []
          },
          "execution_count": 207
        },
        {
          "output_type": "display_data",
          "data": {
            "image/png": "[encoded data removed]",
            "text/plain": [
              "<Figure size 864x576 with 1 Axes>"
            ]
          },
          "metadata": {
            "tags": [],
            "needs_background": "light"
          }
        }
      ]
    }
  ]
}